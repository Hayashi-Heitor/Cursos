{
  "nbformat": 4,
  "nbformat_minor": 0,
  "metadata": {
    "colab": {
      "provenance": []
    },
    "kernelspec": {
      "name": "python3",
      "display_name": "Python 3"
    },
    "language_info": {
      "name": "python"
    }
  },
  "cells": [
    {
      "cell_type": "markdown",
      "source": [
        "\n",
        "# **Lista de exercícios 3** *(Heitor Hayashi Ferrairo)*, caso tenha algum comentário ou encontre algum erro me notifique por gentileza!\n",
        "\n",
        "---"
      ],
      "metadata": {
        "id": "RcR_J1JZ0W1G"
      }
    },
    {
      "cell_type": "markdown",
      "source": [
        "1. Crie um programa que peça ao usuário uma string e mostre o comprimento dela como saída."
      ],
      "metadata": {
        "id": "xcVVJ4PU0kW8"
      }
    },
    {
      "cell_type": "code",
      "execution_count": null,
      "metadata": {
        "colab": {
          "base_uri": "https://localhost:8080/"
        },
        "id": "KbdoDZEc0WIw",
        "outputId": "e18e5d34-1b6a-43ac-b91a-297ec5e62a4b"
      },
      "outputs": [
        {
          "output_type": "stream",
          "name": "stdout",
          "text": [
            "Informe a string: Teste\n",
            "A string Teste tem 5 Caracteres\n"
          ]
        }
      ],
      "source": [
        "string = input(\"Informe a string: \")\n",
        "tamanhoDaString = len(string)\n",
        "\n",
        "print(f\"A string {string} tem {tamanhoDaString} Caracteres\")"
      ]
    },
    {
      "cell_type": "markdown",
      "source": [
        "2. Crie um programa que solicite ao usuário duas strings e verifique se a segunda string é uma substring da primeira."
      ],
      "metadata": {
        "id": "cAVhYPH208iG"
      }
    },
    {
      "cell_type": "code",
      "source": [
        "primeiraString = input(\"Informe a primeira string: \")\n",
        "segundaString = input(\"Informe a segunda string: \")\n",
        "\n",
        "print(f\"{segundaString} é substring de {primeiraString}: {primeiraString.find(segundaString) > -1}\")"
      ],
      "metadata": {
        "colab": {
          "base_uri": "https://localhost:8080/"
        },
        "id": "sTct4s6k0-HL",
        "outputId": "a9f4db7c-5cad-4f22-f3ee-cd851e483d53"
      },
      "execution_count": null,
      "outputs": [
        {
          "output_type": "stream",
          "name": "stdout",
          "text": [
            "Informe a primeira string: carro\n",
            "Informe a segunda string: o\n",
            "o é substring de carro: True\n"
          ]
        }
      ]
    },
    {
      "cell_type": "markdown",
      "source": [
        "3. Solicite uma frase e: • Remova os espaços extras nas pontas; • Substitua todas as letras “a” por “@”; • Verifique se a palavra “Python” está presente."
      ],
      "metadata": {
        "id": "wlIeGH1X2ykl"
      }
    },
    {
      "cell_type": "code",
      "source": [
        "frase = input(\"Informe a frase: \")\n",
        "\n",
        "frase = frase.strip().replace(\"a\", \"@\")\n",
        "\n",
        "print(f\"A string {frase} tem a palavra Python presente: {frase.find('Python') > -1}\")"
      ],
      "metadata": {
        "colab": {
          "base_uri": "https://localhost:8080/"
        },
        "id": "A3P02j9l24EY",
        "outputId": "a9621e61-cd51-4075-e068-e5ba2bdda4ce"
      },
      "execution_count": null,
      "outputs": [
        {
          "output_type": "stream",
          "name": "stdout",
          "text": [
            "Informe a frase:      Python é muito top a    \n",
            "A string Python é muito top @ tem a palavra Python presente: True\n"
          ]
        }
      ]
    },
    {
      "cell_type": "markdown",
      "source": [
        "4. Crie um programa que substitua todos os espaços em branco de uma string por traços (-)."
      ],
      "metadata": {
        "id": "3tBZqk8t3rKU"
      }
    },
    {
      "cell_type": "code",
      "source": [
        "stringComEspaços = \"    T    e   s  t   e   \"\n",
        "\n",
        "stringComEspaços = stringComEspaços.replace(\" \", \"-\")\n",
        "\n",
        "print(stringComEspaços)"
      ],
      "metadata": {
        "colab": {
          "base_uri": "https://localhost:8080/"
        },
        "id": "SoEjKDp33sNt",
        "outputId": "fd0d95eb-2a3b-422a-faa5-96f04e5ebcbc"
      },
      "execution_count": null,
      "outputs": [
        {
          "output_type": "stream",
          "name": "stdout",
          "text": [
            "----T----e---s--t---e---\n"
          ]
        }
      ]
    },
    {
      "cell_type": "markdown",
      "source": [
        "5. Escreva um programa que peça ao usuário uma string e converta todos os caracteres para maiúsculas."
      ],
      "metadata": {
        "id": "_hx_WRj_38PD"
      }
    },
    {
      "cell_type": "code",
      "source": [
        "string = input(\"Informe a string: \")\n",
        "\n",
        "string = string.upper()\n",
        "\n",
        "print(string)"
      ],
      "metadata": {
        "colab": {
          "base_uri": "https://localhost:8080/"
        },
        "id": "2blqwVXl3_DY",
        "outputId": "16f87841-dfe8-4a2b-d2c6-61217c8af81a"
      },
      "execution_count": null,
      "outputs": [
        {
          "output_type": "stream",
          "name": "stdout",
          "text": [
            "Informe a string: Teste testoso\n",
            "TESTE TESTOSO\n"
          ]
        }
      ]
    },
    {
      "cell_type": "markdown",
      "source": [
        "6. Crie um programa que peça ao usuário uma string e remova todas as vogais."
      ],
      "metadata": {
        "id": "x8PKmd9U4Ymg"
      }
    },
    {
      "cell_type": "code",
      "source": [
        "string = input(\"Informe a string: \")\n",
        "\n",
        "string = string.replace(\"a\", \"\").replace(\"A\", \"\")\n",
        "string = string.replace(\"e\", \"\").replace(\"E\", \"\")\n",
        "string = string.replace(\"i\", \"\").replace(\"I\", \"\")\n",
        "string = string.replace(\"o\", \"\").replace(\"O\", \"\")\n",
        "string = string.replace(\"u\", \"\").replace(\"U\", \"\")\n",
        "\n",
        "print(\"String com as vogais removidas:\", string)"
      ],
      "metadata": {
        "colab": {
          "base_uri": "https://localhost:8080/"
        },
        "id": "gKVF2K2R4Z_9",
        "outputId": "91b1fb9c-60a4-4189-eabb-189d35367123"
      },
      "execution_count": null,
      "outputs": [
        {
          "output_type": "stream",
          "name": "stdout",
          "text": [
            "Informe a string: Eu amo vogais A e i O u\n",
            "String com as vogais removidas:  m vgs     \n"
          ]
        }
      ]
    },
    {
      "cell_type": "markdown",
      "source": [
        "7. Peça um nome e exiba apenas a primeira letra, usando fatiamento e upper()."
      ],
      "metadata": {
        "id": "7yvYmq8-5MiZ"
      }
    },
    {
      "cell_type": "code",
      "source": [
        "nome = input(\"Informe o nome: \")\n",
        "\n",
        "primeiraLetra = nome[:1].upper()\n",
        "\n",
        "print(f\"A primeira letra do nome {nome} é {primeiraLetra}\")"
      ],
      "metadata": {
        "colab": {
          "base_uri": "https://localhost:8080/"
        },
        "id": "JqqXdX-N5Lw4",
        "outputId": "fee57713-de41-4f56-f2c5-7c7f5d42c53f"
      },
      "execution_count": null,
      "outputs": [
        {
          "output_type": "stream",
          "name": "stdout",
          "text": [
            "Informe o nome: jose\n",
            "A primeira letra do nome jose é J\n"
          ]
        }
      ]
    },
    {
      "cell_type": "markdown",
      "source": [
        "8. Escreva um programa que peça ao usuário duas strings e verifique se elas são iguais, desconsiderando maiúsculas e minúsculas."
      ],
      "metadata": {
        "id": "b3hg86s55wIy"
      }
    },
    {
      "cell_type": "code",
      "source": [
        "primeiraString = input(\"Informe a primeira string: \")\n",
        "segundaString = input(\"Informe a segunda string: \")\n",
        "\n",
        "stringSaoIguais = primeiraString.lower() == segundaString.lower()\n",
        "\n",
        "print(f\"As strings {primeiraString} e {segundaString} são iguais: {stringSaoIguais}\")"
      ],
      "metadata": {
        "colab": {
          "base_uri": "https://localhost:8080/"
        },
        "id": "42f31AId5xeR",
        "outputId": "9c8b0505-3e9e-4ee0-ac62-6d67b9f16f43"
      },
      "execution_count": null,
      "outputs": [
        {
          "output_type": "stream",
          "name": "stdout",
          "text": [
            "Informe a primeira string: tEstE\n",
            "Informe a segunda string: TESte\n",
            "As strings tEstE e TESte são iguais: True\n"
          ]
        }
      ]
    },
    {
      "cell_type": "markdown",
      "source": [
        "9. Faça um programa que peça um email. Mostre a primeira parte e a segunda parte separadas. Ex: \"jose@gmail.com\" -> \"jose\" e \"gmail.com\"."
      ],
      "metadata": {
        "id": "Ahq8HrW-6g9g"
      }
    },
    {
      "cell_type": "code",
      "source": [
        "email = input(\"Informe o email: \")\n",
        "\n",
        "nome = email[:email.find('@')]\n",
        "domínio = email[email.find('@') + 1:]\n",
        "\n",
        "print(f\"Nome: {nome}\\nDomínio: {domínio}\")"
      ],
      "metadata": {
        "colab": {
          "base_uri": "https://localhost:8080/"
        },
        "id": "HRks5P4r6lu4",
        "outputId": "5249db05-4015-455c-a736-19271d147796"
      },
      "execution_count": null,
      "outputs": [
        {
          "output_type": "stream",
          "name": "stdout",
          "text": [
            "Informe o email: jose@gmail.com\n",
            "Nome: jose\n",
            "Domínio: gmail.com\n"
          ]
        }
      ]
    }
  ]
}