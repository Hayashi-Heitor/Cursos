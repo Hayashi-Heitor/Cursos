{
  "nbformat": 4,
  "nbformat_minor": 0,
  "metadata": {
    "colab": {
      "provenance": []
    },
    "kernelspec": {
      "name": "python3",
      "display_name": "Python 3"
    },
    "language_info": {
      "name": "python"
    }
  },
  "cells": [
    {
      "cell_type": "code",
      "execution_count": null,
      "metadata": {
        "colab": {
          "base_uri": "https://localhost:8080/"
        },
        "id": "nsNlGwh5uBMN",
        "outputId": "b2196fb9-9c5e-4f55-acc4-51dd7d33ed25"
      },
      "outputs": [
        {
          "output_type": "stream",
          "name": "stdout",
          "text": [
            "Insira um número: 5\n",
            "Insira um segundo número: 10\n",
            "A soma entre os dois números é: 15\n"
          ]
        }
      ],
      "source": [
        "x = int(input(\"Insira um número: \"))\n",
        "y = int(input(\"Insira um segundo número: \"))\n",
        "print(\"A soma entre os dois números é:\", x + y)"
      ]
    },
    {
      "cell_type": "code",
      "source": [
        "x = input(\"Insira algo: \")\n",
        "print(type(x))\n",
        "print(id(x))"
      ],
      "metadata": {
        "colab": {
          "base_uri": "https://localhost:8080/"
        },
        "id": "Mwg5dgbCuJ8i",
        "outputId": "9d03ad6c-d898-498e-9852-738c3b70df8f"
      },
      "execution_count": null,
      "outputs": [
        {
          "output_type": "stream",
          "name": "stdout",
          "text": [
            "Insira algo: carro\n",
            "<class 'str'>\n",
            "138132049607792\n"
          ]
        }
      ]
    },
    {
      "cell_type": "code",
      "source": [
        "x = int(input(\"Informe um número: \"))\n",
        "print(\"Antecessor:\", x-1)\n",
        "print(\"Sucessor:\", x+1)"
      ],
      "metadata": {
        "colab": {
          "base_uri": "https://localhost:8080/"
        },
        "id": "viwZXeMguLnS",
        "outputId": "562d9021-070d-4441-a0c7-fc35cd10e7e6"
      },
      "execution_count": null,
      "outputs": [
        {
          "output_type": "stream",
          "name": "stdout",
          "text": [
            "Informe um número6\n",
            "Antecessor: 5\n",
            "Sucessor: 7\n"
          ]
        }
      ]
    },
    {
      "cell_type": "code",
      "source": [
        "int(input(\"Insira um número: \"))\n",
        "print(f\"Dobro: {x*2} Triplo: {x*3} ao quadrado: {x*x}\")"
      ],
      "metadata": {
        "colab": {
          "base_uri": "https://localhost:8080/"
        },
        "id": "cYgiSxY7ud7a",
        "outputId": "c3d82418-0c68-43e0-9ad2-e6ef661af1ef"
      },
      "execution_count": null,
      "outputs": [
        {
          "output_type": "stream",
          "name": "stdout",
          "text": [
            "Insira um número: 5\n",
            "Dobro: 12 Triplo: 18 ao quadrado: 36\n"
          ]
        }
      ]
    },
    {
      "cell_type": "code",
      "source": [
        "nota1 = float(input(\"Insira a primeira nota do aluno:\"))\n",
        "nota2 = float(input(\"Insira a segunda nota do aluno\"))\n",
        "print(f\"Media das notas: {float(nota1 + nota2) / 2}\")"
      ],
      "metadata": {
        "colab": {
          "base_uri": "https://localhost:8080/"
        },
        "id": "uMZe9pvzu4BU",
        "outputId": "dbaf469b-4468-4446-95e5-8842c869790c"
      },
      "execution_count": null,
      "outputs": [
        {
          "output_type": "stream",
          "name": "stdout",
          "text": [
            "Insira a primeira nota do aluno:3.5\n",
            "Insira a segunda nota do aluno6.2\n",
            "Media das notas: 4.85\n"
          ]
        }
      ]
    },
    {
      "cell_type": "code",
      "source": [
        "metros = float(input(\"Insira o valor em metros: \"))\n",
        "print(f\"Valor em cetímetros: {float(metros*100)} valor em milímetros {float(metros*1000)}\")"
      ],
      "metadata": {
        "colab": {
          "base_uri": "https://localhost:8080/"
        },
        "id": "ngWHYyhAveQ0",
        "outputId": "a78c87be-5b86-491c-ca36-0c7729898f1f"
      },
      "execution_count": null,
      "outputs": [
        {
          "output_type": "stream",
          "name": "stdout",
          "text": [
            "Insira o valor em metros: 50.3\n",
            "Valor em cetímetros: 5030.0 valor em milímetros 50300.0\n"
          ]
        }
      ]
    },
    {
      "cell_type": "code",
      "source": [
        "x = int(input(\"Informe o número que será feita a tabuáda: \"))\n",
        "print(f\"{x} X 1 = {x*1}\")\n",
        "print(f\"{x} X 2 = {x*2}\")\n",
        "print(f\"{x} X 3 = {x*3}\")\n",
        "print(f\"{x} X 4 = {x*4}\")\n",
        "print(f\"{x} X 5 = {x*5}\")\n",
        "print(f\"{x} X 6 = {x*6}\")\n",
        "print(f\"{x} X 7 = {x*7}\")\n",
        "print(f\"{x} X 8 = {x*8}\")\n",
        "print(f\"{x} X 9 = {x*9}\")\n",
        "print(f\"{x} X 10 = {x*10}\")"
      ],
      "metadata": {
        "colab": {
          "base_uri": "https://localhost:8080/"
        },
        "id": "dpirL3giwQGS",
        "outputId": "1f284bc3-bcb6-4391-eef1-25a957b5986b"
      },
      "execution_count": null,
      "outputs": [
        {
          "output_type": "stream",
          "name": "stdout",
          "text": [
            "Informe o número que será feita a tabuáda: 5\n",
            "5 X 1 = 5\n",
            "5 X 2 = 10\n",
            "5 X 3 = 15\n",
            "5 X 4 = 20\n",
            "5 X 5 = 25\n",
            "5 X 6 = 30\n",
            "5 X 7 = 35\n",
            "5 X 8 = 40\n",
            "5 X 9 = 45\n",
            "5 X 10 = 50\n"
          ]
        }
      ]
    },
    {
      "cell_type": "code",
      "source": [
        "reais = float(input(\"Informe a quantidade de dinheiro: \"))\n",
        "dolares = float(reais/5.49)\n",
        "print(f\"É possivel comprar {dolares:.2f}$\")"
      ],
      "metadata": {
        "colab": {
          "base_uri": "https://localhost:8080/"
        },
        "id": "67MAUEc6xj0t",
        "outputId": "63952997-bd83-483d-f64d-0ffd821a5a05"
      },
      "execution_count": null,
      "outputs": [
        {
          "output_type": "stream",
          "name": "stdout",
          "text": [
            "Informe a quantidade de dinheiro: 50.32\n",
            "É possivel comprar 9.17$\n"
          ]
        }
      ]
    },
    {
      "cell_type": "code",
      "source": [
        "ml350 = int(input(\"Insira a quantidade de garrafas 350ml: \"))\n",
        "ml600 = int(input(\"Insira a quantidade de garrafas 600ml: \"))\n",
        "l2 = int(input(\"Insira a quantidade de garrafas 2L: \"))\n",
        "total = int((ml350 * 350 + ml600 * 600 + l2 * 2000))\n",
        "print(f\"Quantidade total produzida: {total}\")"
      ],
      "metadata": {
        "id": "vxfOM-hAyUq0"
      },
      "execution_count": null,
      "outputs": []
    },
    {
      "cell_type": "code",
      "source": [
        "preco = float(input(\"Insira o preço do produto: \"))\n",
        "desconto = preco * 0.05\n",
        "print(f\"O preço com o desconto de: {desconto} é: {preco-desconto}\")"
      ],
      "metadata": {
        "colab": {
          "base_uri": "https://localhost:8080/"
        },
        "id": "MNKdglO1zLaL",
        "outputId": "8e0a43ee-d3ba-4d37-8cac-4b37ccec1872"
      },
      "execution_count": null,
      "outputs": [
        {
          "output_type": "stream",
          "name": "stdout",
          "text": [
            "Insira o preço do produto: 50.32\n",
            "O preço com o desconto de: 2.516 é: 47.804\n"
          ]
        }
      ]
    },
    {
      "cell_type": "code",
      "source": [
        "sal = float(input(\"Informe o salário atual: \"))\n",
        "aumento = float(sal * 0.15)\n",
        "sal += aumento\n",
        "print(f\"O novo salário com o aumento de:{aumento:.2f}R$ é de: {sal:.2f}R$\")"
      ],
      "metadata": {
        "colab": {
          "base_uri": "https://localhost:8080/"
        },
        "id": "3KyHC3Q1zsYs",
        "outputId": "e5fcc0ea-31af-4825-8caa-472458cefd07"
      },
      "execution_count": null,
      "outputs": [
        {
          "output_type": "stream",
          "name": "stdout",
          "text": [
            "Informe o salário atual: 500.23\n",
            "O novo salário com o aumento de:75.03R$ é de: 575.26\n"
          ]
        }
      ]
    },
    {
      "cell_type": "code",
      "source": [
        "raio = float(input(\"Informe o raio do circulo: \"))\n",
        "print(f\"A área do círculo é de: {float(3.14*(raio * raio))}\")"
      ],
      "metadata": {
        "colab": {
          "base_uri": "https://localhost:8080/"
        },
        "id": "Jjd5Nzyg0hUk",
        "outputId": "26e904bf-1d85-436f-f067-0996aa0f1664"
      },
      "execution_count": null,
      "outputs": [
        {
          "output_type": "stream",
          "name": "stdout",
          "text": [
            "Informe o raio do circulo: 50.2\n",
            "A área do círculo é de: 7912.925600000001\n"
          ]
        }
      ]
    },
    {
      "cell_type": "code",
      "source": [
        "nota1 = float(input(\"Informe a primeira nota: \"))\n",
        "nota2 = float(input(\"Informe a segunda nota: \"))\n",
        "nota3 = float(input(\"Informe a terceira nota: \"))\n",
        "med = float((nota1 + nota2 + nota3) / 3)\n",
        "print(f\"Média das notas informadas: {med:.1f}\")"
      ],
      "metadata": {
        "colab": {
          "base_uri": "https://localhost:8080/"
        },
        "id": "r2U8wd3I1q6m",
        "outputId": "de6fb0df-23ec-4a38-abb3-add9013d6897"
      },
      "execution_count": null,
      "outputs": [
        {
          "output_type": "stream",
          "name": "stdout",
          "text": [
            "Informe a primeira nota5.3\n",
            "Informe a segunda nota4.5\n",
            "Informe a terceira nota2.3\n",
            "Média das notas informadas: 4.03\n"
          ]
        }
      ]
    },
    {
      "cell_type": "code",
      "source": [
        "preco1 = float(input(\"Informe o preco do primeiro item: \"))\n",
        "qtd1 = int(input(\"Informe a quantidade do primeiro item: \"))\n",
        "preco2 = float(input(\"Informe o preco do segundo item: \"))\n",
        "qtd2 = int(input(\"Informe a quantidade do segundo item: \"))\n",
        "preco3 = float(input(\"Informe o preco do terceiro item: \"))\n",
        "qtd3 = float(input(\"Informe a quantidade do terceiro item: \"))\n",
        "total = preco1 * qtd1 + preco2 * qtd2 + preco3 * qtd3\n",
        "print(f\"O valor total é de: {total:.2f}R$\")"
      ],
      "metadata": {
        "id": "9fLerAZ62tj-"
      },
      "execution_count": null,
      "outputs": []
    },
    {
      "cell_type": "code",
      "source": [
        "a = 4\n",
        "b = 10\n",
        "c = 5.0\n",
        "d = 1\n",
        "f = 5\n",
        "print(f\"a == c: {a == c}\")\n",
        "print(f\"a < b: {a < b}\")\n",
        "print(f\"d > b: {d > b}\")\n",
        "print(f\"c != f {c != f}\")\n",
        "print(f\"a == b {a == b}\")\n",
        "print(f\"c < d: {c < d}\")\n",
        "print(f\"b > a: {b > a}\")\n",
        "print(f\"c >= f: {c >= f}\")\n",
        "print(f\"f >= c: {f >= c}\")\n",
        "print(f\"c <= c: {c <= c}\")\n",
        "print(f\"c <= f: {c <= f}\")"
      ],
      "metadata": {
        "colab": {
          "base_uri": "https://localhost:8080/"
        },
        "id": "tSQ3m4QS4AaI",
        "outputId": "7342194c-2135-40a7-b1b2-3410952ec9af"
      },
      "execution_count": null,
      "outputs": [
        {
          "output_type": "stream",
          "name": "stdout",
          "text": [
            "a == c: False\n",
            "a < b: True\n",
            "d > b: False\n",
            "c != f False\n",
            "a == b False\n",
            "c < d: False\n",
            "b > a: True\n",
            "c >= f: True\n",
            "f >= c: True\n",
            "c <= c: True\n",
            "c <= f: True\n"
          ]
        }
      ]
    },
    {
      "cell_type": "code",
      "source": [
        "sal = float(input(\"Insira o salário: \"))\n",
        "print(f\"Vai pagar imposto: {sal > 1200.00}\")"
      ],
      "metadata": {
        "colab": {
          "base_uri": "https://localhost:8080/"
        },
        "id": "SDbRjH2r5Msb",
        "outputId": "1caa8633-fb0b-473c-a06f-ff4447c5b222"
      },
      "execution_count": null,
      "outputs": [
        {
          "output_type": "stream",
          "name": "stdout",
          "text": [
            "Insira o salário: 2000\n",
            "Vai pagar imposto: True\n"
          ]
        }
      ]
    },
    {
      "cell_type": "code",
      "source": [
        "peso = float(input(\"Informe o peso em KG: \"))\n",
        "altura = float(input(\"Informe a Altura em M: \"))\n",
        "print(f\"o seu imc é: {float(peso/(altura*altura))}\")"
      ],
      "metadata": {
        "colab": {
          "base_uri": "https://localhost:8080/"
        },
        "id": "m0j50JUI5n9X",
        "outputId": "0357ec64-07ab-4f20-a1d4-2c07987a27e9"
      },
      "execution_count": null,
      "outputs": [
        {
          "output_type": "stream",
          "name": "stdout",
          "text": [
            "Informe o peso em KG: 78.40\n",
            "Informe a Altura em M: 1.80\n",
            "o seu imc é: 24.19753086419753\n"
          ]
        }
      ]
    },
    {
      "cell_type": "code",
      "source": [
        "celsius = float(input(\"Informe a temperatura em celsius: \"))\n",
        "print(f\"A mesma temperatura em fahrenheit é: {float(celsius * 9 / 5 + 32)}\")"
      ],
      "metadata": {
        "id": "hqiIfLmp6JOH"
      },
      "execution_count": null,
      "outputs": []
    },
    {
      "cell_type": "code",
      "source": [
        "sal = float(input(\"Informe o salário bruto: \"))\n",
        "inss = int(input(\"Informe a porcentagem do inss: \"))\n",
        "inss = float(inss * sal / 100)\n",
        "imp = int(input(\"informe o percentual do imposto de renda: \"))\n",
        "imp = float(imp * sal / 100)\n",
        "dia15 = float(30 * sal / 100)\n",
        "dia30 = float(sal - dia15)\n",
        "salário = float(sal-inss-imp)\n",
        "print(f\"Salário total: {salário:.2f}R$ Dia 15: {dia15:.2f}R$ Dia 30: {dia30:.2f}\")"
      ],
      "metadata": {
        "colab": {
          "base_uri": "https://localhost:8080/"
        },
        "id": "mv0321Za6kUg",
        "outputId": "b9512e5a-12c2-4ff0-876f-c570fe53c234"
      },
      "execution_count": null,
      "outputs": [
        {
          "output_type": "stream",
          "name": "stdout",
          "text": [
            "Informe o salário bruto: 5000\n",
            "Informe a porcentagem do inss: 20\n",
            "informe o percentual do imposto de renda: 15\n",
            "Salário total: 3250.00R$ Dia 15:1500.00R$ Dia 30:3500.00\n"
          ]
        }
      ]
    },
    {
      "cell_type": "code",
      "source": [
        "original = float(input(\"Informe o Preço original do produto: \"))\n",
        "des = int(input(\"Informe a porcentagem de desconto do produto: \"))\n",
        "preco = original - original*des/100\n",
        "print(f\"O preço final do produto é de: {preco:.2f}R$\")"
      ],
      "metadata": {
        "colab": {
          "base_uri": "https://localhost:8080/"
        },
        "id": "Y1Phu00s9f1l",
        "outputId": "1110cf90-b99c-4f7b-b8e2-811ce4e2720c"
      },
      "execution_count": null,
      "outputs": [
        {
          "output_type": "stream",
          "name": "stdout",
          "text": [
            "Informe o Preço original do produto: 5000.00\n",
            "Informe a porcentagem de desconto do produto: 50\n",
            "O preço final do produto é de: 2500.00R$\n"
          ]
        }
      ]
    },
    {
      "cell_type": "code",
      "source": [
        "total = 0\n",
        "dias = int(input(\"Informe os dias: \"))\n",
        "total += dias * 60\n",
        "minutos = int(input(\"Informe os minutos: \"))\n",
        "total = (total + minutos) * 60\n",
        "segundos = int(input(\"Informe os segundos: \"))\n",
        "total += segundos\n",
        "print(f\"O total em segundos é: {total}\")"
      ],
      "metadata": {
        "colab": {
          "base_uri": "https://localhost:8080/"
        },
        "id": "103nJtO7-tWZ",
        "outputId": "adf651c0-9308-46e5-f7c0-c37cf85687cb"
      },
      "execution_count": null,
      "outputs": [
        {
          "output_type": "stream",
          "name": "stdout",
          "text": [
            "Informe os dias: 5\n",
            "Informe os minutos: 23\n",
            "Informe os segundos: 76\n",
            "O total em segundos é: 19456\n"
          ]
        }
      ]
    },
    {
      "cell_type": "code",
      "source": [
        "n1 = float(input(\"Informe a primeira nota: \"))\n",
        "n2 = float(input(\"Informe a segunda nota: \"))\n",
        "n3 = float(input(\"Informe a terceira nota: \"))\n",
        "med = float((n1*2 + n2*3 + n3*5) / 10)\n",
        "print(f\"Média aritmética ponderada das notas apresentadas: {med:.2f}\")"
      ],
      "metadata": {
        "colab": {
          "base_uri": "https://localhost:8080/"
        },
        "id": "d2WavtGuILzV",
        "outputId": "2b290017-3ef3-4036-e0d8-187d08d2a7ed"
      },
      "execution_count": null,
      "outputs": [
        {
          "output_type": "stream",
          "name": "stdout",
          "text": [
            "Informe a primeira nota: 5.3\n",
            "Informe a segunda nota: 6.1\n",
            "Informe a terceira nota: 3.54\n",
            "Média aritmética ponderada das notas apresentadas: 4.66\n"
          ]
        }
      ]
    },
    {
      "cell_type": "code",
      "source": [
        "distancia = float(input(\"Informe a distância percorrida: \"))\n",
        "combu = float(input(\"Informe o total de combustível gasto: \"))\n",
        "med = combu/distancia\n",
        "print(f\"Média de gasto por km: {med:.2f}\")"
      ],
      "metadata": {
        "colab": {
          "base_uri": "https://localhost:8080/"
        },
        "id": "urLPpVT7Iwk9",
        "outputId": "48eeecf4-74dc-4427-826f-dc9f982e4988"
      },
      "execution_count": null,
      "outputs": [
        {
          "output_type": "stream",
          "name": "stdout",
          "text": [
            "Informe a distância percorrida: 50\n",
            "Informe o total de combustível gasto: 23\n",
            "Média de gasto: 0.46\n"
          ]
        }
      ]
    },
    {
      "cell_type": "code",
      "source": [
        "peso = float(input(\"Informe as gramas do prato: \"))\n",
        "peso += 465\n",
        "peso = float(peso * 0.025)\n",
        "print(f\"O valor do prato é: {peso:.2f}R$\")"
      ],
      "metadata": {
        "colab": {
          "base_uri": "https://localhost:8080/"
        },
        "id": "FomnF7BQJygb",
        "outputId": "19caffcb-b694-4ed9-dcc5-9d5c57377a4e"
      },
      "execution_count": null,
      "outputs": [
        {
          "output_type": "stream",
          "name": "stdout",
          "text": [
            "Informe as gramas do prato: 50\n",
            "O valor do prato é: 12.88R$\n"
          ]
        }
      ]
    },
    {
      "cell_type": "code",
      "source": [
        "proteina = int(input(\"Insira a quantidade de proteina: \"))\n",
        "proteina = int(proteina * 4)\n",
        "carboidrato = int(input(\"Insira a quantidade de carboidratos: \"))\n",
        "carboidrato = int(carboidrato * 4)\n",
        "gordura = int(input(\"Insira a quantidade de gorduras: \"))\n",
        "gordura = gordura * 9\n",
        "total = gordura + carboidrato + proteina\n",
        "carboidrato = carboidrato /total * 100\n",
        "gordura = gordura / total * 100\n",
        "proteina = proteina / total * 100\n",
        "print(f\"Quantidade total de calorias: {total} \\nporcentagem de carboidratos: {carboidrato:.2f}% \\nporcentagem de proteinas: {proteina:.2f}% \\nporcentagem de gorduras: {gordura:.2f}%\")"
      ],
      "metadata": {
        "colab": {
          "base_uri": "https://localhost:8080/"
        },
        "id": "n4nHEPDAKdNn",
        "outputId": "e511eacc-c31a-4f24-a307-0ac86a56f470"
      },
      "execution_count": null,
      "outputs": [
        {
          "output_type": "stream",
          "name": "stdout",
          "text": [
            "Insira a quantidade de proteina: 50\n",
            "Insira a quantidade de carboidratos: 1000\n",
            "Insira a quantidade de gorduras: 80\n",
            "Quantidade total de calorias: 4920 \n",
            "porcentagem de carboidratos: 81.30% \n",
            "porcentagem de proteinas: 4.07% \n",
            "porcentagem de gorduras: 14.63%\n"
          ]
        }
      ]
    }
  ]
}
