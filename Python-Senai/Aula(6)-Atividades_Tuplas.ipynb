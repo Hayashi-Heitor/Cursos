{
  "nbformat": 4,
  "nbformat_minor": 0,
  "metadata": {
    "colab": {
      "provenance": []
    },
    "kernelspec": {
      "name": "python3",
      "display_name": "Python 3"
    },
    "language_info": {
      "name": "python"
    }
  },
  "cells": [
    {
      "cell_type": "code",
      "execution_count": null,
      "metadata": {
        "id": "LRdUSRsWux94"
      },
      "outputs": [],
      "source": [
        "numeros = (1, 2, 3, 4, 5)\n",
        "print(numeros[0],numeros[-1])"
      ]
    },
    {
      "cell_type": "code",
      "source": [
        "tupla = (\"python\", \"senai\", \"curso\")\n",
        "for i in range(0, len(tupla)):\n",
        "  print(tupla[i])"
      ],
      "metadata": {
        "id": "n_JGun32vs56"
      },
      "execution_count": null,
      "outputs": []
    },
    {
      "cell_type": "code",
      "source": [
        "numeros = (1, 2, 3, 4)\n",
        "num1 = numeros[0]\n",
        "num2 = numeros[1]\n",
        "num3 = numeros[2]\n",
        "num4 = numeros[3]"
      ],
      "metadata": {
        "id": "_kc634qywB5L"
      },
      "execution_count": null,
      "outputs": []
    },
    {
      "cell_type": "code",
      "source": [
        "numeros = (1, 3, 2, 3, 5, 3, 1, 4, 7, 3, 1)\n",
        "print(numeros.count(3))"
      ],
      "metadata": {
        "id": "4K6vVruYwf2C"
      },
      "execution_count": null,
      "outputs": []
    },
    {
      "cell_type": "code",
      "source": [
        "meses = (\"Janeiro\", \"Fevereiro\", \"Março\", \"Abril\", \"Maio\", \"Junho\", \"Julho\", \"Agosto\", \"Setembro\", \"Outubro\", \"Novembro\", \"Dezembro\")\n",
        "num = int(input(\"Informe o número do mês: \"))\n",
        "print(meses[num-1])"
      ],
      "metadata": {
        "id": "0jPMn2vKsSRY"
      },
      "execution_count": null,
      "outputs": []
    },
    {
      "cell_type": "code",
      "source": [
        "tupla = (1, 2, 3, 4, 5, 6)\n",
        "maior = 0\n",
        "menor = 1000\n",
        "for x in range(0, 6):\n",
        "  if tupla[x] < menor:\n",
        "    menor = tupla[x]\n",
        "  if tupla[x] > maior:\n",
        "    maior = tupla[x]\n",
        "print(f\"O menor valor é: {menor}, e o maior é: {maior}\")"
      ],
      "metadata": {
        "id": "TK4zYD8ktBH8"
      },
      "execution_count": null,
      "outputs": []
    },
    {
      "cell_type": "code",
      "source": [
        "tupla = (1.0, 2.9, 3.5, 4.6, 5.8)\n",
        "tupla2 = (6.7, 7.3, 8.4, 9.6, 10.6)\n",
        "tamanho = len(tupla) + len(tupla2)\n",
        "soma = sum(tupla) + sum(tupla2)\n",
        "media = soma / tamanho\n",
        "print(f\"O resultado da média é: {media:.2f}\")"
      ],
      "metadata": {
        "id": "gHFDtLppuTRi"
      },
      "execution_count": null,
      "outputs": []
    }
  ]
}