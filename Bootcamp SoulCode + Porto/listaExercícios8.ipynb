{
  "nbformat": 4,
  "nbformat_minor": 0,
  "metadata": {
    "colab": {
      "provenance": []
    },
    "kernelspec": {
      "name": "python3",
      "display_name": "Python 3"
    },
    "language_info": {
      "name": "python"
    }
  },
  "cells": [
    {
      "cell_type": "markdown",
      "source": [
        "#### Exercícios em aula"
      ],
      "metadata": {
        "id": "dYQ2czUpUMaq"
      }
    },
    {
      "cell_type": "markdown",
      "source": [
        "Crie uma mensagem de erro com a função sacar"
      ],
      "metadata": {
        "id": "V1F1AgL4EFGW"
      }
    },
    {
      "cell_type": "code",
      "execution_count": 6,
      "metadata": {
        "colab": {
          "base_uri": "https://localhost:8080/"
        },
        "id": "gfzjOdY2DN61",
        "outputId": "d4dbc99c-863c-4ed2-d535-5339150a13ad"
      },
      "outputs": [
        {
          "output_type": "stream",
          "name": "stdout",
          "text": [
            "Um erro ocorreu\n",
            "Valor Negativo\n"
          ]
        }
      ],
      "source": [
        "def sacar(valor):\n",
        "  if valor < 0:\n",
        "    raise ValueError(\"Valor Negativo\")\n",
        "\n",
        "try:\n",
        "  sacar(100)\n",
        "  sacar(-100)\n",
        "except ValueError as erro:\n",
        "  print(\"Um erro ocorreu\")\n",
        "  print(erro)"
      ]
    },
    {
      "cell_type": "markdown",
      "source": [
        "Crie uma função que recebe uma idade. Se for menor de idade,\n",
        "\n",
        "gere um erro (ValueError) com uma mensagem clara do que ocorreu.\n",
        "\n",
        "Em seguida, teste a função em um bloco try-except."
      ],
      "metadata": {
        "id": "FpdOKTyhEX5Q"
      }
    },
    {
      "cell_type": "code",
      "source": [
        "def verificar_idade(idade):\n",
        "  if idade < 18:\n",
        "    raise ValueError(\"A idade fornecida é menor que 18 anos. Acesso restrito a menores de idade.\")\n",
        "  else:\n",
        "    print(\"Acesso permitido.\")\n",
        "\n",
        "try:\n",
        "  idade = int(input(\"Digite a idade: \").strip())\n",
        "  verificar_idade(idade)\n",
        "except ValueError as erro:\n",
        "  print(erro)\n",
        "except:\n",
        "  print(\"Ocorreu um erro inesperado\")"
      ],
      "metadata": {
        "colab": {
          "base_uri": "https://localhost:8080/"
        },
        "id": "zGWz16TqEaN8",
        "outputId": "3d2a783f-f757-491c-a722-ce826dc9983e"
      },
      "execution_count": 28,
      "outputs": [
        {
          "output_type": "stream",
          "name": "stdout",
          "text": [
            "Digite a idade: 12\n",
            "A idade fornecida é menor que 18 anos. Acesso restrito a menores de idade.\n"
          ]
        }
      ]
    },
    {
      "cell_type": "markdown",
      "source": [
        "Crie uma lista com nomes de usuário permitidos. Crie uma função que recebe\n",
        "\n",
        "um nome, se o nome não estiver na lista um erro deve ser gerado.\n",
        "\n",
        "'Trate o erro em seguida com try-except."
      ],
      "metadata": {
        "id": "vOE_Rm39FKRf"
      }
    },
    {
      "cell_type": "code",
      "source": [
        "usuarios_permitidos = [\"Astolfo\", \"Ricardo\", \"José\"]\n",
        "\n",
        "def verifica_usuarios(nome):\n",
        "  if nome not in usuarios_permitidos:\n",
        "    raise PermissionError(f\"O usuário {nome} não está permitido\")\n",
        "\n",
        "  print(\"Acesso Autorizado\")\n",
        "\n",
        "try:\n",
        "  verifica_usuarios(\"Ricardo\")\n",
        "  verifica_usuarios(\"João\")\n",
        "except PermissionError as erro:\n",
        "  print(erro)\n",
        "except:\n",
        "  print(\"Ocorreu um erro inesperado\")"
      ],
      "metadata": {
        "colab": {
          "base_uri": "https://localhost:8080/"
        },
        "id": "c1I9yOJnFMP2",
        "outputId": "df931cda-a140-44e7-d129-93bc5e02c144"
      },
      "execution_count": 25,
      "outputs": [
        {
          "output_type": "stream",
          "name": "stdout",
          "text": [
            "Acesso Autorizado\n",
            "O usuário João não está permitido\n"
          ]
        }
      ]
    },
    {
      "cell_type": "markdown",
      "source": [
        "Crie uma função cadastrar_usuario(nome, idade, saldo).Se o nome conter números gere uma exceção:\n",
        "- \"O nome deve conter apenas letras\"\n",
        "- Se a idade for menor que 18 gere uma exceção:\n",
        "- \"Usuário deve ter pelo menos 18 anos para se cadastrar\"\n",
        "- Se o saldo for menor que 100 gere uma exceção:\n",
        "- Saldo inicial insuficiente\"\n",
        "- Mostre uma mensagem de cadastro ao final.\n",
        "- Trate os erros e teste as regras"
      ],
      "metadata": {
        "id": "5-OuKboUGeXm"
      }
    },
    {
      "cell_type": "code",
      "source": [
        "def cadastrar_usuario(nome, idade, saldo):\n",
        "  if not nome.isalpha():\n",
        "    raise ValueError(\"O nome deve conter apenas letras\")\n",
        "\n",
        "  if idade < 18:\n",
        "    raise ValueError(\"Usuário deve ter pelo menos 18 anos para se cadastrar\")\n",
        "\n",
        "  if saldo < 100:\n",
        "    raise ValueError(\"Saldo inicial insuficiente\")\n",
        "\n",
        "  print(\"Cadastro efetuado com sucesso\")\n",
        "\n",
        "try:\n",
        "  # cadastrar_usuario(\"123Joao\", 12, 900)\n",
        "  # cadastrar_usuario(\"Marcelo\", 10, 100)\n",
        "  # cadastrar_usuario(\"João\", 19, 50)\n",
        "  cadastrar_usuario(\"Maria\", 23, 1000)\n",
        "except ValueError as erro:\n",
        "  print(erro)\n",
        "except:\n",
        "  print(\"Um erro inesperado aconteceu\")"
      ],
      "metadata": {
        "colab": {
          "base_uri": "https://localhost:8080/"
        },
        "id": "4sa6pO-VF7wV",
        "outputId": "89e70b9e-179d-401d-8b5d-2be29c75bed8"
      },
      "execution_count": 24,
      "outputs": [
        {
          "output_type": "stream",
          "name": "stdout",
          "text": [
            "Cadastro efetuado com sucesso\n"
          ]
        }
      ]
    },
    {
      "cell_type": "markdown",
      "source": [
        "#### Exercícios Desafio"
      ],
      "metadata": {
        "id": "OE7ZQxs1UPjB"
      }
    },
    {
      "cell_type": "markdown",
      "source": [
        "##### Nível Intermediário – Tratando múltiplas exceções"
      ],
      "metadata": {
        "id": "A-217g9ZUaiE"
      }
    },
    {
      "cell_type": "markdown",
      "source": [
        "1. Peça dois valores ao usuário e:\n",
        "- Verifique se são números válidos;\n",
        "- Realize a divisão;\n",
        "- Trate erros de valor e de divisão por zero separadamente."
      ],
      "metadata": {
        "id": "Pql_GdKaUfgD"
      }
    },
    {
      "cell_type": "code",
      "source": [
        "def verifica_numero(numero):\n",
        "  if not numero.isnumeric():\n",
        "    raise ValueError(\"Caracteres passados como número\")\n",
        "\n",
        "def verifica_divisao(numero):\n",
        "  if numero == 0:\n",
        "    raise ZeroDivisionError(\"Divisão por zero impossível\")\n",
        "\n",
        "def divide_numeros(x, y):\n",
        "  return x / y\n",
        "\n",
        "try:\n",
        "\n",
        "  n1 = input(\"Informe o primeiro valor: \").strip()\n",
        "  verifica_numero(n1)\n",
        "  n1 = int(n1)\n",
        "\n",
        "  n2 = input(\"Informe o segundo valor: \").strip()\n",
        "  verifica_numero(n2)\n",
        "  n2 = int(n2)\n",
        "\n",
        "  verifica_divisao(n2)\n",
        "  print(divide_numeros(n1, n2))\n",
        "\n",
        "except ValueError as erro:\n",
        "  print(erro)\n",
        "except ZeroDivisionError as erro:\n",
        "  print(erro)\n",
        "except:\n",
        "  print(\"Ocorreu um erro inesperado\")\n",
        "finally:\n",
        "  print(\"Programa encerrado\")"
      ],
      "metadata": {
        "colab": {
          "base_uri": "https://localhost:8080/"
        },
        "id": "N-GL3Wg4Uivh",
        "outputId": "eb512534-18a2-49dc-c786-6d35ddc2aa0e"
      },
      "execution_count": 87,
      "outputs": [
        {
          "output_type": "stream",
          "name": "stdout",
          "text": [
            "Informe o primeiro valor: 12\n",
            "Informe o segundo valor: 0\n",
            "Divisão por zero impossível\n",
            "Programa encerrado\n"
          ]
        }
      ]
    },
    {
      "cell_type": "markdown",
      "source": [
        "2. Crie um programa que pergunte a idade. Se o usuário digitar texto, mostre erro. Se a idade for negativa, mostre uma mensagem personalizada."
      ],
      "metadata": {
        "id": "Bn8H6XJJWNQw"
      }
    },
    {
      "cell_type": "code",
      "source": [
        "def verifica_idade(idade):\n",
        "  if idade.startswith('-') and idade[1:].isnumeric() or idade.isnumeric():\n",
        "    return True\n",
        "\n",
        "  raise ValueError(\"Use apenas números\")\n",
        "\n",
        "try:\n",
        "  idade = input(\"Digite sua idade: \").strip()\n",
        "  verifica_idade(idade)\n",
        "  idade = int(idade)\n",
        "\n",
        "  if idade < 0:\n",
        "    print(\"Você é um viajante do tempo?\")\n",
        "  else:\n",
        "    print(f\"Sua idade é: {idade} anos\")\n",
        "\n",
        "except ValueError as erro:\n",
        "  print(erro)\n",
        "except:\n",
        "  print(\"Ocorreu um erro desconhecido\")\n",
        "finally:\n",
        "  print(\"Programa encerrando...\")"
      ],
      "metadata": {
        "colab": {
          "base_uri": "https://localhost:8080/"
        },
        "id": "jyiic6aoYIae",
        "outputId": "8ae23f5c-9629-4ac4-8fbe-f2f85fda094e"
      },
      "execution_count": 94,
      "outputs": [
        {
          "output_type": "stream",
          "name": "stdout",
          "text": [
            "Digite sua idade: teste\n",
            "Use apenas números\n",
            "Programa encerrando...\n"
          ]
        }
      ]
    },
    {
      "cell_type": "markdown",
      "source": [
        "3. Escreva uma função que receba uma lista e um índice, e tente retornar o valor\n",
        "correspondente. Trate o erro de índice fora do intervalo."
      ],
      "metadata": {
        "id": "ae9N2IXdjKim"
      }
    },
    {
      "cell_type": "code",
      "source": [
        "def encontra_indice(lista, indice):\n",
        "  return lista[indice]\n",
        "\n",
        "try:\n",
        "  lista = [1, 2, 3, 4]\n",
        "  indice = 4\n",
        "\n",
        "  encontra_indice(lista, indice)\n",
        "\n",
        "except IndexError:\n",
        "  print(\"Indice informado fora do alcance da lista\")\n",
        "finally:\n",
        "  print(\"Encerrando o programa...\")"
      ],
      "metadata": {
        "colab": {
          "base_uri": "https://localhost:8080/"
        },
        "id": "SbfuZNOGjM5W",
        "outputId": "c68fc61a-8e3b-46a7-cde7-2985ddb2bc43"
      },
      "execution_count": 99,
      "outputs": [
        {
          "output_type": "stream",
          "name": "stdout",
          "text": [
            "Indice informado fora do alcance da lista\n",
            "Encerrando o programa...\n"
          ]
        }
      ]
    },
    {
      "cell_type": "markdown",
      "source": [
        "\n",
        "##### Nível Avançado – Loop com validação e resposta inteligente"
      ],
      "metadata": {
        "id": "8_w9aId3YiYE"
      }
    },
    {
      "cell_type": "markdown",
      "source": [
        "1. Crie um programa que continue pedindo um número inteiro até que o usuário digite corretamente. Ao final, diga se o número é par ou ímpar."
      ],
      "metadata": {
        "id": "D3Ij6f_8Zl6F"
      }
    },
    {
      "cell_type": "code",
      "source": [
        "def eh_par(numero):\n",
        "  return True if numero % 2 == 0 else False\n",
        "\n",
        "while True:\n",
        "  num = input(\"Informe um número: \").strip()\n",
        "\n",
        "  if num.isnumeric():\n",
        "    break\n",
        "\n",
        "num = int(num)\n",
        "if eh_par(num):\n",
        "  print(f\"O número: {num} é par\")\n",
        "else:\n",
        "  print(f\"O número: {num} é ímpar\")"
      ],
      "metadata": {
        "colab": {
          "base_uri": "https://localhost:8080/"
        },
        "id": "Z3mTx5nZZkeu",
        "outputId": "3cf4a748-be98-4a51-8702-405164608b58"
      },
      "execution_count": 81,
      "outputs": [
        {
          "output_type": "stream",
          "name": "stdout",
          "text": [
            "Informe um número: a\n",
            "Informe um número: g\n",
            "Informe um número: v\n",
            "Informe um número: 10\n",
            "O número: 10 é par\n"
          ]
        }
      ]
    },
    {
      "cell_type": "markdown",
      "source": [
        "2. Escreva uma função entrada_segura() que:\n",
        "- Solicite um número inteiro ao usuário;\n",
        "- Repita a pergunta até que uma entrada válida seja fornecida;\n",
        "- Retorne o número ao final."
      ],
      "metadata": {
        "id": "eP6Y3jvObunw"
      }
    },
    {
      "cell_type": "code",
      "source": [
        "def verifica_numero_entrada(numero):\n",
        "  if numero.startswith('-') and numero[1:].isnumeric():\n",
        "    return True\n",
        "  elif numero.isnumeric():\n",
        "    return True\n",
        "\n",
        "  return False\n",
        "\n",
        "def entrada_segura():\n",
        "  numero_entrada = input(\"Informe um número de entrada: \").strip()\n",
        "\n",
        "  while not verifica_numero_entrada(numero_entrada):\n",
        "    numero_entrada = input(\"Informe um número de entrada: \").strip()\n",
        "\n",
        "  return int(numero_entrada)\n",
        "\n",
        "print(entrada_segura())"
      ],
      "metadata": {
        "colab": {
          "base_uri": "https://localhost:8080/"
        },
        "id": "-fqfnEfxbzxo",
        "outputId": "8424b70d-c584-4fff-c1ea-49800a39f6e8"
      },
      "execution_count": 95,
      "outputs": [
        {
          "output_type": "stream",
          "name": "stdout",
          "text": [
            "Informe um número de entrada: 12.8\n",
            "Informe um número de entrada: h\n",
            "Informe um número de entrada: 10\n",
            "10\n"
          ]
        }
      ]
    }
  ]
}