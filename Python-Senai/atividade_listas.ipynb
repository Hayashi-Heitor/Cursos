{
  "nbformat": 4,
  "nbformat_minor": 0,
  "metadata": {
    "colab": {
      "provenance": []
    },
    "kernelspec": {
      "name": "python3",
      "display_name": "Python 3"
    },
    "language_info": {
      "name": "python"
    }
  },
  "cells": [
    {
      "cell_type": "code",
      "execution_count": null,
      "metadata": {
        "id": "MGe5GJ42IZ1J"
      },
      "outputs": [],
      "source": [
        "lista = [1, 2, 3, 4, 5]\n",
        "print(lista)"
      ]
    },
    {
      "cell_type": "code",
      "source": [
        "lista = []\n",
        "for i in range(1, 6):\n",
        "  lista.append(i)\n",
        "print(lista)"
      ],
      "metadata": {
        "id": "_Mod04OhI5e9"
      },
      "execution_count": null,
      "outputs": []
    },
    {
      "cell_type": "code",
      "source": [
        "nomes = [\"João\", \"Marcela\", \"Gustavo\"]\n",
        "del nomes[1]\n",
        "nomes.insert(1, \"Maria\")\n",
        "print(nomes)"
      ],
      "metadata": {
        "id": "N6c_vnYRJYFU"
      },
      "execution_count": null,
      "outputs": []
    },
    {
      "cell_type": "code",
      "source": [
        "frutas = [\"laranja\", \"Maça\", \"Abacaxi\", \"Banana\", \"Melancia\"]\n",
        "del frutas[4]\n",
        "print(frutas)"
      ],
      "metadata": {
        "id": "riGyODJhKBl0"
      },
      "execution_count": null,
      "outputs": []
    },
    {
      "cell_type": "code",
      "source": [
        "lista1 = [1, 2, 3]\n",
        "lista2 = [4, 5, 6]\n",
        "lista3 = [7]\n",
        "lista3.append(lista1)\n",
        "lista3.append(lista2)\n",
        "print(lista3)"
      ],
      "metadata": {
        "id": "4fagb8mzKkBb"
      },
      "execution_count": null,
      "outputs": []
    },
    {
      "cell_type": "code",
      "source": [
        "lista = [1, 2, 3, 4, 5, 6, 7, 8, 9, 10]\n",
        "for i in range(0, 10):\n",
        "  if(lista[i] %2 == 0):\n",
        "    print(lista[i])"
      ],
      "metadata": {
        "id": "WLJSs0rdLG8s"
      },
      "execution_count": null,
      "outputs": []
    },
    {
      "cell_type": "code",
      "source": [
        "nomes = []\n",
        "for i in range(5):\n",
        "  nomes.append(input(f\"Informe o {i+1} nome da lista: \"))\n",
        "del nomes[2]\n",
        "print(nomes)"
      ],
      "metadata": {
        "id": "aOpdenmwLfUT"
      },
      "execution_count": null,
      "outputs": []
    },
    {
      "cell_type": "code",
      "source": [
        "notas = []\n",
        "nota = 1\n",
        "soma = 0\n",
        "qtd = 0\n",
        "print(\"Insira 0 para encerrar a inserção!!!\")\n",
        "while nota > 0:\n",
        "  nota = float(input(\"Informe a nota do aluno: \"))\n",
        "  notas.append(nota)\n",
        "  soma += nota\n",
        "  qtd += 1\n",
        "print(f\"Notas totais: {notas}\")\n",
        "print(f\"Média final: {soma / qtd}\")"
      ],
      "metadata": {
        "id": "H-NNeVhJMGtr"
      },
      "execution_count": null,
      "outputs": []
    },
    {
      "cell_type": "code",
      "source": [
        "lista = [8, 4, 6, 2, 9, 10, 3, 1, 54, 4]\n",
        "lista.sort()\n",
        "print(f\"Maior valor: {lista[-1]} Menor valor: {lista[0]}\")"
      ],
      "metadata": {
        "id": "9c-zNMnROvcS"
      },
      "execution_count": null,
      "outputs": []
    },
    {
      "cell_type": "code",
      "source": [
        "palavras = [\"Carro\", \"Casa\", \"Amanhã\", \"Hoje\", \"Computador\", \"Python\"]\n",
        "palavras.sort()\n",
        "print(palavras)"
      ],
      "metadata": {
        "id": "O_Ul-6hSPW-L"
      },
      "execution_count": null,
      "outputs": []
    },
    {
      "cell_type": "code",
      "source": [
        "lista = [1, 4, 6, 3, 2, 6, 7, 8, 9, 10]\n",
        "x = len(lista)\n",
        "i = 0\n",
        "while(i < x):\n",
        "  i += 1\n",
        "  if lista[i] % 2 == 0:\n",
        "    del lista[i]\n",
        "    x = len(lista)\n",
        "print(lista)"
      ],
      "metadata": {
        "id": "Xfr3cqD7PnnS"
      },
      "execution_count": null,
      "outputs": []
    },
    {
      "cell_type": "code",
      "source": [
        "lista = [1, 4, 6, 3, 2, 6, 7, 8, 9, 10]\n",
        "soma = 0\n",
        "for i in range(len(lista)):\n",
        "  if lista[i] % 2 != 0:\n",
        "    soma += lista[i]\n",
        "print(soma)"
      ],
      "metadata": {
        "id": "3OLb_4jpQZvO"
      },
      "execution_count": null,
      "outputs": []
    }
  ]
}