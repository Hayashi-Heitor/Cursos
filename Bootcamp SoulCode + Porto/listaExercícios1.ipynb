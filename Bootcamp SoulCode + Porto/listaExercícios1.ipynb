{
  "nbformat": 4,
  "nbformat_minor": 0,
  "metadata": {
    "colab": {
      "provenance": []
    },
    "kernelspec": {
      "name": "python3",
      "display_name": "Python 3"
    },
    "language_info": {
      "name": "python"
    }
  },
  "cells": [
    {
      "cell_type": "markdown",
      "source": [
        "#**Lista de exercícios 1**(*Heitor Hayashi Ferrairo*), caso tenha algum comentário ou encontre algum erro me notifique por gentileza!"
      ],
      "metadata": {
        "id": "PFdgGq7LUBJr"
      }
    },
    {
      "cell_type": "markdown",
      "source": [
        "\n",
        "\n",
        "> Básico\n",
        "\n"
      ],
      "metadata": {
        "id": "FWGe157EUqtb"
      }
    },
    {
      "cell_type": "markdown",
      "source": [
        "1. Crie um programa que imprima seu nome e sua idade."
      ],
      "metadata": {
        "id": "-RoIpjypTz6I"
      }
    },
    {
      "cell_type": "code",
      "source": [
        "nome = \"Heitor\"\n",
        "idade = 19\n",
        "print(f\"Meu nome é {nome} e tenho {idade} anos\")"
      ],
      "metadata": {
        "colab": {
          "base_uri": "https://localhost:8080/"
        },
        "id": "1wrcOkwxT4s8",
        "outputId": "6113c545-5280-495a-915b-cf0ab8dd3ec0"
      },
      "execution_count": 18,
      "outputs": [
        {
          "output_type": "stream",
          "name": "stdout",
          "text": [
            "Meu nome é Heitor e tenho 19 anos\n"
          ]
        }
      ]
    },
    {
      "cell_type": "markdown",
      "source": [
        "2. Escreva um código que calcule a soma de dois números inteiros."
      ],
      "metadata": {
        "id": "zFsVCIAcUYzo"
      }
    },
    {
      "cell_type": "code",
      "source": [
        "numero1 = 10\n",
        "numero2 = 5\n",
        "print(numero1 + numero2)"
      ],
      "metadata": {
        "colab": {
          "base_uri": "https://localhost:8080/"
        },
        "id": "AZSByGV3UZ4-",
        "outputId": "15c358d9-a6e4-4210-948a-0a6476587c3e"
      },
      "execution_count": 28,
      "outputs": [
        {
          "output_type": "stream",
          "name": "stdout",
          "text": [
            "15\n"
          ]
        }
      ]
    },
    {
      "cell_type": "markdown",
      "source": [
        "3. Crie três variáveis: nome, cidade, idade — e use o print() para exibir uma frase\n",
        "com esses dados."
      ],
      "metadata": {
        "id": "A_rRxmPcVCUz"
      }
    },
    {
      "cell_type": "code",
      "source": [
        "nome = \"Heitor\"\n",
        "cidade = \"São Paulo\"\n",
        "idade = 19\n",
        "print(f\"Meu nome é {nome} moro em {cidade} e tenho {idade} anos\")"
      ],
      "metadata": {
        "colab": {
          "base_uri": "https://localhost:8080/"
        },
        "id": "v_k8HIPMVHgl",
        "outputId": "402e3020-9cdf-4db3-cdb5-d060a6f95db2"
      },
      "execution_count": 20,
      "outputs": [
        {
          "output_type": "stream",
          "name": "stdout",
          "text": [
            "Meu nome é Heitor moro em São Paulo e tenho 19 anos\n"
          ]
        }
      ]
    },
    {
      "cell_type": "markdown",
      "source": [
        "4. Declare uma variável com o nome de um filme e mostre: “Meu filme favorito\n",
        "é...”\n"
      ],
      "metadata": {
        "id": "GACbdODkVWGV"
      }
    },
    {
      "cell_type": "code",
      "source": [
        "filme = \"Os oito odiados\"\n",
        "print(\"Meu filme favorito é:\", filme)"
      ],
      "metadata": {
        "colab": {
          "base_uri": "https://localhost:8080/"
        },
        "id": "e3UO4TrzVOel",
        "outputId": "ebefdf9c-1880-4f55-fe2f-6f67f1e1a7f4"
      },
      "execution_count": 21,
      "outputs": [
        {
          "output_type": "stream",
          "name": "stdout",
          "text": [
            "Meu filme favorito é: Os oito odiados\n"
          ]
        }
      ]
    },
    {
      "cell_type": "markdown",
      "source": [
        "\n",
        "\n",
        "> Intermediário\n",
        "\n"
      ],
      "metadata": {
        "id": "mBo-9rOMVdJl"
      }
    },
    {
      "cell_type": "markdown",
      "source": [
        "1. Escreva duas notas e calcule a média. Exiba o resultado com uma mensagem."
      ],
      "metadata": {
        "id": "tWLOJDjWVk37"
      }
    },
    {
      "cell_type": "code",
      "source": [
        "nota1 = 7.5\n",
        "nota2 = 6.1\n",
        "media = (nota1 + nota2) / 2\n",
        "print(f\"A média das notas {nota1} e {nota2} é: {media}\")"
      ],
      "metadata": {
        "colab": {
          "base_uri": "https://localhost:8080/"
        },
        "id": "6G7MFqxkVj8i",
        "outputId": "65b47fc6-77f4-493b-ec71-e7a3203ae167"
      },
      "execution_count": 25,
      "outputs": [
        {
          "output_type": "stream",
          "name": "stdout",
          "text": [
            "A média das notas 7.5 e 6.1 é: 6.8\n"
          ]
        }
      ]
    },
    {
      "cell_type": "markdown",
      "source": [
        "2. Crie um código que mostre a seguinte mensagem:\n",
        "O aluno João tirou 8.5 na prova de matemática.\n",
        "Utilize variáveis para nome, nota e disciplina."
      ],
      "metadata": {
        "id": "KRxINi91V1Uu"
      }
    },
    {
      "cell_type": "code",
      "source": [
        "nomeAluno = \"João\"\n",
        "notaMatematica = 8.5\n",
        "disciplina = \"matemática\"\n",
        "print(f\"O aluno {nomeAluno} tirou {notaMatematica} na prova de {disciplina}\")"
      ],
      "metadata": {
        "colab": {
          "base_uri": "https://localhost:8080/"
        },
        "id": "uxKnF7obV49n",
        "outputId": "68f71ddc-fb39-4210-81ad-dcae4fd45425"
      },
      "execution_count": 22,
      "outputs": [
        {
          "output_type": "stream",
          "name": "stdout",
          "text": [
            "O aluno João tirou 8.5 na prova de matemática\n"
          ]
        }
      ]
    },
    {
      "cell_type": "markdown",
      "source": [
        "3. Escreva um código com pelo menos três comentários explicando seu funcionamento."
      ],
      "metadata": {
        "id": "7gvvTKP2WNzb"
      }
    },
    {
      "cell_type": "code",
      "source": [
        "valor1 = 12 # Atribui o valor da variável \"valor1\"\n",
        "valor2 = valor1 + 2 # Atribui a variável \"valor2\" o número anterior somado com 2\n",
        "print(valor1, valor2) # Exibe ambas as variáveis"
      ],
      "metadata": {
        "colab": {
          "base_uri": "https://localhost:8080/"
        },
        "id": "j351DtV5WSqa",
        "outputId": "b5b8b0cb-f1e1-43f3-df55-6fd629dcdd46"
      },
      "execution_count": 26,
      "outputs": [
        {
          "output_type": "stream",
          "name": "stdout",
          "text": [
            "12 14\n"
          ]
        }
      ]
    },
    {
      "cell_type": "markdown",
      "source": [
        "4. Digite um código com erro de propósito. Leia a mensagem de erro e corrija."
      ],
      "metadata": {
        "id": "XYwyW8QyWru5"
      }
    },
    {
      "cell_type": "code",
      "source": [
        "numeroString = \"12\"\n",
        "print(numeroString + 9)"
      ],
      "metadata": {
        "colab": {
          "base_uri": "https://localhost:8080/",
          "height": 164
        },
        "id": "MRv0uWNwWs0a",
        "outputId": "747e450a-906b-4ee0-facd-42630c83460b"
      },
      "execution_count": 23,
      "outputs": [
        {
          "output_type": "error",
          "ename": "TypeError",
          "evalue": "can only concatenate str (not \"int\") to str",
          "traceback": [
            "\u001b[0;31m---------------------------------------------------------------------------\u001b[0m",
            "\u001b[0;31mTypeError\u001b[0m                                 Traceback (most recent call last)",
            "\u001b[0;32m<ipython-input-23-d483db78335e>\u001b[0m in \u001b[0;36m<cell line: 0>\u001b[0;34m()\u001b[0m\n\u001b[1;32m      1\u001b[0m \u001b[0mnumeroString\u001b[0m \u001b[0;34m=\u001b[0m \u001b[0;34m\"12\"\u001b[0m\u001b[0;34m\u001b[0m\u001b[0;34m\u001b[0m\u001b[0m\n\u001b[0;32m----> 2\u001b[0;31m \u001b[0mprint\u001b[0m\u001b[0;34m(\u001b[0m\u001b[0mnumeroString\u001b[0m \u001b[0;34m+\u001b[0m \u001b[0;36m9\u001b[0m\u001b[0;34m)\u001b[0m\u001b[0;34m\u001b[0m\u001b[0;34m\u001b[0m\u001b[0m\n\u001b[0m",
            "\u001b[0;31mTypeError\u001b[0m: can only concatenate str (not \"int\") to str"
          ]
        }
      ]
    },
    {
      "cell_type": "code",
      "source": [
        "numeroString = \"12\"\n",
        "print(numeroString + \"9\")"
      ],
      "metadata": {
        "colab": {
          "base_uri": "https://localhost:8080/"
        },
        "id": "5BLQCCHAWyNF",
        "outputId": "2c4da786-7537-4cf0-da0f-535360a87c57"
      },
      "execution_count": 24,
      "outputs": [
        {
          "output_type": "stream",
          "name": "stdout",
          "text": [
            "129\n"
          ]
        }
      ]
    }
  ]
}
