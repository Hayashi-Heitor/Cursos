{
  "nbformat": 4,
  "nbformat_minor": 0,
  "metadata": {
    "colab": {
      "provenance": []
    },
    "kernelspec": {
      "name": "python3",
      "display_name": "Python 3"
    },
    "language_info": {
      "name": "python"
    }
  },
  "cells": [
    {
      "cell_type": "code",
      "execution_count": null,
      "metadata": {
        "id": "BFGWHo8uDpO4"
      },
      "outputs": [],
      "source": [
        "nome = input(\"Informe seu nome completo: \")\n",
        "print(nome.upper())\n",
        "print(nome.lower())\n",
        "print(len(nome) - nome.count(\" \"))\n",
        "nome = nome.split(\" \")\n",
        "print(nome[0])\n",
        "print(len(nome))"
      ]
    },
    {
      "cell_type": "code",
      "source": [
        "num = input(\"Digite um número: \")\n",
        "num = \" \".join(num)\n",
        "num = num.split(\" \")\n",
        "print(f\"Unidade: {num[3]}\")\n",
        "print(f\"Dezena: {num[2]}\")\n",
        "print(f\"Centena: {num[1]}\")\n",
        "print(f\"Milhar: {num[0]}\")"
      ],
      "metadata": {
        "id": "wxs181zfFFIs"
      },
      "execution_count": null,
      "outputs": []
    },
    {
      "cell_type": "code",
      "source": [
        "cidade = input(\"Informe o nome de uma cidade: \")\n",
        "print(cidade.startswith(\"Santo\"))"
      ],
      "metadata": {
        "id": "RF5yVxpmGkAj"
      },
      "execution_count": null,
      "outputs": []
    },
    {
      "cell_type": "code",
      "source": [
        "nome = input(\"Informe o seu nome completo: \")\n",
        "print(\"Silva\" in nome)"
      ],
      "metadata": {
        "id": "973OWrV8G--8"
      },
      "execution_count": null,
      "outputs": []
    },
    {
      "cell_type": "code",
      "source": [
        "frase = input(\"Insira uma frase: \")\n",
        "print(frase.count('A'))\n",
        "print(frase.find('A'))\n",
        "print(frase.rfind('A'))"
      ],
      "metadata": {
        "id": "0EpRyNqEHceb"
      },
      "execution_count": null,
      "outputs": []
    },
    {
      "cell_type": "code",
      "source": [
        "nome = input(\"Informe o seu nome completo: \")\n",
        "nome = nome.split(\" \")\n",
        "print(f\"Primeiro: {nome[0]}\")\n",
        "print(f\"Ultimo: {nome[1]}\")"
      ],
      "metadata": {
        "id": "l6AUN1U4I7YE"
      },
      "execution_count": null,
      "outputs": []
    }
  ]
}
