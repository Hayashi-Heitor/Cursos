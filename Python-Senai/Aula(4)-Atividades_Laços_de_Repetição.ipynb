{
  "nbformat": 4,
  "nbformat_minor": 0,
  "metadata": {
    "colab": {
      "provenance": []
    },
    "kernelspec": {
      "name": "python3",
      "display_name": "Python 3"
    },
    "language_info": {
      "name": "python"
    }
  },
  "cells": [
    {
      "cell_type": "code",
      "execution_count": null,
      "metadata": {
        "id": "cqb6yl5kT-wV"
      },
      "outputs": [],
      "source": [
        "num = 0\n",
        "while num <= 10:\n",
        "  print(num)\n",
        "  num += 1"
      ]
    },
    {
      "cell_type": "code",
      "source": [
        "num = 0\n",
        "while num <= 20:\n",
        "  if num % 2 != 0:\n",
        "    print(num)\n",
        "  num += 1"
      ],
      "metadata": {
        "id": "W7A_ErYiUO2A"
      },
      "execution_count": null,
      "outputs": []
    },
    {
      "cell_type": "code",
      "source": [
        "for letra in \"ABCDE\":\n",
        "  print(letra)"
      ],
      "metadata": {
        "id": "bcSOc0pgUbxa"
      },
      "execution_count": null,
      "outputs": []
    },
    {
      "cell_type": "code",
      "source": [
        "num = 2\n",
        "while num <= 20:\n",
        "  if num % 2 == 0:\n",
        "    print(num)\n",
        "  num += 1"
      ],
      "metadata": {
        "id": "XbUPTcP9WATH"
      },
      "execution_count": null,
      "outputs": []
    },
    {
      "cell_type": "code",
      "source": [
        "string = input(\"Informe uma string\")\n",
        "print(string[::-1])"
      ],
      "metadata": {
        "id": "s1IlEjYQWThn"
      },
      "execution_count": null,
      "outputs": []
    },
    {
      "cell_type": "code",
      "source": [
        "num = 1\n",
        "soma = 0\n",
        "while num <= 20:\n",
        "  if num % 2 == 0:\n",
        "    soma += num\n",
        "  num += 1\n",
        "print(soma)"
      ],
      "metadata": {
        "id": "1ZKkTXymWx4I"
      },
      "execution_count": null,
      "outputs": []
    },
    {
      "cell_type": "code",
      "source": [
        "for num in range(0,100):\n",
        "  print(num)\n",
        "  if(num == 20):\n",
        "    break"
      ],
      "metadata": {
        "id": "5jmfVSRfXIK2"
      },
      "execution_count": null,
      "outputs": []
    },
    {
      "cell_type": "code",
      "source": [
        "for num in range(1,30):\n",
        "  if num % 3 == 0:\n",
        "    print(num)\n",
        "  num += 1"
      ],
      "metadata": {
        "id": "KHnXDpk2XY8e"
      },
      "execution_count": null,
      "outputs": []
    },
    {
      "cell_type": "code",
      "source": [
        "soma = 0\n",
        "for num in range(1,50):\n",
        "  if num % 2 != 0:\n",
        "    soma += 1\n",
        "print(soma)"
      ],
      "metadata": {
        "id": "V6n6ssxnXqL3"
      },
      "execution_count": null,
      "outputs": []
    },
    {
      "cell_type": "code",
      "source": [
        "for num in range(10, 0, -1):\n",
        "  print(num)"
      ],
      "metadata": {
        "id": "H4yKg8LKX9lO"
      },
      "execution_count": null,
      "outputs": []
    },
    {
      "cell_type": "code",
      "source": [
        "soma = 0\n",
        "for num in range(1, 101):\n",
        "  soma += num\n",
        "print(soma)"
      ],
      "metadata": {
        "id": "8aK5456rYIgG"
      },
      "execution_count": null,
      "outputs": []
    },
    {
      "cell_type": "code",
      "source": [
        "for num in range(1, 11):\n",
        "  print(num,\":\", pow(num,2))"
      ],
      "metadata": {
        "id": "isXBOe5AYRy2"
      },
      "execution_count": null,
      "outputs": []
    },
    {
      "cell_type": "code",
      "source": [
        "for num in range(1, 51):\n",
        "  if num % 5 == 0:\n",
        "    print(num)"
      ],
      "metadata": {
        "id": "e_2ZvPkSY9mm"
      },
      "execution_count": null,
      "outputs": []
    },
    {
      "cell_type": "code",
      "source": [
        "num = 0\n",
        "while num <= 20:\n",
        "  print(num)\n",
        "  num += 1\n",
        "  if num == 15:\n",
        "    break"
      ],
      "metadata": {
        "id": "tLpkuZZ0ZJv2"
      },
      "execution_count": null,
      "outputs": []
    },
    {
      "cell_type": "code",
      "source": [
        "soma = 0\n",
        "for num in range(1, 101):\n",
        "  soma += num\n",
        "print(soma/100)"
      ],
      "metadata": {
        "id": "BFRvD-nAZfwG"
      },
      "execution_count": null,
      "outputs": []
    },
    {
      "cell_type": "code",
      "source": [
        "soma = 0\n",
        "num = 0\n",
        "while num <= 100:\n",
        "  if num % 7 == 0:\n",
        "    soma += num\n",
        "  num += 1\n",
        "print(soma)"
      ],
      "metadata": {
        "id": "4kgIAnubZw-V"
      },
      "execution_count": null,
      "outputs": []
    },
    {
      "cell_type": "code",
      "source": [
        "tentativas = 0\n",
        "while tentativas <= 5:\n",
        "  senha = input(\"Informe a senha: \")\n",
        "  if senha == \"python123\":\n",
        "    print(\"Acesso liberado!\")\n",
        "    break"
      ],
      "metadata": {
        "id": "dw0YtJy6Z10W"
      },
      "execution_count": null,
      "outputs": []
    }
  ]
}