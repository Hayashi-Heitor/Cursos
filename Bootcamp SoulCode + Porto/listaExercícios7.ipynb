{
  "nbformat": 4,
  "nbformat_minor": 0,
  "metadata": {
    "colab": {
      "provenance": []
    },
    "kernelspec": {
      "name": "python3",
      "display_name": "Python 3"
    },
    "language_info": {
      "name": "python"
    }
  },
  "cells": [
    {
      "cell_type": "markdown",
      "source": [
        "# **Lista de exercícios 7** *(Heitor Hayashi Ferrairo)*, caso tenha algum comentário ou encontre algum erro me notifique por gentileza!"
      ],
      "metadata": {
        "id": "-BCCf5H_SZVJ"
      }
    },
    {
      "cell_type": "markdown",
      "source": [
        "#### **Exercícios feitos em aula**"
      ],
      "metadata": {
        "id": "43EvzeexI3-n"
      }
    },
    {
      "cell_type": "markdown",
      "source": [
        "Melhore a função para que ela exiba \"Olá, desconhecido!\" se nome estiver vazio."
      ],
      "metadata": {
        "id": "O0Qpkne8UG3J"
      }
    },
    {
      "cell_type": "code",
      "execution_count": null,
      "metadata": {
        "colab": {
          "base_uri": "https://localhost:8080/"
        },
        "id": "U7f-hGO5Ds7s",
        "outputId": "17c48cb9-2ffe-41fb-e88a-76877383a109"
      },
      "outputs": [
        {
          "output_type": "stream",
          "name": "stdout",
          "text": [
            "Informe seu nome: \n",
            "Olá, desconhecido\n"
          ]
        }
      ],
      "source": [
        "def boas_vindas(nome):\n",
        "  if nome == \"\":\n",
        "    print(\"Olá, desconhecido\")\n",
        "  else:\n",
        "    print(f\"Olá, {nome}\")\n",
        "\n",
        "boas_vindas(input(\"Informe seu nome: \"))"
      ]
    },
    {
      "cell_type": "markdown",
      "source": [
        "Crie uma função que recebe dois números. Exiba a soma dos números com print.\n",
        "\n",
        "Testes:\n",
        "*   Teste com números inteiros e decimais\n",
        "*   E se forem números digitados pelo usuário?"
      ],
      "metadata": {
        "id": "pV85_knQRYfC"
      }
    },
    {
      "cell_type": "code",
      "source": [
        "def soma(x, y):\n",
        "  print(f\"{x} + {y} = {x + y}\")\n",
        "\n",
        "soma(5, 10)\n",
        "soma(18.2, 19.7)\n",
        "\n",
        "n1 = int(input(\"Informe um número: \").strip())\n",
        "n2 = int(input(\"Informe outro número: \").strip())\n",
        "\n",
        "soma(n1, n2)"
      ],
      "metadata": {
        "id": "TLTJR_X9Rih5"
      },
      "execution_count": null,
      "outputs": []
    },
    {
      "cell_type": "markdown",
      "source": [
        "Crie uma função para calcular a média de 3 notas\n",
        "e exibir usando print.\n",
        "\n",
        "Testes:\n",
        "*  Use notas digitadas pelo usuário\n",
        "\n",
        "\n"
      ],
      "metadata": {
        "id": "3HZqFk5-l_Hq"
      }
    },
    {
      "cell_type": "code",
      "source": [
        "def calcula_media(nota1, nota2, nota3):\n",
        "  media = (nota1 + nota2 + nota3) / 3\n",
        "  print(f\"A média final é: {media:.1f}\")\n",
        "\n",
        "n1 = float(input(\"Informe a primeira nota: \").strip().replace(',', '.'))\n",
        "n2 = float(input(\"Informe a segunda nota: \").strip().replace(',', '.'))\n",
        "n3 = float(input(\"Informe a terceira nota: \").strip().replace(',', '.'))\n",
        "\n",
        "calcula_media(n1, n2, n3)"
      ],
      "metadata": {
        "colab": {
          "base_uri": "https://localhost:8080/"
        },
        "id": "iVK5SH88mEUB",
        "outputId": "0088ec0a-40ca-41a6-deb6-c9cf59226860"
      },
      "execution_count": null,
      "outputs": [
        {
          "output_type": "stream",
          "name": "stdout",
          "text": [
            "Informe a primeira nota: 3,4\n",
            "Informe a segunda nota: 9,1\n",
            "Informe a terceira nota: 5,4\n",
            "A média final é: 6.0\n"
          ]
        }
      ]
    },
    {
      "cell_type": "markdown",
      "source": [
        "Crie uma função que recebe um número e retorna o dobro dele.\n",
        "Teste:\n",
        "  - Salve o retorno da função em uma variável\n",
        "  - Use o retorno da função em outra operação (if, etc)"
      ],
      "metadata": {
        "id": "UwaNFXnItVWu"
      }
    },
    {
      "cell_type": "code",
      "source": [
        "def dobra_numero(numero):\n",
        "  return 2 * numero\n",
        "\n",
        "num = dobra_numero(int(input(\"Informe um número: \").strip()))\n",
        "\n",
        "if num > 5:\n",
        "  print(f\"O dobro do número é maior que cinco! resultado: {num}\")"
      ],
      "metadata": {
        "colab": {
          "base_uri": "https://localhost:8080/"
        },
        "id": "ikEHD69VtXx0",
        "outputId": "a2104c1a-a784-4d9d-ec2c-8e08ff34125b"
      },
      "execution_count": null,
      "outputs": [
        {
          "output_type": "stream",
          "name": "stdout",
          "text": [
            "Informe um número: 5\n",
            "O dobro do número é maior que cinco! resultado: 10\n"
          ]
        }
      ]
    },
    {
      "cell_type": "markdown",
      "source": [
        "Crie uma função que recebe o preço e o desconto em porcentagem de\n",
        "um produto. Retorne o valor descontado.\n",
        "\n",
        "descontar_preco(100.0, 10) -> 90.0"
      ],
      "metadata": {
        "id": "AE6SA6HUv4Ar"
      }
    },
    {
      "cell_type": "code",
      "source": [
        "def aplica_desconto(valor, desconto):\n",
        "  return valor - valor * (desconto / 100)\n",
        "\n",
        "valor = float(input(\"Informe o valor: \").strip().replace(',', '.'))\n",
        "desconto = int(input(\"Informe a porcentagem de desconto: \").strip())\n",
        "\n",
        "valor = aplica_desconto(valor, desconto)\n",
        "\n",
        "print(f\"Valor com desconto aplicado: R${valor:.2f}\")"
      ],
      "metadata": {
        "colab": {
          "base_uri": "https://localhost:8080/"
        },
        "id": "012kEZYhv3qj",
        "outputId": "634afefb-cb36-4bdf-b662-01d284099712"
      },
      "execution_count": 26,
      "outputs": [
        {
          "output_type": "stream",
          "name": "stdout",
          "text": [
            "Informe o valor: 100\n",
            "Informe a porcentagem de desconto: 10\n",
            "Valor com desconto aplicado: R$90.00\n"
          ]
        }
      ]
    },
    {
      "cell_type": "markdown",
      "source": [
        "Crie uma função que recebe a idade com parâmetro.\n",
        "Retorna True se for maior de idade e False se não for."
      ],
      "metadata": {
        "id": "Wxb4T-RL_CtE"
      }
    },
    {
      "cell_type": "code",
      "source": [
        "def eh_maior_de_idade(idade):\n",
        "  return idade >= 18\n",
        "\n",
        "print(eh_maior_de_idade(19))"
      ],
      "metadata": {
        "colab": {
          "base_uri": "https://localhost:8080/"
        },
        "id": "zI9RfFmb98Km",
        "outputId": "5af49d7c-7a6b-41a0-86d5-8ff88ff49abd"
      },
      "execution_count": 35,
      "outputs": [
        {
          "output_type": "stream",
          "name": "stdout",
          "text": [
            "True\n"
          ]
        }
      ]
    },
    {
      "cell_type": "markdown",
      "source": [
        "Crie uma função que recebe como parâmetros 4 notas e calcula a média.\n",
        "Crie outra função que com base na média calculada indique a situação:\n",
        "  - media < 5: Reprovado\n",
        "  - media < 7: Recuperação\n",
        "  - media < 8: Bom\n",
        "  - media <= 10: Ótimo"
      ],
      "metadata": {
        "id": "MHzD34_E_GFg"
      }
    },
    {
      "cell_type": "code",
      "source": [
        "def calcula_media_4notas(nota1, nota2, nota3, nota4):\n",
        "  return (nota1 + nota2 + nota3 + nota4) / 4\n",
        "\n",
        "def define_situacao(media):\n",
        "\n",
        "  if media < 5 and media >= 0:\n",
        "    return \"Reprovado\"\n",
        "  elif media < 7:\n",
        "    return \"Recuperação\"\n",
        "  elif media < 8:\n",
        "    return \"Bom\"\n",
        "  elif media <= 10:\n",
        "    return \"Ótimo\"\n",
        "\n",
        "  return \"--Valores Inválidos, Média Máxima: 10, Média Mínima: 0\"\n",
        "\n",
        "nota1 = float(input(\"Informe a primeira nota: \").strip().replace(',', '.'))\n",
        "nota2 = float(input(\"Informe a segunda nota: \").strip().replace(',', '.'))\n",
        "nota3 = float(input(\"Informe a terceira nota: \").strip().replace(',', '.'))\n",
        "nota4 = float(input(\"Informe a quarta nota: \").strip().replace(',', '.'))\n",
        "\n",
        "media_final = calcula_media_4notas(nota1, nota2, nota3, nota4)\n",
        "\n",
        "print(f\"Média final: {media_final:.1f}, Situação: {define_situacao(media_final)}\")"
      ],
      "metadata": {
        "colab": {
          "base_uri": "https://localhost:8080/"
        },
        "id": "k-q-swcf-Y_k",
        "outputId": "90942a36-b8a6-4ba5-d4d4-5bb89e8b5a3d"
      },
      "execution_count": 56,
      "outputs": [
        {
          "output_type": "stream",
          "name": "stdout",
          "text": [
            "Informe a primeira nota: 8,1\n",
            "Informe a segunda nota: 10,3\n",
            "Informe a terceira nota: 7,1\n",
            "Informe a quarta nota: 6,1\n",
            "Média final: 7.9, Situação: Bom\n"
          ]
        }
      ]
    },
    {
      "cell_type": "markdown",
      "source": [
        "Crie uma função que recebe uma palavra por parâmetro.\n",
        "\n",
        "Deve retornar True se houver vogais e False caso não."
      ],
      "metadata": {
        "id": "eO0a0DyG_LEx"
      }
    },
    {
      "cell_type": "code",
      "source": [
        "def tem_vogais(palavra):\n",
        "  for letra in palavra.lower():\n",
        "    if letra in \"aeiou\":\n",
        "      return True\n",
        "\n",
        "  return False\n",
        "\n",
        "palavra = input(\"Informe uma palavra: \").strip()\n",
        "\n",
        "if tem_vogais(palavra) == True:\n",
        "  print(\"Tem vogal!\")\n",
        "else:\n",
        "  print(\"Não tem vogal!\")"
      ],
      "metadata": {
        "colab": {
          "base_uri": "https://localhost:8080/"
        },
        "id": "XchKA0WhBAVA",
        "outputId": "f0e7e960-4104-47b7-c89f-5774ad21e0ab"
      },
      "execution_count": 55,
      "outputs": [
        {
          "output_type": "stream",
          "name": "stdout",
          "text": [
            "Informe uma palavra: teste\n",
            "Tem vogal!\n"
          ]
        }
      ]
    },
    {
      "cell_type": "markdown",
      "source": [
        "Crie uma função que recebe uma palavra e verifica se ela é\n",
        "\n",
        "Palíndromo. Exemplo: \"arara\", \"ana\", \"radar\"."
      ],
      "metadata": {
        "id": "xOWD5Y4qAFjg"
      }
    },
    {
      "cell_type": "code",
      "source": [
        "def eh_palindromo(palavra):\n",
        "  if palavra.lower() == palavra[::-1].lower():\n",
        "    return True\n",
        "\n",
        "  return False\n",
        "\n",
        "palavra = input(\"Informe uma palavra: \").strip()\n",
        "\n",
        "if eh_palindromo(palavra):\n",
        "  print(\"É um palindromo\")\n",
        "else:\n",
        "  print(\"Não é um palindromo\")"
      ],
      "metadata": {
        "colab": {
          "base_uri": "https://localhost:8080/"
        },
        "id": "QehfDfisBf5k",
        "outputId": "9d5a685c-cb5e-4ec9-b9f2-89686ff8f5ff"
      },
      "execution_count": 59,
      "outputs": [
        {
          "output_type": "stream",
          "name": "stdout",
          "text": [
            "Informe uma palavra: Arara\n",
            "É um palindromo\n"
          ]
        }
      ]
    },
    {
      "cell_type": "markdown",
      "source": [
        "#### **Nível Básico** – *Funções sem parâmetros*"
      ],
      "metadata": {
        "id": "RaYlO9WhRO9w"
      }
    },
    {
      "cell_type": "markdown",
      "source": [
        "1. Crie uma função chamada boas_vindas() que imprima a mensagem\"Olá, bem-vindo(a) ao programa!\". Chame essa função três vezes."
      ],
      "metadata": {
        "id": "NyYl-QekRVU2"
      }
    },
    {
      "cell_type": "code",
      "source": [
        "def boas_vindas():\n",
        "  print(\"Olá, bem-vindo(a) ao programa!\")\n",
        "\n",
        "boas_vindas()\n",
        "boas_vindas()\n",
        "boas_vindas()"
      ],
      "metadata": {
        "colab": {
          "base_uri": "https://localhost:8080/"
        },
        "id": "8EqbPc02RU_t",
        "outputId": "8866f65a-455a-4a14-984f-0bb9681d64e5"
      },
      "execution_count": 60,
      "outputs": [
        {
          "output_type": "stream",
          "name": "stdout",
          "text": [
            "Olá, bem-vindo(a) ao programa!\n",
            "Olá, bem-vindo(a) ao programa!\n",
            "Olá, bem-vindo(a) ao programa!\n"
          ]
        }
      ]
    },
    {
      "cell_type": "markdown",
      "source": [
        "2. Crie uma função chamada linha() que imprima uma linha de 30 traços. Use essa função para separar visualmente partes do seu programa."
      ],
      "metadata": {
        "id": "LAU-drXARgCQ"
      }
    },
    {
      "cell_type": "code",
      "source": [
        "def linha():\n",
        "  print(\"-\" * 30)\n",
        "\n",
        "linha()"
      ],
      "metadata": {
        "colab": {
          "base_uri": "https://localhost:8080/"
        },
        "id": "xQbLJrV2Rg9Y",
        "outputId": "3a59cd0c-676f-4df0-c399-86e6ad3e4b49"
      },
      "execution_count": 61,
      "outputs": [
        {
          "output_type": "stream",
          "name": "stdout",
          "text": [
            "------------------------------\n"
          ]
        }
      ]
    },
    {
      "cell_type": "markdown",
      "source": [
        "3. Escreva uma função chamada menu() que exiba 3 opções numeradas (como em um caixa eletrônico)."
      ],
      "metadata": {
        "id": "8GCJ6uPXRvWA"
      }
    },
    {
      "cell_type": "code",
      "source": [
        "def menu():\n",
        "  linha()\n",
        "  print(\"1 - Inserir\")\n",
        "  print(\"2 - Listar\")\n",
        "  print(\"3 - Sair\")\n",
        "\n",
        "menu()"
      ],
      "metadata": {
        "colab": {
          "base_uri": "https://localhost:8080/"
        },
        "id": "R7Fj62XKR3qo",
        "outputId": "161fcc23-4d28-4741-b1be-3ee42374e668"
      },
      "execution_count": 63,
      "outputs": [
        {
          "output_type": "stream",
          "name": "stdout",
          "text": [
            "------------------------------\n",
            "1 - Inserir\n",
            "2 - Listar\n",
            "3 - Sair\n"
          ]
        }
      ]
    },
    {
      "cell_type": "markdown",
      "source": [
        "#### **Nível Intermediário** – *Funções com parâmetros e retorno*"
      ],
      "metadata": {
        "id": "yWEpENX7RSV_"
      }
    },
    {
      "cell_type": "markdown",
      "source": [
        "1. Crie uma função chamada dobro(numero) que receba um número como parâmetro e retorne o dobro."
      ],
      "metadata": {
        "id": "yhLd34DPSUho"
      }
    },
    {
      "cell_type": "code",
      "source": [
        "def dobro(numero):\n",
        "  return 2 * numero\n",
        "\n",
        "print(dobro(5))"
      ],
      "metadata": {
        "colab": {
          "base_uri": "https://localhost:8080/"
        },
        "id": "a19A5zyKSc_8",
        "outputId": "55e708b8-8cc6-456c-fe22-036292b5122b"
      },
      "execution_count": 64,
      "outputs": [
        {
          "output_type": "stream",
          "name": "stdout",
          "text": [
            "10\n"
          ]
        }
      ]
    },
    {
      "cell_type": "markdown",
      "source": [
        "2. Crie uma função chamada verificar_par(n) que retorne True se o número for par, e False se for ímpar."
      ],
      "metadata": {
        "id": "-ZXWRMt0Sm9c"
      }
    },
    {
      "cell_type": "code",
      "source": [
        "def verificar_par(n):\n",
        "  if n % 2 == 0:\n",
        "    return True\n",
        "\n",
        "  return False\n",
        "\n",
        "print(verificar_par(2))\n",
        "print(verificar_par(5))"
      ],
      "metadata": {
        "colab": {
          "base_uri": "https://localhost:8080/"
        },
        "id": "Aa2RqkHTSn_F",
        "outputId": "043296f7-2459-48ec-cc8b-efc8724e8197"
      },
      "execution_count": 66,
      "outputs": [
        {
          "output_type": "stream",
          "name": "stdout",
          "text": [
            "True\n",
            "False\n"
          ]
        }
      ]
    },
    {
      "cell_type": "markdown",
      "source": [
        "3. Crie uma função chamada converter_celsius_para_fahrenheit(c) que retorne a conversão da temperatura."
      ],
      "metadata": {
        "id": "kRuCuGS3S8d8"
      }
    },
    {
      "cell_type": "code",
      "source": [
        "def converter_celsius_para_fahrenheit(c):\n",
        "  return c * 1.8 + 32\n",
        "\n",
        "print(converter_celsius_para_fahrenheit(10))"
      ],
      "metadata": {
        "colab": {
          "base_uri": "https://localhost:8080/"
        },
        "id": "B1z2UbBiSsKY",
        "outputId": "1d9ad1e6-1d50-4bec-cc57-6f02f37de85a"
      },
      "execution_count": 70,
      "outputs": [
        {
          "output_type": "stream",
          "name": "stdout",
          "text": [
            "50.0\n"
          ]
        }
      ]
    },
    {
      "cell_type": "markdown",
      "source": [
        "4. Escreva uma função chamada media(n1, n2) que calcule a média e retorne uma das mensagens: • \"Aprovado\" para média maior ou igual a 7; • \"Recuperação\" para média entre 5 e 6.9; • \"Reprovado\" para média abaixo de 5."
      ],
      "metadata": {
        "id": "EsAMfDc8Tfv1"
      }
    },
    {
      "cell_type": "code",
      "source": [
        "def media(n1, n2):\n",
        "  media = (n1 + n2) / 2\n",
        "\n",
        "  if media >= 7:\n",
        "    return \"Aprovado\"\n",
        "  elif media > 5:\n",
        "    return \"Recuperação\"\n",
        "\n",
        "  return \"Reprovado\"\n",
        "\n",
        "print(\"Situação do aluno:\", media(6.1, 5.2))"
      ],
      "metadata": {
        "colab": {
          "base_uri": "https://localhost:8080/"
        },
        "id": "QjJWhswwTg5j",
        "outputId": "e7e42e9e-e103-461a-a269-eafb734ea57c"
      },
      "execution_count": 72,
      "outputs": [
        {
          "output_type": "stream",
          "name": "stdout",
          "text": [
            "Situação do aluno: Recuperação\n"
          ]
        }
      ]
    },
    {
      "cell_type": "markdown",
      "source": [
        "#### **Nível Avançado** – *Funções compostas e aplicação de lógica*"
      ],
      "metadata": {
        "id": "6oyB8HO0UKFP"
      }
    },
    {
      "cell_type": "markdown",
      "source": [
        "1. Crie uma função chamada gerar_senha(nome) que:\n",
        "- Receba um nome;\n",
        "- Use .lower(), .replace() e random.randint();\n",
        "- Retorne uma senha gerada no formato: primeiras 3 letras + número aleatório."
      ],
      "metadata": {
        "id": "J3wGnhxFUQqA"
      }
    },
    {
      "cell_type": "code",
      "source": [
        "from random import randint\n",
        "\n",
        "def gerar_senha(nome):\n",
        "  nome = nome.lower().replace(\" \", \"_\")\n",
        "  return nome[0:3] + str(randint(1, 100))\n",
        "\n",
        "gerar_senha(\"Astolfo\")"
      ],
      "metadata": {
        "colab": {
          "base_uri": "https://localhost:8080/",
          "height": 35
        },
        "id": "iEPwzMAoUWLw",
        "outputId": "aa72c0ec-c83d-41aa-b79b-ff825c7d337b"
      },
      "execution_count": 76,
      "outputs": [
        {
          "output_type": "execute_result",
          "data": {
            "text/plain": [
              "'ast82'"
            ],
            "application/vnd.google.colaboratory.intrinsic+json": {
              "type": "string"
            }
          },
          "metadata": {},
          "execution_count": 76
        }
      ]
    },
    {
      "cell_type": "markdown",
      "source": [
        "2. Escreva um programa com uma função chamada menu() e outras funções: somar(a,b), subtrair(a,b), multiplicar(a,b). O programa deve exibir o menu, pedir dois núme- ros, e executar a operação escolhida."
      ],
      "metadata": {
        "id": "-ZK7Rhi-VNY_"
      }
    },
    {
      "cell_type": "code",
      "source": [
        "def menu():\n",
        "  linha()\n",
        "  print(\"(+) = Soma |  (-) = Subtração |  (*) = Multiplicação\")\n",
        "  linha()\n",
        "\n",
        "def somar(x, y):\n",
        "  return x + y\n",
        "\n",
        "def subtrair(x, y):\n",
        "  return x - y\n",
        "\n",
        "def multiplicar(x, y):\n",
        "  return x * y\n",
        "\n",
        "n1 = int(input(\"Informe o primeiro número: \").strip())\n",
        "n2 = int(input(\"Informe o segundo número: \").strip())\n",
        "\n",
        "menu()\n",
        "opcao = input(\"Opção desejada: \")\n",
        "if opcao == '+':\n",
        "  print(f\"{n1} + {n2} = {somar(n1, n2)}\")\n",
        "elif opcao == '-':\n",
        "  print(f\"{n1} - {n2} = {subtrair(n1, n2)}\")\n",
        "elif opcao == '*':\n",
        "  print(f\"{n1} * {n2} = {multiplicar(n1, n2)}\")\n",
        "else:\n",
        "  (\"Opção Inválida\")"
      ],
      "metadata": {
        "colab": {
          "base_uri": "https://localhost:8080/"
        },
        "id": "TPHAqeKzVPKe",
        "outputId": "5cd3ef23-56cf-4942-9cce-40150f126a98"
      },
      "execution_count": 78,
      "outputs": [
        {
          "output_type": "stream",
          "name": "stdout",
          "text": [
            "Informe o primeiro número: 10\n",
            "Informe o segundo número: 12\n",
            "------------------------------\n",
            "(+) = Soma |  (-) = Subtração |  (*) = Multiplicação\n",
            "------------------------------\n",
            "Opção desejada: +\n",
            "10 + 12 = 22\n"
          ]
        }
      ]
    },
    {
      "cell_type": "markdown",
      "source": [
        "3. Crie uma função chamada analisar_texto(frase) que:\n",
        "- Retorne a quantidade de palavras;\n",
        "- A quantidade de vogais;\n",
        "- Se a palavra \"Python\" está presente (sem diferenciar maiúsculas e minúscu- las)."
      ],
      "metadata": {
        "id": "TJRqeGXPW8rD"
      }
    },
    {
      "cell_type": "code",
      "source": [
        "def analisar_texto(frase):\n",
        "  palavras = len(frase.split())\n",
        "\n",
        "  vogais = 0\n",
        "  frase = frase.lower()\n",
        "  for letra in frase:\n",
        "    if letra in \"aeiou\":\n",
        "      vogais += 1\n",
        "\n",
        "  tem_python = True if frase.find(\"Python\") else False\n",
        "\n",
        "  return palavras, vogais, tem_python\n",
        "\n",
        "print(analisar_texto(\"Frase teste Python\"))"
      ],
      "metadata": {
        "colab": {
          "base_uri": "https://localhost:8080/"
        },
        "id": "KyKl4NMTXGMV",
        "outputId": "fc7d8fe9-1e80-4145-e8a9-257e4ab01dce"
      },
      "execution_count": 81,
      "outputs": [
        {
          "output_type": "stream",
          "name": "stdout",
          "text": [
            "(3, 5, True)\n"
          ]
        }
      ]
    },
    {
      "cell_type": "markdown",
      "source": [
        "#### **Desafios**"
      ],
      "metadata": {
        "id": "RY-SFsCxYoFx"
      }
    },
    {
      "cell_type": "markdown",
      "source": [
        "**Maior de todos**: Crie uma função chamada encontrar_maior_nome que recebe uma lista de nomes e retorna o maior. Se a lista estiver vazia, retorne None."
      ],
      "metadata": {
        "id": "ONCpZhKpYwiQ"
      }
    },
    {
      "cell_type": "code",
      "source": [
        "def encontrar_maior_nome(nomes):\n",
        "  if len(nomes) == 0:\n",
        "    return None\n",
        "\n",
        "  maior_nome = nomes[0]\n",
        "  for nome in nomes:\n",
        "    if len(nome) > len(maior_nome):\n",
        "      maior_nome = nome\n",
        "\n",
        "  return maior_nome\n",
        "\n",
        "\n",
        "lista_nomes =[\"Rafael\", \"Eduardo\", \"Cléber\"]\n",
        "\n",
        "print(encontrar_maior_nome([]))\n",
        "print(encontrar_maior_nome(lista_nomes))"
      ],
      "metadata": {
        "colab": {
          "base_uri": "https://localhost:8080/"
        },
        "id": "Enhazvp5YyR6",
        "outputId": "50abf3ed-7585-4f73-9414-f104da5b57e3"
      },
      "execution_count": 86,
      "outputs": [
        {
          "output_type": "stream",
          "name": "stdout",
          "text": [
            "None\n",
            "Eduardo\n"
          ]
        }
      ]
    },
    {
      "cell_type": "markdown",
      "source": [
        "**Número Secreto**: Crie uma função chamada adivinhar_numero. Dentro da função, o programa deve ficar pedindo palpites ao usuário (usando input) até que o número correto seja adivinhado. Quando o usuário acertar, a função deve que ele precisou para acertar."
      ],
      "metadata": {
        "id": "qQFrzCf9Zw6m"
      }
    },
    {
      "cell_type": "code",
      "source": [
        "def adivinhar_numero():\n",
        "  numero_correto = randint(1, 10)\n",
        "  numero_de_tentativas = 1\n",
        "\n",
        "  while True:\n",
        "    tentativa = int(input(f\"{numero_de_tentativas} tentativa: \").strip())\n",
        "\n",
        "    if tentativa == numero_correto:\n",
        "      print(\"ACERTOU!!!\")\n",
        "      break\n",
        "\n",
        "    numero_de_tentativas += 1\n",
        "\n",
        "adivinhar_numero()"
      ],
      "metadata": {
        "colab": {
          "base_uri": "https://localhost:8080/"
        },
        "id": "Ucvd0C5HZzV2",
        "outputId": "050ca273-dbe5-4812-b38b-39602ed69764"
      },
      "execution_count": 90,
      "outputs": [
        {
          "output_type": "stream",
          "name": "stdout",
          "text": [
            "1 tentativa: 1\n",
            "2 tentativa: 10\n",
            "3 tentativa: 9\n",
            "ACERTOU!!!\n"
          ]
        }
      ]
    },
    {
      "cell_type": "markdown",
      "source": [
        "**Vá além**: Tente adaptar exercícios anteriores para o formato de função."
      ],
      "metadata": {
        "id": "Jro5hoHAasQc"
      }
    },
    {
      "cell_type": "markdown",
      "source": [
        "lista 6 - Use while True para criar um menu com as opções: • 1 – Cadastrar nome; • 2 – Listar nomes; • 3 – Sair. Use break para sair do loop quando a opção 3 for escolhida."
      ],
      "metadata": {
        "id": "mT-R9fd2bOQH"
      }
    },
    {
      "cell_type": "code",
      "source": [
        "def cadastra_nomes(lista):\n",
        "  print(\"\\n--Cadastro--\\n[0 para sair do cadastro]\")\n",
        "  valor = input(f\"Informe o valor da posição {len(lista)}: \").strip()\n",
        "\n",
        "  while valor != '0':\n",
        "    lista.append(valor)\n",
        "    valor = input(f\"Informe o valor da posição {len(lista)}: \").strip()\n",
        "\n",
        "def lista_nomes(lista):\n",
        "  count = 1\n",
        "  print(\"\\n--Listagem--\\n\")\n",
        "\n",
        "  for nome in lista:\n",
        "    print(f\"Nome {count}: {nome}\")\n",
        "    count += 1\n",
        "\n",
        "def menu():\n",
        "  linha()\n",
        "  print(\"1 - Cadastro\\n2 - Listar\\n3 - Sair\")\n",
        "  linha()\n",
        "  opcao = int(input(\"Opcao Desejada: \").strip())\n",
        "\n",
        "  return opcao\n",
        "\n",
        "lista = []\n",
        "opcao = menu()\n",
        "while opcao != 3:\n",
        "  if opcao == 1:\n",
        "    cadastra_nomes(lista)\n",
        "  elif opcao == 2:\n",
        "    lista_nomes(lista)\n",
        "  elif opcao == 3:\n",
        "    lista_nomes(lista)\n",
        "  else:\n",
        "    print(\"--OPÇÃO INVÁLIDA--\")\n",
        "\n",
        "  opcao = menu()"
      ],
      "metadata": {
        "colab": {
          "base_uri": "https://localhost:8080/"
        },
        "id": "n9FOzAafbSP8",
        "outputId": "b8b713b2-db2a-4ba4-b258-868bf63303d5"
      },
      "execution_count": 102,
      "outputs": [
        {
          "name": "stdout",
          "output_type": "stream",
          "text": [
            "------------------------------\n",
            "1 - Cadastro\n",
            "2 - Listar\n",
            "3 - Sair\n",
            "------------------------------\n",
            "Opcao Desejada: 1\n",
            "\n",
            "--Cadastro--\n",
            "[0 para sair do cadastro]\n",
            "Informe o valor da posição 0: teste1\n",
            "Informe o valor da posição 1: teste2\n",
            "Informe o valor da posição 2: teste3\n",
            "Informe o valor da posição 3: 0\n",
            "------------------------------\n",
            "1 - Cadastro\n",
            "2 - Listar\n",
            "3 - Sair\n",
            "------------------------------\n",
            "Opcao Desejada: 2\n",
            "\n",
            "--Listagem--\n",
            "\n",
            "Nome 1: teste1\n",
            "Nome 2: teste2\n",
            "Nome 3: teste3\n",
            "------------------------------\n",
            "1 - Cadastro\n",
            "2 - Listar\n",
            "3 - Sair\n",
            "------------------------------\n",
            "Opcao Desejada: 3\n"
          ]
        }
      ]
    }
  ]
}