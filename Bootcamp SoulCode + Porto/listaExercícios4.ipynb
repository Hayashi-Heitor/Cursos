{
  "nbformat": 4,
  "nbformat_minor": 0,
  "metadata": {
    "colab": {
      "provenance": []
    },
    "kernelspec": {
      "name": "python3",
      "display_name": "Python 3"
    },
    "language_info": {
      "name": "python"
    }
  },
  "cells": [
    {
      "cell_type": "markdown",
      "source": [
        "\n",
        "# **Lista de exercícios 4** *(Heitor Hayashi Ferrairo)*, caso tenha algum comentário ou encontre algum erro me notifique por gentileza!\n",
        "\n",
        "---"
      ],
      "metadata": {
        "id": "oeNUUbjx1iy2"
      }
    },
    {
      "cell_type": "markdown",
      "source": [
        "*Exercícios em aula*"
      ],
      "metadata": {
        "id": "fFxccHD4H4Kh"
      }
    },
    {
      "cell_type": "markdown",
      "source": [
        "1. Peça um número ao usuário. Diga se ele é positivo, negativo ou zero."
      ],
      "metadata": {
        "id": "DH8B2FMF1rFN"
      }
    },
    {
      "cell_type": "code",
      "execution_count": 14,
      "metadata": {
        "colab": {
          "base_uri": "https://localhost:8080/"
        },
        "id": "5pyGhzCn1hXP",
        "outputId": "d30135fb-e675-4d50-9b11-3e7d5bb2f559"
      },
      "outputs": [
        {
          "output_type": "stream",
          "name": "stdout",
          "text": [
            "Informe um número: 122\n",
            "O número 122 é Positivo! E também Par!\n"
          ]
        }
      ],
      "source": [
        "número = int(input(\"Informe um número: \"))\n",
        "\n",
        "if número > 0:\n",
        "  print(f\"O número {número} é Positivo!\", end=\" \")\n",
        "\n",
        "  if número % 2 == 0:\n",
        "    print(\"e também Par!\")\n",
        "  else:\n",
        "    print(\"e também Ímpar\")\n",
        "\n",
        "elif número < 0:\n",
        "  print(f\"O número {número} é Negativo!\")\n",
        "else:\n",
        "  print(f\"O número é Zero!\")"
      ]
    },
    {
      "cell_type": "markdown",
      "source": [
        "2. Peça um turno (M, V ou N). Mostre \"Bom dia\", \"Boa tarde\" ou \"Boa noite\"."
      ],
      "metadata": {
        "id": "MdR4Iknn2l5e"
      }
    },
    {
      "cell_type": "code",
      "source": [
        "turno = input(\"Informe o turno: \").strip().upper()\n",
        "\n",
        "if turno == 'M':\n",
        "  print(\"Bom Dia\")\n",
        "elif turno == 'V':\n",
        "  print(\"Boa Tarde!\")\n",
        "elif turno == 'N':\n",
        "  print(\"Boa Noite!\")\n",
        "else:\n",
        "  print(f\"A opção: '{turno}' não é válida\")"
      ],
      "metadata": {
        "colab": {
          "base_uri": "https://localhost:8080/"
        },
        "id": "8zjOm0CW2n6U",
        "outputId": "9e4f48b5-71cd-4156-a988-d0851959e196"
      },
      "execution_count": 16,
      "outputs": [
        {
          "output_type": "stream",
          "name": "stdout",
          "text": [
            "Informe o turno: v\n",
            "Boa Tarde!\n"
          ]
        }
      ]
    },
    {
      "cell_type": "markdown",
      "source": [
        "3. Mostre um menu com opções matemáticas (Soma, Subtração, Multiplicação e Divisão).\n",
        "Leia 2 números e realiza a opção selecionada pelo usuário."
      ],
      "metadata": {
        "id": "ZVkUxLEV3KUP"
      }
    },
    {
      "cell_type": "code",
      "source": [
        "from math import pow\n",
        "\n",
        "opçãoSelecionada = input(\"Informe a opção desejada\\n| '+'Soma | '-'Subtração | '*'Multiplicação | '/'Divisão | '**'Potência |\\n\").strip()\n",
        "num1 = int(input(\"Informe o primeiro número: \"))\n",
        "num2 = int(input(\"Informe o segundo número: \"))\n",
        "print(\"-\" * 20)\n",
        "\n",
        "if opçãoSelecionada == '+':\n",
        "  print(\"O resultado da soma é:\", num1 + num2)\n",
        "elif opçãoSelecionada == '-':\n",
        "  print(\"O resultado da subtração é:\", num1 - num2)\n",
        "elif opçãoSelecionada == '*':\n",
        "  print(\"O resultado da multiplicação é:\", num1 * num2)\n",
        "elif opçãoSelecionada == '/':\n",
        "\n",
        "  if num2 == 0:\n",
        "    print(\"Divisão por zero impossível!\")\n",
        "  else:\n",
        "    print(\"O resultado da divisão é:\", num1 / num2)\n",
        "\n",
        "elif opçãoSelecionada == \"**\":\n",
        "  print(\"O resultado da potência é:\", pow(num1, num2))\n",
        "else:\n",
        "  print(f\"A opção {opçãoSelecionada} é inválida!\")"
      ],
      "metadata": {
        "colab": {
          "base_uri": "https://localhost:8080/"
        },
        "id": "EA9bTILi3z3L",
        "outputId": "70e3bb75-792e-44d3-fad7-e189ad4f252e"
      },
      "execution_count": 47,
      "outputs": [
        {
          "output_type": "stream",
          "name": "stdout",
          "text": [
            "Informe a opção desejada\n",
            "| '+'Soma | '-'Subtração | '*'Multiplicação | '/'Divisão | '**'Potência |\n",
            "/\n",
            "Informe o primeiro número: 10\n",
            "Informe o segundo número: 0\n",
            "--------------------\n",
            "Divisão por zero impossível!\n"
          ]
        }
      ]
    },
    {
      "cell_type": "markdown",
      "source": [
        "4. Leia dois números a e b e indique qual o maior usando ternário"
      ],
      "metadata": {
        "id": "ICQhlgk9F00t"
      }
    },
    {
      "cell_type": "code",
      "source": [
        "a = int(input(\"Informe o primeiro número: \"))\n",
        "b = int(input(\"Informe o segundo número: \"))\n",
        "\n",
        "maior = a if a > b else b\n",
        "\n",
        "print(\"O maior número é:\", maior)"
      ],
      "metadata": {
        "colab": {
          "base_uri": "https://localhost:8080/"
        },
        "id": "NGrANgOCF5P6",
        "outputId": "206d9141-3660-45d0-acef-ca12fd546c08"
      },
      "execution_count": 33,
      "outputs": [
        {
          "output_type": "stream",
          "name": "stdout",
          "text": [
            "Informe o primeiro número: 9\n",
            "Informe o segundo número: 20\n",
            "O maior número é: 20\n"
          ]
        }
      ]
    },
    {
      "cell_type": "markdown",
      "source": [
        "\n",
        "\n",
        "---\n",
        "\n",
        "*Exercícios do dia*\n",
        "\n",
        "**Nível Básico**"
      ],
      "metadata": {
        "id": "NAa1jTYqH2yw"
      }
    },
    {
      "cell_type": "markdown",
      "source": [
        "1. Peça ao usuário sua idade e diga se ele pode votar (idade mínima: 16 anos)."
      ],
      "metadata": {
        "id": "RmnPYqNBIRkr"
      }
    },
    {
      "cell_type": "code",
      "source": [
        "idade = int(input(\"Informe sua idade: \"))\n",
        "voto = \"liberado\" if idade >= 16 else \"proibido\"\n",
        "\n",
        "print(\"Voto\", voto)"
      ],
      "metadata": {
        "colab": {
          "base_uri": "https://localhost:8080/"
        },
        "id": "XCv0Dg0SITFS",
        "outputId": "0b3fe1b7-5422-4d11-bc4e-77658d8be15b"
      },
      "execution_count": 35,
      "outputs": [
        {
          "output_type": "stream",
          "name": "stdout",
          "text": [
            "Informe sua idade: 12\n",
            "Voto proibido\n"
          ]
        }
      ]
    },
    {
      "cell_type": "markdown",
      "source": [
        "2. Crie um programa que peça um número e diga se ele é divisível por 5."
      ],
      "metadata": {
        "id": "uOAjQPGPIk2c"
      }
    },
    {
      "cell_type": "code",
      "source": [
        "num = int(input(\"Informe um número: \"))\n",
        "divisivel = \"é\" if num % 5 == 0 else \"não é\"\n",
        "\n",
        "print(f\"O número {num} {divisivel} divisivel por 5\")"
      ],
      "metadata": {
        "colab": {
          "base_uri": "https://localhost:8080/"
        },
        "id": "O2Lq96MOImLG",
        "outputId": "0a40f410-0447-4909-c1a6-f9b3eb387f7a"
      },
      "execution_count": 38,
      "outputs": [
        {
          "output_type": "stream",
          "name": "stdout",
          "text": [
            "Informe um número: 11\n",
            "O número 11 não é divisivel por 5\n"
          ]
        }
      ]
    },
    {
      "cell_type": "markdown",
      "source": [
        "3. Peça um nome e diga se ele começa com a letra A (maiúscula ou minúscula)."
      ],
      "metadata": {
        "id": "7j7ubSz_Jdwx"
      }
    },
    {
      "cell_type": "code",
      "source": [
        "nome = input(\"Informe um nome: \").strip()\n",
        "\n",
        "if nome[0].upper() == 'A':\n",
        "  print(f\"O nome {nome} começa com a letra 'A'\")\n",
        "else:\n",
        "  print(f\"O nome {nome} não começa com a letra 'A'\")"
      ],
      "metadata": {
        "colab": {
          "base_uri": "https://localhost:8080/"
        },
        "id": "eIKUmzHoJkSv",
        "outputId": "b8cbab21-931a-4f5d-e8f0-42a2a320612b"
      },
      "execution_count": 42,
      "outputs": [
        {
          "output_type": "stream",
          "name": "stdout",
          "text": [
            "Informe um nome: algusto\n",
            "O nome algusto começa com a letra 'A'\n"
          ]
        }
      ]
    },
    {
      "cell_type": "markdown",
      "source": [
        "4. Peça ao usuário duas senhas e diga se elas coincidem."
      ],
      "metadata": {
        "id": "htBZ_y6ZKF7p"
      }
    },
    {
      "cell_type": "code",
      "source": [
        "primeiraSenha = input(\"Informe a primeira senha: \").strip()\n",
        "segundaSenha = input(\"Informe a segunda senha: \").strip()\n",
        "senhasIguais = \"são\" if primeiraSenha == segundaSenha else \"não são\"\n",
        "\n",
        "print(f\"As senha {primeiraSenha} e {segundaSenha} {senhasIguais} iguais\")"
      ],
      "metadata": {
        "colab": {
          "base_uri": "https://localhost:8080/"
        },
        "id": "NbEKiCszJ73R",
        "outputId": "45196b61-536f-446c-e98f-c746229c6712"
      },
      "execution_count": 44,
      "outputs": [
        {
          "output_type": "stream",
          "name": "stdout",
          "text": [
            "Informe a primeira senha: 123\n",
            "Informe a segunda senha: 321\n",
            "As senha 123 e 321 não são iguais\n"
          ]
        }
      ]
    },
    {
      "cell_type": "markdown",
      "source": [
        "5. Peça um número ao usuário e calcule sua raiz quadrada. Se o número for negativo, informe que não existe raiz quadrada real para esse valor."
      ],
      "metadata": {
        "id": "lBHKQN1oKu-G"
      }
    },
    {
      "cell_type": "code",
      "source": [
        "from math import sqrt\n",
        "\n",
        "num = float(input(\"Informe um número: \"))\n",
        "\n",
        "if num < 0:\n",
        "  print(\"Raiz quadrada real impossível\")\n",
        "else:\n",
        "  print(f\"Raiz quadrada: {sqrt(num):.4f}\")"
      ],
      "metadata": {
        "colab": {
          "base_uri": "https://localhost:8080/"
        },
        "id": "JdZCC_ajKxrt",
        "outputId": "80fb1b9c-5c6a-4eab-ac0f-b98f00991c5c"
      },
      "execution_count": 49,
      "outputs": [
        {
          "output_type": "stream",
          "name": "stdout",
          "text": [
            "Informe um número: 10\n",
            "Raiz quadrada: 3.1623\n"
          ]
        }
      ]
    },
    {
      "cell_type": "markdown",
      "source": [
        "\n",
        "\n",
        "---\n",
        "\n",
        "\n",
        "**Nível Intermediário**"
      ],
      "metadata": {
        "id": "zTi6d768Lyp7"
      }
    },
    {
      "cell_type": "markdown",
      "source": [
        "1. Solicite o nome de usuário e a senha. Só permita o acesso se ambos forem “admin” e “1234”."
      ],
      "metadata": {
        "id": "CZnk_cMCL3Gh"
      }
    },
    {
      "cell_type": "code",
      "source": [
        "nomeDeUsuário = input(\"Informe seu usuário: \").strip()\n",
        "senha = input(\"Informe sua senha: \")\n",
        "\n",
        "if nomeDeUsuário == \"admin\" and senha == \"1234\":\n",
        "  print(\"--Acesso Autorizado--\")\n",
        "else:\n",
        "  print(\"--Acesso Negado--\")"
      ],
      "metadata": {
        "colab": {
          "base_uri": "https://localhost:8080/"
        },
        "id": "FKpYwN69L21J",
        "outputId": "21745d05-8a6a-488a-e4e9-1a6d01efcdf6"
      },
      "execution_count": 52,
      "outputs": [
        {
          "output_type": "stream",
          "name": "stdout",
          "text": [
            "Informe seu usuário: admin\n",
            "Informe sua senha: 1234\n",
            "--Acesso Autorizado--\n"
          ]
        }
      ]
    },
    {
      "cell_type": "markdown",
      "source": [
        "2. Crie um programa que calcule o preço final de um produto com base nas regras:\n",
        "\n",
        "*   Se for à vista, tem 10% de desconto.\n",
        "*   Se for parcelado em 2x, preço normal.\n",
        "*   Se for em 3x ou mais, acréscimo de 20%."
      ],
      "metadata": {
        "id": "5v_Lg2y-MZ7c"
      }
    },
    {
      "cell_type": "code",
      "source": [
        "preçoBase = float(input(\"Informe o preço base do produto: \"))\n",
        "parcelamento = int(input(\"Parcelamento [No caso de compra a vista digite 1]\\n\"))\n",
        "\n",
        "if parcelamento >= 3:\n",
        "  print(f\"Acréscimo de R${preçoBase * 0.20:.2f}\\nValor final: R${preçoBase * 1.20:.2f}\")\n",
        "elif parcelamento == 2:\n",
        "  print(f\"Sem Acréscimo\\nValor final: {preçoBase}\")\n",
        "elif parcelamento == 1:\n",
        "  print(f\"Desconto de R${preçoBase * 0.10:.2f}\\nValor final: R${preçoBase * 0.90:.2f}\")\n",
        "else:\n",
        "  print(\"Valor de parcelamento inválido\")"
      ],
      "metadata": {
        "colab": {
          "base_uri": "https://localhost:8080/"
        },
        "id": "AKmWdtfIMbp_",
        "outputId": "41662e2c-8229-4bb0-8a6e-c39d698c705e"
      },
      "execution_count": 60,
      "outputs": [
        {
          "output_type": "stream",
          "name": "stdout",
          "text": [
            "Informe o preço base do produto: 200\n",
            "Parcelamento [No caso de compra a vista digite 1]\n",
            "4\n",
            "Acréscimo de R$40.00\n",
            "Valor final: R$240.00\n"
          ]
        }
      ]
    },
    {
      "cell_type": "markdown",
      "source": [
        "3. Peça três números e diga qual é o maior."
      ],
      "metadata": {
        "id": "RKpJ6E_yOOtF"
      }
    },
    {
      "cell_type": "code",
      "source": [
        "n1 = int(input(\"Informe o primeiro número: \"))\n",
        "n2 = int(input(\"Informe o segundo número: \"))\n",
        "n3 = int(input(\"Informe o terceiro número: \"))\n",
        "\n",
        "if n1 > n2 and n1 > n3:\n",
        "  print(\"O maior número é o\", n1)\n",
        "elif n2 > n1 and n2 > n3:\n",
        "  print(\"O maior número é o\", n2)\n",
        "elif n3 > n1 and n3 > n2:\n",
        "  print(\"O maior número é o\", n3)\n",
        "else:\n",
        "  print(\"Os números são iguais\")"
      ],
      "metadata": {
        "colab": {
          "base_uri": "https://localhost:8080/"
        },
        "id": "0EYnkyhoPDAY",
        "outputId": "29e9dcfe-9d1a-4620-bebf-cc8ec91e401b"
      },
      "execution_count": 64,
      "outputs": [
        {
          "output_type": "stream",
          "name": "stdout",
          "text": [
            "Informe o primeiro número: 9\n",
            "Informe o segundo número: 8\n",
            "Informe o terceiro número: 10\n",
            "O maior número é o 10\n"
          ]
        }
      ]
    },
    {
      "cell_type": "markdown",
      "source": [
        "4. Solicite a idade de uma pessoa e classifique: • Menor de idade (<18), • Adulto (18 a 59), • Idoso (60 ou mais)."
      ],
      "metadata": {
        "id": "F7ZMS7xgQCf9"
      }
    },
    {
      "cell_type": "code",
      "source": [
        "idade = int(input(\"Informe a idade: \"))\n",
        "\n",
        "if idade > 60:\n",
        "  print(\"Idoso\")\n",
        "elif idade > 18:\n",
        "  print(\"Adulto\")\n",
        "else:\n",
        "  print(\"Menor de idade\")"
      ],
      "metadata": {
        "colab": {
          "base_uri": "https://localhost:8080/"
        },
        "id": "NO9S0nZbQUVw",
        "outputId": "84f98d61-d66b-4f1d-f691-f185c83e4f78"
      },
      "execution_count": 65,
      "outputs": [
        {
          "output_type": "stream",
          "name": "stdout",
          "text": [
            "Informe a idade: 19\n",
            "Adulto\n"
          ]
        }
      ]
    },
    {
      "cell_type": "markdown",
      "source": [
        "5. Peça uma frase e diga se ela termina com ponto final."
      ],
      "metadata": {
        "id": "0p2wsKWJQlWW"
      }
    },
    {
      "cell_type": "code",
      "source": [
        "frase = input(\"Informe uma frase: \").strip()\n",
        "temPontoFinal = \"tem\" if frase[-1] == \".\" else \"não tem\"\n",
        "\n",
        "print(f\"A frase {frase} {temPontoFinal} ponto final\")"
      ],
      "metadata": {
        "colab": {
          "base_uri": "https://localhost:8080/"
        },
        "id": "rOlVUMTqQlCm",
        "outputId": "3f8ff326-2e1c-4e11-a2ba-65d8ec0c42e6"
      },
      "execution_count": 68,
      "outputs": [
        {
          "output_type": "stream",
          "name": "stdout",
          "text": [
            "Informe uma frase: teste.     \n",
            "A frase teste. tem ponto final\n"
          ]
        }
      ]
    },
    {
      "cell_type": "markdown",
      "source": [
        "6. Crie um programa que escolha um número aleatório entre 1 e 10 e peça para o usuário tentar adivinhar. Informe se ele acertou ou não, mostrando o número correto em caso de erro."
      ],
      "metadata": {
        "id": "oVNMHdYCRFC_"
      }
    },
    {
      "cell_type": "code",
      "source": [
        "from random import randint\n",
        "\n",
        "num = int(input(\"Informe um número entre 1 e 10: \"))\n",
        "numeroSorteado = randint(1, 10)\n",
        "\n",
        "if num == numeroSorteado:\n",
        "  print(\"Você Acertou!!!\")\n",
        "else:\n",
        "  print(f\"Sua escolha: {num}\\nNúmero sorteado: {numeroSorteado}\")"
      ],
      "metadata": {
        "colab": {
          "base_uri": "https://localhost:8080/"
        },
        "id": "e4REvkz0RG4i",
        "outputId": "fce3e368-5ae2-4c40-dea1-18d55b56a322"
      },
      "execution_count": 76,
      "outputs": [
        {
          "output_type": "stream",
          "name": "stdout",
          "text": [
            "Informe um número entre 1 e 10: 1\n",
            "Sua escolha: 1\n",
            "Número sorteado: 10\n"
          ]
        }
      ]
    }
  ]
}