{
  "nbformat": 4,
  "nbformat_minor": 0,
  "metadata": {
    "colab": {
      "provenance": []
    },
    "kernelspec": {
      "name": "python3",
      "display_name": "Python 3"
    },
    "language_info": {
      "name": "python"
    }
  },
  "cells": [
    {
      "cell_type": "markdown",
      "source": [
        "# **Lista de exercícios 2** (*Heitor Hayashi Ferrairo*), caso tenha algum comentário ou encontre algum erro me notifique por gentileza!"
      ],
      "metadata": {
        "id": "yizZ1DNELH9Y"
      }
    },
    {
      "cell_type": "markdown",
      "source": [
        "\n",
        "\n",
        "---\n",
        "\n",
        "**Nível Básico**"
      ],
      "metadata": {
        "id": "PFetAcx2Naar"
      }
    },
    {
      "cell_type": "markdown",
      "source": [
        "1. Crie um programa que receba dois números e exiba: • A soma • A subtração • A multiplicação • A divisão"
      ],
      "metadata": {
        "id": "z6B3WCjjLX8Y"
      }
    },
    {
      "cell_type": "code",
      "execution_count": 1,
      "metadata": {
        "colab": {
          "base_uri": "https://localhost:8080/"
        },
        "id": "NcVJxg3sK6iH",
        "outputId": "a767406b-aa2c-4cf4-dbea-03ee1e18b508"
      },
      "outputs": [
        {
          "output_type": "stream",
          "name": "stdout",
          "text": [
            "Informe o primeiro número: 5\n",
            "Informe o segundo número: 2\n",
            "Soma = 7, Subtração = 3, Multiplicação = 10, Divisão = 2.5\n"
          ]
        }
      ],
      "source": [
        "n1 = int(input(\"Informe o primeiro número: \"))\n",
        "n2 = int(input(\"Informe o segundo número: \"))\n",
        "print(f\"Soma = {n1 + n2}, Subtração = {n1 - n2}, Multiplicação = {n1 * n2}, Divisão = {n1 / n2}\")"
      ]
    },
    {
      "cell_type": "markdown",
      "source": [
        "2. Calcule e exiba: • O quadrado de um número • O resto da divisão entre dois números"
      ],
      "metadata": {
        "id": "ZA8RLqbqL5fU"
      }
    },
    {
      "cell_type": "code",
      "source": [
        "print(f\"Quadrado de 5: {5 ** 2}, Resto da divisão entre 10 e 2: {10 % 2}\")"
      ],
      "metadata": {
        "colab": {
          "base_uri": "https://localhost:8080/"
        },
        "id": "To_LJggDL7Ql",
        "outputId": "31bd6f4b-c4e9-48a7-c50a-2be744438b57"
      },
      "execution_count": 16,
      "outputs": [
        {
          "output_type": "stream",
          "name": "stdout",
          "text": [
            "Quadrado de 5: 25, Resto da divisão entre 10 e 2: 0\n"
          ]
        }
      ]
    },
    {
      "cell_type": "markdown",
      "source": [
        "3. Escreva um código que verifique se dois números são iguais."
      ],
      "metadata": {
        "id": "b3z2Q4oMMrEq"
      }
    },
    {
      "cell_type": "code",
      "source": [
        "n1 = int(input(\"Informe o primeiro número: \"))\n",
        "n2 = int(input(\"Informe o segundo número: \"))\n",
        "print(\"Números iguais:\", n1 == n2)"
      ],
      "metadata": {
        "colab": {
          "base_uri": "https://localhost:8080/"
        },
        "id": "D2pdKgygMuKN",
        "outputId": "a882cc9c-678a-4ea0-ce49-93d9bd28c357"
      },
      "execution_count": 6,
      "outputs": [
        {
          "output_type": "stream",
          "name": "stdout",
          "text": [
            "Informe o primeiro número: 7\n",
            "Informe o segundo número: 7\n",
            "Números iguais: True\n"
          ]
        }
      ]
    },
    {
      "cell_type": "markdown",
      "source": [
        "4. Peça ao usuário sua idade e exiba se ele tem idade mínima para votar (maior ou igual a 16 anos)."
      ],
      "metadata": {
        "id": "xim3ufT9M734"
      }
    },
    {
      "cell_type": "code",
      "source": [
        "idade = int(input(\"Informe sua idade: \"))\n",
        "print(\"Pode votar:\", idade > 15)"
      ],
      "metadata": {
        "colab": {
          "base_uri": "https://localhost:8080/"
        },
        "id": "9EJazmOXM9eH",
        "outputId": "9cce22d5-cf03-4432-8f51-c33ba6b7e7c2"
      },
      "execution_count": 8,
      "outputs": [
        {
          "output_type": "stream",
          "name": "stdout",
          "text": [
            "Informe sua idade: 19\n",
            "Pode votar: True\n"
          ]
        }
      ]
    },
    {
      "cell_type": "markdown",
      "source": [
        "5. Defina duas variáveis, a = 10 e b = 3, e exiba o resultado das seguintes expressões: • a + b * 2 • (a + b) * 2 • a % b • a // b"
      ],
      "metadata": {
        "id": "2EbHygZlNJoD"
      }
    },
    {
      "cell_type": "code",
      "source": [
        "a = 10\n",
        "b = 3\n",
        "print(a + b * 2, (a + b) * 2, a % b, a // b)"
      ],
      "metadata": {
        "colab": {
          "base_uri": "https://localhost:8080/"
        },
        "id": "VKsB4TM9NLpP",
        "outputId": "5acd1d8c-a21b-490b-cab0-72ef0e0daf7a"
      },
      "execution_count": 9,
      "outputs": [
        {
          "output_type": "stream",
          "name": "stdout",
          "text": [
            "16 26 1 3\n"
          ]
        }
      ]
    },
    {
      "cell_type": "markdown",
      "source": [
        "\n",
        "---\n",
        "\n",
        "**Nível Intermediário**"
      ],
      "metadata": {
        "id": "1dyyWuuiNoFx"
      }
    },
    {
      "cell_type": "markdown",
      "source": [
        "1. Escreva um programa que peça duas notas e diga se a média é maior ou igual a 7. Use operadores relacionais."
      ],
      "metadata": {
        "id": "ofuXhKOWNspL"
      }
    },
    {
      "cell_type": "code",
      "source": [
        "nota1 = float(input(\"Informe a primeira nota: \"))\n",
        "nota2 = float(input(\"Informe a segunda nota: \"))\n",
        "print(\"Média maior ou igual a 7 :\", ((nota1 + nota2) / 2) > 6)"
      ],
      "metadata": {
        "colab": {
          "base_uri": "https://localhost:8080/"
        },
        "id": "GtOHnTLdNvjE",
        "outputId": "c5f9b105-39e6-4be0-ab96-31a981baa526"
      },
      "execution_count": 13,
      "outputs": [
        {
          "output_type": "stream",
          "name": "stdout",
          "text": [
            "Informe a primeira nota: 9.1\n",
            "Informe a segunda nota: 8.2\n",
            "Média maior ou igual a 7 : True\n"
          ]
        }
      ]
    },
    {
      "cell_type": "markdown",
      "source": [
        "2. Peça a idade do usuário e se ele tem autorização dos responsáveis. Depois, use operadores lógicos para decidir se ele pode assistir a um filme classificado para 18+."
      ],
      "metadata": {
        "id": "O_f3Mjp6OJkF"
      }
    },
    {
      "cell_type": "code",
      "source": [
        "idade = int(input(\"Informe a sua idade: \"))\n",
        "permissao = input(\"Você tem permissão dos responáveis? (s/n): \")\n",
        "print(\"Pode assistir =\", idade > 17 or permissao == 's')"
      ],
      "metadata": {
        "colab": {
          "base_uri": "https://localhost:8080/"
        },
        "id": "zEaGtF9IORQj",
        "outputId": "d894b7fc-2777-4d41-dc0e-0d5ff9e95722"
      },
      "execution_count": 14,
      "outputs": [
        {
          "output_type": "stream",
          "name": "stdout",
          "text": [
            "Informe a sua idade: 12\n",
            "Você tem permissão dos responáveis? (s/n): s\n",
            "Pode assistir = True\n"
          ]
        }
      ]
    },
    {
      "cell_type": "markdown",
      "source": [
        "3. Verifique se um número fornecido é par ou ímpar. Dica: use o operador %."
      ],
      "metadata": {
        "id": "BAnEhLnlO2g1"
      }
    },
    {
      "cell_type": "code",
      "source": [
        "numero = int(input(\"Informe o número: \"))\n",
        "print(\"O numero é par:\", numero % 2 == 0)"
      ],
      "metadata": {
        "colab": {
          "base_uri": "https://localhost:8080/"
        },
        "id": "J5Xu4WS1O43-",
        "outputId": "b4c7c985-1bf5-45d7-d416-d06ef4dc44b4"
      },
      "execution_count": 17,
      "outputs": [
        {
          "output_type": "stream",
          "name": "stdout",
          "text": [
            "Informe o número: 8\n",
            "O numero é par: True\n"
          ]
        }
      ]
    },
    {
      "cell_type": "markdown",
      "source": [
        "4. Crie um programa que: • Receba o salário e o tempo de serviço de um funcionário; • Exiba True se ele tiver direito a bônus (salário menor que 2000 e tempo de serviço maior que 5 anos)."
      ],
      "metadata": {
        "id": "4iy0cmeRPD5v"
      }
    },
    {
      "cell_type": "code",
      "source": [
        "salário = float(input(\"Informe o salario: \"))\n",
        "tempoDeServiço = int(input(\"Informe o tempo de serviço: \"))\n",
        "print(\"Direito a bônus:\", salário < 2000 and tempoDeServiço > 5)"
      ],
      "metadata": {
        "colab": {
          "base_uri": "https://localhost:8080/"
        },
        "id": "y-yH8zIePFfI",
        "outputId": "2abcf7b4-2934-4f3d-906f-ba876ace8093"
      },
      "execution_count": 19,
      "outputs": [
        {
          "output_type": "stream",
          "name": "stdout",
          "text": [
            "Informe o salario: 1200\n",
            "Informe o tempo de serviço: 6\n",
            "Direito a bônus: True\n"
          ]
        }
      ]
    },
    {
      "cell_type": "markdown",
      "source": [
        "5. Desafie-se: escreva uma expressão que seja True apenas se: • A variável idade for entre 18 e 30 (inclusive); • E a variável curso for igual a \"Python\"."
      ],
      "metadata": {
        "id": "q0EzvGVQPqw9"
      }
    },
    {
      "cell_type": "code",
      "source": [
        "idade = int(input(\"Informe a idade: \"))\n",
        "curso = input(\"Informe o curso: \")\n",
        "print(idade > 17 and idade < 31 and curso == \"Python\")"
      ],
      "metadata": {
        "colab": {
          "base_uri": "https://localhost:8080/"
        },
        "id": "4gMipmIGPsDx",
        "outputId": "f976081b-cca7-435b-e9cc-49a54c521391"
      },
      "execution_count": 21,
      "outputs": [
        {
          "output_type": "stream",
          "name": "stdout",
          "text": [
            "Informe a idade: 24\n",
            "Informe o curso: Assembly\n",
            "False\n"
          ]
        }
      ]
    }
  ]
}