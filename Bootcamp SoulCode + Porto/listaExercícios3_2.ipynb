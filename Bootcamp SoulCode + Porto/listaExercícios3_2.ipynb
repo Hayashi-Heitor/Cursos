{
  "nbformat": 4,
  "nbformat_minor": 0,
  "metadata": {
    "colab": {
      "provenance": []
    },
    "kernelspec": {
      "name": "python3",
      "display_name": "Python 3"
    },
    "language_info": {
      "name": "python"
    }
  },
  "cells": [
    {
      "cell_type": "markdown",
      "source": [
        "\n",
        "# **Lista de exercícios 3-2** *(Heitor Hayashi Ferrairo)*, caso tenha algum comentário ou encontre algum erro me notifique por gentileza!\n",
        "\n",
        "---"
      ],
      "metadata": {
        "id": "hZkYQWv9bkMN"
      }
    },
    {
      "cell_type": "markdown",
      "source": [
        "1. Escreva um programa que lê um número e mostra vários cálculos matemáticos do módulo math."
      ],
      "metadata": {
        "id": "_bPjS_wkbXYO"
      }
    },
    {
      "cell_type": "code",
      "execution_count": null,
      "metadata": {
        "colab": {
          "base_uri": "https://localhost:8080/"
        },
        "id": "sWlTkPoXa6xa",
        "outputId": "59a7b1e0-9591-492c-998e-81b2a329f23b"
      },
      "outputs": [
        {
          "output_type": "stream",
          "name": "stdout",
          "text": [
            "Informe um número: 50\n",
            "Raiz Quadrada:  7.0710678118654755\n",
            "Logaritmo:  3.912023005428146\n",
            "Ao cubo:  125000.0\n"
          ]
        }
      ],
      "source": [
        "import math\n",
        "\n",
        "numero = int(input(\"Informe um número: \"))\n",
        "\n",
        "print(\"Raiz Quadrada: \", math.sqrt(numero))\n",
        "print(\"Logaritmo: \", math.log(numero))\n",
        "print(\"Ao cubo: \", math.pow(numero, 3))"
      ]
    },
    {
      "cell_type": "markdown",
      "source": [
        "2. Escreva um programa que mostre a data e a hora atual. Ex: %d/%m/%Y"
      ],
      "metadata": {
        "id": "7ItJpr5ddB-a"
      }
    },
    {
      "cell_type": "code",
      "source": [
        "from time import strftime\n",
        "\n",
        "print(strftime(\"%H : %M : %S\"))\n",
        "print(strftime(\"%Y / %m / %d\"))"
      ],
      "metadata": {
        "colab": {
          "base_uri": "https://localhost:8080/"
        },
        "id": "QByMnEK9dDrJ",
        "outputId": "d1440402-242d-4c80-d50d-4b2104bde3e9"
      },
      "execution_count": 18,
      "outputs": [
        {
          "output_type": "stream",
          "name": "stdout",
          "text": [
            "19 : 46 : 34\n",
            "2025 / 06 / 04\n"
          ]
        }
      ]
    },
    {
      "cell_type": "markdown",
      "source": [
        "3. Crie um programa que faça uma pausa de 5 segundos antes de exibir uma mensagem."
      ],
      "metadata": {
        "id": "8i1-3ROoe1fQ"
      }
    },
    {
      "cell_type": "code",
      "source": [
        "from time import sleep\n",
        "\n",
        "sleep(5)\n",
        "print(\"Se passaram 5 segundos!\")"
      ],
      "metadata": {
        "colab": {
          "base_uri": "https://localhost:8080/"
        },
        "id": "LYun_ZW7e3f4",
        "outputId": "9ebe0c09-075b-46f5-f359-772368228044"
      },
      "execution_count": 19,
      "outputs": [
        {
          "output_type": "stream",
          "name": "stdout",
          "text": [
            "Se passaram 5 segundos!\n"
          ]
        }
      ]
    },
    {
      "cell_type": "markdown",
      "source": [
        "4. Escreva um programa que gere um número inteiro aleatório entre 50 e 100."
      ],
      "metadata": {
        "id": "vt286RJOe_iJ"
      }
    },
    {
      "cell_type": "code",
      "source": [
        "from random import randint\n",
        "\n",
        "print(randint(50, 100))"
      ],
      "metadata": {
        "colab": {
          "base_uri": "https://localhost:8080/"
        },
        "id": "jFiz7COgfCby",
        "outputId": "0d7f2f11-281e-46b7-b1ee-5f30436f564c"
      },
      "execution_count": 20,
      "outputs": [
        {
          "output_type": "stream",
          "name": "stdout",
          "text": [
            "82\n"
          ]
        }
      ]
    },
    {
      "cell_type": "markdown",
      "source": [
        "5. Crie um programa que simule o lançamento de uma moeda (cara ou coroa)."
      ],
      "metadata": {
        "id": "551twQHIfOMG"
      }
    },
    {
      "cell_type": "code",
      "source": [
        "from random import randint\n",
        "\n",
        "moeda = randint(0, 1)\n",
        "coroa = moeda == 1\n",
        "cara = moeda == 0\n",
        "\n",
        "print(f\"Cara: {cara} Coroa: {coroa}\")"
      ],
      "metadata": {
        "colab": {
          "base_uri": "https://localhost:8080/"
        },
        "id": "lbLXMIshfQKi",
        "outputId": "72d07f48-768a-4bc9-f02e-b178e1bbe7c8"
      },
      "execution_count": 24,
      "outputs": [
        {
          "output_type": "stream",
          "name": "stdout",
          "text": [
            "Cara: True Coroa: False\n"
          ]
        }
      ]
    },
    {
      "cell_type": "markdown",
      "source": [
        "6. (Desafio). Crie um gerador de senhas simples. O programa deve: • Pedir um nome; • Gerar uma senha com a primeira letra do nome + três letras aleatórias + dois números aleatórios."
      ],
      "metadata": {
        "id": "h81CZM9gfrYT"
      }
    },
    {
      "cell_type": "code",
      "source": [
        "import random as r\n",
        "\n",
        "nome = input(\"Informe um nome: \").strip()\n",
        "\n",
        "senha = nome[0]\n",
        "senha += r.choice(\"abcdefghijklmnopqrstuvwxyz\")\n",
        "senha += r.choice(\"abcdefghijklmnopqrstuvwxyz\")\n",
        "senha += r.choice(\"abcdefghijklmnopqrstuvwxyz\")\n",
        "senha += r.choice(\"0123456789\")\n",
        "senha += r.choice(\"0123456789\")\n",
        "\n",
        "print(senha)"
      ],
      "metadata": {
        "colab": {
          "base_uri": "https://localhost:8080/"
        },
        "id": "uuv6CoAMfyPc",
        "outputId": "0466e522-fedf-47dd-ed6a-1f5759cf2850"
      },
      "execution_count": 30,
      "outputs": [
        {
          "output_type": "stream",
          "name": "stdout",
          "text": [
            "Informe um nome: joao\n",
            "jeof31\n"
          ]
        }
      ]
    }
  ]
}