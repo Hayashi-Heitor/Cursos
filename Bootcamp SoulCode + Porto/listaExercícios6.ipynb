{
  "nbformat": 4,
  "nbformat_minor": 0,
  "metadata": {
    "colab": {
      "provenance": []
    },
    "kernelspec": {
      "name": "python3",
      "display_name": "Python 3"
    },
    "language_info": {
      "name": "python"
    }
  },
  "cells": [
    {
      "cell_type": "markdown",
      "source": [
        "# **Lista de exercícios 6** *(Heitor Hayashi Ferrairo)*, caso tenha algum comentário ou encontre algum erro me notifique por gentileza!"
      ],
      "metadata": {
        "id": "5d74THddG-PE"
      }
    },
    {
      "cell_type": "markdown",
      "source": [
        "**Exercíos feitos em aula**\n",
        "\n",
        "Com base na lista \"sacola\", mostre cada fruta em maiusculo e quantos caracteres ela tem."
      ],
      "metadata": {
        "id": "IFLZn7mYysa_"
      }
    },
    {
      "cell_type": "code",
      "execution_count": 2,
      "metadata": {
        "colab": {
          "base_uri": "https://localhost:8080/"
        },
        "id": "pU8ChBVwvHX_",
        "outputId": "e4df3c3f-e6ba-4679-ea33-e090db0093b3"
      },
      "outputs": [
        {
          "output_type": "stream",
          "name": "stdout",
          "text": [
            "MAÇA 4\n",
            "BANANA 6\n",
            "UVA 3\n",
            "CEREJA 6\n"
          ]
        }
      ],
      "source": [
        "sacola = [\"maça\", \"banana\", \"uva\", \"cereja\"]\n",
        "\n",
        "for fruta in sacola:\n",
        "  print(fruta.upper(), len(fruta))"
      ]
    },
    {
      "cell_type": "markdown",
      "source": [
        "Leia uma frase do usuário. Conte QUANTAS vogais tem a frase. Considerar minusculas e maiusculas."
      ],
      "metadata": {
        "id": "3pZjQ_Yy6kmN"
      }
    },
    {
      "cell_type": "code",
      "source": [
        "frase = input(\"Informe uma frase: \").strip()\n",
        "vogais = 'a', 'e', 'i', 'o', 'u', 'A', 'E', 'I', 'O', 'U'\n",
        "count = 0\n",
        "\n",
        "for letra in frase:\n",
        "  if(letra in vogais):\n",
        "    count += 1\n",
        "\n",
        "print(count)"
      ],
      "metadata": {
        "colab": {
          "base_uri": "https://localhost:8080/"
        },
        "id": "n4GpuDAS6j_t",
        "outputId": "8925a4c1-1ce1-44c8-c107-0926ea64a502"
      },
      "execution_count": 6,
      "outputs": [
        {
          "output_type": "stream",
          "name": "stdout",
          "text": [
            "Informe uma frase: Teste de vogais\n",
            "6\n"
          ]
        }
      ]
    },
    {
      "cell_type": "markdown",
      "source": [
        "Peça ao usuário uma palavra. Mostre quais caracteres e a respectiva quantidade de cada.\n",
        "BATATA -> B: 1, A: 3, T: 2"
      ],
      "metadata": {
        "id": "wyJu5ZLtBisM"
      }
    },
    {
      "cell_type": "code",
      "source": [
        "palavra = input(\"Informe uma palavra: \").strip()\n",
        "letras = {}\n",
        "\n",
        "for letra in palavra.lower():\n",
        "  if letra != \" \":\n",
        "    letras[letra] = letras.get(letra, 0) + 1\n",
        "\n",
        "print(palavra, \"->\", end=\" \")\n",
        "for letra in letras:\n",
        "  print(f\"{letra.upper()}: {letras[letra]}\", end=\",\")"
      ],
      "metadata": {
        "colab": {
          "base_uri": "https://localhost:8080/"
        },
        "id": "ctTPott1BeDW",
        "outputId": "56032714-caed-4919-abb8-415e573d1399"
      },
      "execution_count": 24,
      "outputs": [
        {
          "output_type": "stream",
          "name": "stdout",
          "text": [
            "Informe uma palavra: Teste top\n",
            "Teste top -> T: 3,E: 2,S: 1,O: 1,P: 1,"
          ]
        }
      ]
    },
    {
      "cell_type": "markdown",
      "source": [
        "Crie um while que mostre do 20 até o 40"
      ],
      "metadata": {
        "id": "k0LuTXQJnFji"
      }
    },
    {
      "cell_type": "code",
      "source": [
        "x = 20\n",
        "\n",
        "while x <= 40:\n",
        "  print(x)\n",
        "  x += 1"
      ],
      "metadata": {
        "colab": {
          "base_uri": "https://localhost:8080/"
        },
        "id": "SQhyQwcJnISW",
        "outputId": "a7e5342c-c4fa-4e35-a048-6490929b5a7b"
      },
      "execution_count": 1,
      "outputs": [
        {
          "output_type": "stream",
          "name": "stdout",
          "text": [
            "20\n",
            "21\n",
            "22\n",
            "23\n",
            "24\n",
            "25\n",
            "26\n",
            "27\n",
            "28\n",
            "29\n",
            "30\n",
            "31\n",
            "32\n",
            "33\n",
            "34\n",
            "35\n",
            "36\n",
            "37\n",
            "38\n",
            "39\n",
            "40\n"
          ]
        }
      ]
    },
    {
      "cell_type": "markdown",
      "source": [
        "Crie um programa que lê uma nota de 0 a 10. Peça novamente a nota até que o usuário escreva uma nota válida. Ao final exiba o resultado."
      ],
      "metadata": {
        "id": "qNMHWrY6oz46"
      }
    },
    {
      "cell_type": "code",
      "source": [
        "nota = float(input(\"Informe uma nota de 0 a 10: \").strip().replace(',', '.'))\n",
        "\n",
        "while nota < 0 or nota > 10:\n",
        "  nota = float(input(\"Informe uma nota válida: \").strip().replace(',', '.'))\n",
        "\n",
        "print(nota)"
      ],
      "metadata": {
        "colab": {
          "base_uri": "https://localhost:8080/"
        },
        "id": "yuHNs_D6pB0o",
        "outputId": "d30fe5cf-7aed-4dbd-d8dd-1cc24c9c60d6"
      },
      "execution_count": 11,
      "outputs": [
        {
          "output_type": "stream",
          "name": "stdout",
          "text": [
            "Informe uma nota de 0 a 10: 23\n",
            "Informe uma nota válida: -4,1\n",
            "Informe uma nota válida: 8,2\n",
            "8.2\n"
          ]
        }
      ]
    },
    {
      "cell_type": "markdown",
      "source": [
        "Gere uma lista com 100 números aleatórios (1 a 100) usando random.randint."
      ],
      "metadata": {
        "id": "xS6rAmNtpmp3"
      }
    },
    {
      "cell_type": "code",
      "source": [
        "from random import randint\n",
        "\n",
        "lista = []\n",
        "\n",
        "while len(lista) < 100:\n",
        "  lista.append(randint(1, 100))\n",
        "\n",
        "print(lista)"
      ],
      "metadata": {
        "colab": {
          "base_uri": "https://localhost:8080/"
        },
        "id": "_SnfB0EIpnZQ",
        "outputId": "63510655-00d4-4753-f8c5-62463567c9db"
      },
      "execution_count": 14,
      "outputs": [
        {
          "output_type": "stream",
          "name": "stdout",
          "text": [
            "[97, 98, 63, 21, 31, 42, 60, 47, 68, 54, 57, 75, 52, 62, 98, 29, 54, 33, 98, 35, 32, 20, 73, 12, 20, 18, 55, 9, 68, 73, 30, 50, 31, 73, 36, 90, 95, 98, 67, 98, 67, 57, 53, 66, 21, 91, 79, 92, 80, 47, 74, 47, 12, 89, 57, 88, 60, 59, 91, 47, 33, 39, 2, 39, 2, 44, 64, 40, 81, 66, 27, 10, 12, 59, 88, 48, 95, 24, 77, 87, 79, 50, 12, 88, 37, 62, 30, 60, 93, 56, 9, 39, 63, 43, 48, 87, 80, 80, 96, 41]\n"
          ]
        }
      ]
    },
    {
      "cell_type": "markdown",
      "source": [
        "Peça ao usuário um número inteiro. Em seguida mostre a tabuada da multiplicação desse número."
      ],
      "metadata": {
        "id": "ACd88bikqHPs"
      }
    },
    {
      "cell_type": "code",
      "source": [
        "num = int(input(\"Informe um número inteiro: \").strip())\n",
        "\n",
        "tabuada = 1\n",
        "while tabuada <= 10:\n",
        "  print(f\"{num} x {tabuada} = {num*tabuada}\")\n",
        "  tabuada += 1"
      ],
      "metadata": {
        "colab": {
          "base_uri": "https://localhost:8080/"
        },
        "id": "3EYfHA45qIs8",
        "outputId": "43c1e28c-f14c-4842-ccb4-0a6609b59c39"
      },
      "execution_count": 10,
      "outputs": [
        {
          "output_type": "stream",
          "name": "stdout",
          "text": [
            "Informe um número inteiro: 5\n",
            "5 x 1 = 5\n",
            "5 x 2 = 10\n",
            "5 x 3 = 15\n",
            "5 x 4 = 20\n",
            "5 x 5 = 25\n",
            "5 x 6 = 30\n",
            "5 x 7 = 35\n",
            "5 x 8 = 40\n",
            "5 x 9 = 45\n",
            "5 x 10 = 50\n"
          ]
        }
      ]
    },
    {
      "cell_type": "markdown",
      "source": [
        "Dado a lista [5, 10, 30, 50, 100]. Mostre a soma dos elementos. Não use sum(). Use while ou for para resolver."
      ],
      "metadata": {
        "id": "ZADfNScl2DVc"
      }
    },
    {
      "cell_type": "code",
      "source": [
        "numeros = [5, 10, 30, 50, 100]\n",
        "soma = 0\n",
        "\n",
        "for num in numeros:\n",
        "  soma += num\n",
        "\n",
        "print(soma)"
      ],
      "metadata": {
        "colab": {
          "base_uri": "https://localhost:8080/"
        },
        "id": "C9At_tuV2Es3",
        "outputId": "8daaf73b-c29e-4050-badb-572ce0f41bb9"
      },
      "execution_count": 15,
      "outputs": [
        {
          "output_type": "stream",
          "name": "stdout",
          "text": [
            "195\n"
          ]
        }
      ]
    },
    {
      "cell_type": "markdown",
      "source": [
        "Peça ao usuário um número. Em seguida, leia a quantidade de números que ele solicitou e mostre a soma de todos no final usando acumulador."
      ],
      "metadata": {
        "id": "i2Hp8uXa5fcM"
      }
    },
    {
      "cell_type": "code",
      "source": [
        "limite = int(input(\"Informe o número limite: \").strip())\n",
        "soma = 0\n",
        "\n",
        "for num in range(limite):\n",
        "  soma += int(input(f\"numero: {num + 1}: \"))\n",
        "\n",
        "print(\"Soma total:\", soma)"
      ],
      "metadata": {
        "colab": {
          "base_uri": "https://localhost:8080/"
        },
        "id": "Io7oIfm45MDo",
        "outputId": "5d11aa14-6a10-4251-bbc2-b71fedba083e"
      },
      "execution_count": 17,
      "outputs": [
        {
          "output_type": "stream",
          "name": "stdout",
          "text": [
            "Informe o número limite: 3\n",
            "numero: 1: 10\n",
            "numero: 2: 5\n",
            "numero: 3: 5\n",
            "Soma total: 20\n"
          ]
        }
      ]
    },
    {
      "cell_type": "markdown",
      "source": [
        "Simulando a potência peça dois números: base e expoente. Usando while e acumulador mostre o resultado da base elevada ao expoente. Ex: 5³ = 5 x 5 x 5 = 125."
      ],
      "metadata": {
        "id": "_XILCsQb5qHZ"
      }
    },
    {
      "cell_type": "code",
      "source": [
        "base = int(input(\"Informe a base: \").strip())\n",
        "expoente = int(input(\"Informe o expoente: \").strip())\n",
        "resultado = 1\n",
        "\n",
        "while expoente > 0:\n",
        "  resultado *= base\n",
        "  expoente -= 1\n",
        "\n",
        "print(resultado)"
      ],
      "metadata": {
        "colab": {
          "base_uri": "https://localhost:8080/"
        },
        "id": "rOn1DWG15-oI",
        "outputId": "ca559d86-1ef0-4129-a526-13d2fb7aafba"
      },
      "execution_count": 22,
      "outputs": [
        {
          "output_type": "stream",
          "name": "stdout",
          "text": [
            "Informe a base: 5\n",
            "Informe o expoente: 3\n",
            "125\n"
          ]
        }
      ]
    },
    {
      "cell_type": "markdown",
      "source": [
        "\n",
        "\n",
        "---\n",
        "\n",
        "**Exercícios desafio**\n",
        "\n",
        "*Nível Básico* – **Laço for**"
      ],
      "metadata": {
        "id": "NPcQA8VfHZe5"
      }
    },
    {
      "cell_type": "markdown",
      "source": [
        "1. Imprima os números de 1 a 10 usando for."
      ],
      "metadata": {
        "id": "OMMhWbh0HlrR"
      }
    },
    {
      "cell_type": "code",
      "source": [
        "for i in range(1, 11):\n",
        "  print(i, end=\" \")"
      ],
      "metadata": {
        "colab": {
          "base_uri": "https://localhost:8080/"
        },
        "id": "ndsJG8Z7HnS9",
        "outputId": "28048a1f-cbe0-4965-8c5e-47aabe1ec923"
      },
      "execution_count": 25,
      "outputs": [
        {
          "output_type": "stream",
          "name": "stdout",
          "text": [
            "1 2 3 4 5 6 7 8 9 10 "
          ]
        }
      ]
    },
    {
      "cell_type": "markdown",
      "source": [
        "2. Crie uma lista com 5 nomes e imprima cada um em uma linha."
      ],
      "metadata": {
        "id": "qajluA2JHvgQ"
      }
    },
    {
      "cell_type": "code",
      "source": [
        "nomes = [\"Marcelo\", \"Diogo\", \"João\", \"Julia\", \"Milena\"]\n",
        "\n",
        "for nome in nomes:\n",
        "  print(nome, end=\" \")"
      ],
      "metadata": {
        "colab": {
          "base_uri": "https://localhost:8080/"
        },
        "id": "eaYCjLxuH0Az",
        "outputId": "6c74b7bd-f4fc-47b1-b1d6-56eb78097cb5"
      },
      "execution_count": 26,
      "outputs": [
        {
          "output_type": "stream",
          "name": "stdout",
          "text": [
            "Marcelo Diogo João Julia Milena "
          ]
        }
      ]
    },
    {
      "cell_type": "markdown",
      "source": [
        "3. Escreva um programa que receba uma palavra do usuário e imprima cada letra separadamente."
      ],
      "metadata": {
        "id": "Kt4gojOSIDIZ"
      }
    },
    {
      "cell_type": "code",
      "source": [
        "palavra = input(\"Informe uma palavra: \").strip()\n",
        "\n",
        "for letra in palavra:\n",
        "  print(letra, end=\" \")"
      ],
      "metadata": {
        "colab": {
          "base_uri": "https://localhost:8080/"
        },
        "id": "pd2pEpUsIEOA",
        "outputId": "044bd20c-adf8-43d1-94f6-6d8026b1267f"
      },
      "execution_count": 27,
      "outputs": [
        {
          "output_type": "stream",
          "name": "stdout",
          "text": [
            "Informe uma palavra: Teste Testoso\n",
            "T e s t e   T e s t o s o "
          ]
        }
      ]
    },
    {
      "cell_type": "markdown",
      "source": [
        "4. Utilize for com range() para imprimir os números pares de 2 a 20."
      ],
      "metadata": {
        "id": "LIrwT4n1IPZk"
      }
    },
    {
      "cell_type": "code",
      "source": [
        "for i in range(2, 21, 2):\n",
        "  print(i, end=\" \")"
      ],
      "metadata": {
        "colab": {
          "base_uri": "https://localhost:8080/"
        },
        "id": "hLytuckpIRLq",
        "outputId": "bc445fb9-7fa7-40f4-b56c-91ab3515d53c"
      },
      "execution_count": 30,
      "outputs": [
        {
          "output_type": "stream",
          "name": "stdout",
          "text": [
            "2 4 6 8 10 12 14 16 18 20 "
          ]
        }
      ]
    },
    {
      "cell_type": "markdown",
      "source": [
        "5. Dada a lista [4, 7, 10], crie uma nova lista com o dobro de cada número (sem usar funções prontas de lista ainda)."
      ],
      "metadata": {
        "id": "hYdbZd8DIbPo"
      }
    },
    {
      "cell_type": "code",
      "source": [
        "lista = [4, 7, 10]\n",
        "lista_nova = []\n",
        "\n",
        "for numero in lista:\n",
        "  lista_nova.append(numero * 2)\n",
        "\n",
        "print(lista)\n",
        "print(lista_nova)"
      ],
      "metadata": {
        "colab": {
          "base_uri": "https://localhost:8080/"
        },
        "id": "Iu07vwuBIcZ6",
        "outputId": "0cfbe64b-aa21-4db2-95e1-6ce70f425463"
      },
      "execution_count": 54,
      "outputs": [
        {
          "output_type": "stream",
          "name": "stdout",
          "text": [
            "[4, 7, 10]\n",
            "[8, 14, 20]\n"
          ]
        }
      ]
    },
    {
      "cell_type": "markdown",
      "source": [
        "\n",
        "\n",
        "---\n",
        "\n",
        "\n",
        "\n",
        "*Nível Básico* – **Laço while**"
      ],
      "metadata": {
        "id": "Cmk26BELNFQn"
      }
    },
    {
      "cell_type": "markdown",
      "source": [
        "1. Escreva um código que imprima os números de 1 a 5 usando while."
      ],
      "metadata": {
        "id": "MhqGoFDrNlvN"
      }
    },
    {
      "cell_type": "code",
      "source": [
        "num = 1\n",
        "\n",
        "while num <= 5:\n",
        "  print(num, end=\" \")\n",
        "  num += 1"
      ],
      "metadata": {
        "colab": {
          "base_uri": "https://localhost:8080/"
        },
        "id": "vcA5UN5jNrfg",
        "outputId": "998e395c-8826-4240-945f-eec09ee09a6b"
      },
      "execution_count": 69,
      "outputs": [
        {
          "output_type": "stream",
          "name": "stdout",
          "text": [
            "1 2 3 4 5 "
          ]
        }
      ]
    },
    {
      "cell_type": "markdown",
      "source": [
        "2. Crie um programa que peça a idade do usuário até que ele digite uma idade maior que 0."
      ],
      "metadata": {
        "id": "_0JHJgeuNyyS"
      }
    },
    {
      "cell_type": "code",
      "source": [
        "idade = int(input(\"Informe uma idade: \").strip())\n",
        "\n",
        "while idade <= 0:\n",
        "  idade = int(input(\"Informe uma idade maior que 0: \").strip())"
      ],
      "metadata": {
        "colab": {
          "base_uri": "https://localhost:8080/"
        },
        "id": "RFKQhjJhN08B",
        "outputId": "e6be3ae5-b081-4aff-f1ff-6df754002ed4"
      },
      "execution_count": 70,
      "outputs": [
        {
          "name": "stdout",
          "output_type": "stream",
          "text": [
            "Informe uma idade: 0\n",
            "Informe uma idade maior que 0: -2\n",
            "Informe uma idade maior que 0: 10\n"
          ]
        }
      ]
    },
    {
      "cell_type": "markdown",
      "source": [
        "3. Peça um número ao usuário e vá somando os valores até que ele digite 0. Depois, mostre o total somado."
      ],
      "metadata": {
        "id": "Nmdrcyd_OEnI"
      }
    },
    {
      "cell_type": "code",
      "source": [
        "num = int(input(\"0 PARA ENCERRAR\\nInforme um número: \").strip())\n",
        "soma = 0\n",
        "\n",
        "while num != 0:\n",
        "  soma += num\n",
        "  num = int(input(\"Informe outro número: \").strip())\n",
        "\n",
        "print(soma)"
      ],
      "metadata": {
        "colab": {
          "base_uri": "https://localhost:8080/"
        },
        "id": "bcz8u6C5OGn6",
        "outputId": "1f6438bb-27a2-40d2-8470-0e9dfbe2c81f"
      },
      "execution_count": 71,
      "outputs": [
        {
          "output_type": "stream",
          "name": "stdout",
          "text": [
            "0 PARA ENCERRAR\n",
            "Informe um número: 12\n",
            "Informe outro número: 50\n",
            "Informe outro número: 0\n",
            "62\n"
          ]
        }
      ]
    },
    {
      "cell_type": "markdown",
      "source": [
        "4. Crie um contador que vá de 100 até 0 e imprima \"Fogo!\" ao final."
      ],
      "metadata": {
        "id": "4UK99oChOiPd"
      }
    },
    {
      "cell_type": "code",
      "source": [
        "count = 100\n",
        "\n",
        "while count >= 0:\n",
        "  print(count, end=\" \")\n",
        "  count -= 1\n",
        "print(\"FOGO\")"
      ],
      "metadata": {
        "colab": {
          "base_uri": "https://localhost:8080/"
        },
        "id": "x4DjupY6OhOc",
        "outputId": "cd50d882-e6b9-47da-f052-30de85cf6865"
      },
      "execution_count": 72,
      "outputs": [
        {
          "output_type": "stream",
          "name": "stdout",
          "text": [
            "100 99 98 97 96 95 94 93 92 91 90 89 88 87 86 85 84 83 82 81 80 79 78 77 76 75 74 73 72 71 70 69 68 67 66 65 64 63 62 61 60 59 58 57 56 55 54 53 52 51 50 49 48 47 46 45 44 43 42 41 40 39 38 37 36 35 34 33 32 31 30 29 28 27 26 25 24 23 22 21 20 19 18 17 16 15 14 13 12 11 10 9 8 7 6 5 4 3 2 1 0 FOGO\n"
          ]
        }
      ]
    },
    {
      "cell_type": "markdown",
      "source": [
        "\n",
        "\n",
        "---\n",
        "\n",
        "\n",
        "\n",
        "*Nível Intermediário* – **break e continue**"
      ],
      "metadata": {
        "id": "rJl_T0HDJxv_"
      }
    },
    {
      "cell_type": "markdown",
      "source": [
        "1. Use while True para criar um menu com as opções: • 1 – Cadastrar nome; • 2 – Listar nomes; • 3 – Sair. Use break para sair do loop quando a opção 3 for escolhida."
      ],
      "metadata": {
        "id": "qaVDtY7rJ1xy"
      }
    },
    {
      "cell_type": "code",
      "source": [
        "opcao = 0\n",
        "\n",
        "print(\"-\" * 25)\n",
        "print(\"MENU\")\n",
        "while opcao != 3:\n",
        "  print(\"1 - Cadastrar nome\\n2 - Listar nomes\\n3 - Sair\")\n",
        "  opcao = int(input(\"Opção Desejada: \").strip())\n",
        "\n",
        "  if opcao == 1:\n",
        "    print(\"\\nCadastro...\\n\")\n",
        "  elif opcao == 2:\n",
        "    print(\"\\nLista...\\n\")\n",
        "  elif opcao == 3:\n",
        "    break\n",
        "  else:\n",
        "    print(\"\\nOpção Inválida\\n\")"
      ],
      "metadata": {
        "colab": {
          "base_uri": "https://localhost:8080/"
        },
        "id": "bq8yLpBFJ5TI",
        "outputId": "40e75fe4-e359-46a0-fcd4-c60def26df7b"
      },
      "execution_count": 60,
      "outputs": [
        {
          "name": "stdout",
          "output_type": "stream",
          "text": [
            "-------------------------\n",
            "MENU\n",
            "1 - Cadastrar nome\n",
            "2 - Listar nomes\n",
            "3 - Sair\n",
            "Opção Desejada: 1\n",
            "\n",
            "Cadastro...\n",
            "\n",
            "1 - Cadastrar nome\n",
            "2 - Listar nomes\n",
            "3 - Sair\n",
            "Opção Desejada: 3\n"
          ]
        }
      ]
    },
    {
      "cell_type": "markdown",
      "source": [
        "2. Escreva um for de 1 a 10 que pule os números múltiplos de 3 usando continue."
      ],
      "metadata": {
        "id": "I-xzJOw1LAgg"
      }
    },
    {
      "cell_type": "code",
      "source": [
        "for i in range(1, 11):\n",
        "  if i % 3 != 0:\n",
        "    continue\n",
        "\n",
        "  print(f\"{i} é multiplo de 3\")"
      ],
      "metadata": {
        "colab": {
          "base_uri": "https://localhost:8080/"
        },
        "id": "LCKLjmkDLFPu",
        "outputId": "f71ecd62-8bca-4b58-fbcf-b568b27c934d"
      },
      "execution_count": 61,
      "outputs": [
        {
          "output_type": "stream",
          "name": "stdout",
          "text": [
            "3 é multiplo de 3\n",
            "6 é multiplo de 3\n",
            "9 é multiplo de 3\n"
          ]
        }
      ]
    },
    {
      "cell_type": "markdown",
      "source": [
        "3. Peça ao usuário que digite números. Quando ele digitar um número negativo, pare o programa e mostre a média dos números digitados."
      ],
      "metadata": {
        "id": "dJzj1kftLT1d"
      }
    },
    {
      "cell_type": "code",
      "source": [
        "num = 0\n",
        "count = 0\n",
        "soma = 0\n",
        "\n",
        "print(\"INSIRA UM NÚMERO NEGATIVO PARA EXIBIR A MÉDIA\")\n",
        "while num >= 0:\n",
        "  num = int(input(\"Informe um número: \").strip())\n",
        "  soma += num\n",
        "  count += 1\n",
        "\n",
        "print(soma / count)"
      ],
      "metadata": {
        "colab": {
          "base_uri": "https://localhost:8080/"
        },
        "id": "MZw4VFG-LVRO",
        "outputId": "5b34d177-e14b-4000-80d5-9895cf09f3ac"
      },
      "execution_count": 62,
      "outputs": [
        {
          "output_type": "stream",
          "name": "stdout",
          "text": [
            "INSIRA UM NÚMERO NEGATIVO PARA EXIBIR A MÉDIA\n",
            "Informe um número: 5\n",
            "Informe um número: 10\n",
            "Informe um número: 3\n",
            "Informe um número: -3\n",
            "3.75\n"
          ]
        }
      ]
    },
    {
      "cell_type": "markdown",
      "source": [
        "4. Simule uma caixa registradora: o usuário digita o valor de produtos e, ao digitar 0, o programa mostra o total. Use while, break e um acumulador."
      ],
      "metadata": {
        "id": "xKbAzZvjMBkL"
      }
    },
    {
      "cell_type": "code",
      "source": [
        "soma = 0\n",
        "valor = float(input(\"Informe o valor: \").strip().replace(',', '.'))\n",
        "\n",
        "while True:\n",
        "  soma += valor\n",
        "\n",
        "  valor = float(input(\"Informe o valor: \").strip().replace(',', '.'))\n",
        "  if valor <= 0:\n",
        "    break\n",
        "\n",
        "print(f\"Soma total: R${soma:.2f}\")"
      ],
      "metadata": {
        "colab": {
          "base_uri": "https://localhost:8080/"
        },
        "id": "NSnei8V2MC78",
        "outputId": "e0a8bbc1-d19b-496f-9e4a-085fdc177591"
      },
      "execution_count": 67,
      "outputs": [
        {
          "output_type": "stream",
          "name": "stdout",
          "text": [
            "Informe o valor: 12,5\n",
            "Informe o valor: 90,2\n",
            "Informe o valor: 10,23\n",
            "Informe o valor: 0\n",
            "Soma total: R$112.93\n"
          ]
        }
      ]
    },
    {
      "cell_type": "markdown",
      "source": [
        "\n",
        "\n",
        "---\n",
        "\n",
        "**Desafio**"
      ],
      "metadata": {
        "id": "xsdoapjrO56O"
      }
    },
    {
      "cell_type": "markdown",
      "source": [
        "**Caça à senha**: Peça ao usuário para adivinhar uma senha secreta (definida no código).\n",
        "Ele tem apenas 3 tentativas. Quando elas esgotarem, você deve mostrar uma mensagem indicando isso e parando de solicitar a senha."
      ],
      "metadata": {
        "id": "cPYfYh7ZO8uX"
      }
    },
    {
      "cell_type": "code",
      "source": [
        "senha_secreta = \"python\"\n",
        "\n",
        "for i in range(3):\n",
        "  tentativa = input(f\"Tentativa {i + 1}: \").strip()\n",
        "\n",
        "  if tentativa == senha_secreta:\n",
        "    print(\"--ACESSO LIBERADO--\")\n",
        "    break\n",
        "\n",
        "  print(\"--SENHA INCORRETA--\")\n",
        "\n",
        "if senha_secreta != tentativa:\n",
        "  print(\"--TENTATIVAS ESGOTADAS--\")"
      ],
      "metadata": {
        "colab": {
          "base_uri": "https://localhost:8080/"
        },
        "id": "hf7b9mSKO-0e",
        "outputId": "f854f9d1-55d2-4901-8480-fb03a35cb3a9"
      },
      "execution_count": 87,
      "outputs": [
        {
          "output_type": "stream",
          "name": "stdout",
          "text": [
            "Tentativa 1: Será que é essa\n",
            "--SENHA INCORRETA--\n",
            "Tentativa 2: hmmmm\n",
            "--SENHA INCORRETA--\n",
            "Tentativa 3: python\n",
            "--ACESSO LIBERADO--\n"
          ]
        }
      ]
    },
    {
      "cell_type": "markdown",
      "source": [
        "**Pirâmide**: Crie um programa que gere uma pirâmide de asteriscos (*). O programa deve solicitar ao usuário a altura da pirâmide e, em seguida, exibir a pirâmide na tela.\n",
        "\n",
        "Exemplo de uso:\n",
        "\n",
        "Digite a altura da pirâmide: 10\n",
        "\n",
        "\n",
        "\n",
        "```\n",
        "*\n",
        "**\n",
        "***\n",
        "****\n",
        "*****\n",
        "******\n",
        "*******\n",
        "********\n",
        "*********\n",
        "**********\n",
        "```\n",
        "\n"
      ],
      "metadata": {
        "id": "KQh660TcQA7o"
      }
    },
    {
      "cell_type": "code",
      "source": [
        "altura = int(input(\"Informe a altura da Pirâmide: \").strip())\n",
        "\n",
        "for i in range(altura + 1):\n",
        "  print(\"*\" * i)"
      ],
      "metadata": {
        "colab": {
          "base_uri": "https://localhost:8080/"
        },
        "id": "KmpHHCnjQHRn",
        "outputId": "9db4a363-74ba-49f9-fe1a-9f51556685d6"
      },
      "execution_count": 84,
      "outputs": [
        {
          "output_type": "stream",
          "name": "stdout",
          "text": [
            "Informe a altura da Pirâmide: 10\n",
            "\n",
            "*\n",
            "**\n",
            "***\n",
            "****\n",
            "*****\n",
            "******\n",
            "*******\n",
            "********\n",
            "*********\n",
            "**********\n"
          ]
        }
      ]
    }
  ]
}