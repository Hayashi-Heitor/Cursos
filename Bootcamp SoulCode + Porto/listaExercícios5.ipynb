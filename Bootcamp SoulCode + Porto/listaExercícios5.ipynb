{
  "nbformat": 4,
  "nbformat_minor": 0,
  "metadata": {
    "colab": {
      "provenance": []
    },
    "kernelspec": {
      "name": "python3",
      "display_name": "Python 3"
    },
    "language_info": {
      "name": "python"
    }
  },
  "cells": [
    {
      "cell_type": "markdown",
      "source": [
        "# **Lista de exercícios 5** *(Heitor Hayashi Ferrairo)*, caso tenha algum comentário ou encontre algum erro me notifique por gentileza!"
      ],
      "metadata": {
        "id": "FKITV4pd2Iea"
      }
    },
    {
      "cell_type": "markdown",
      "source": [
        "**Exercícios feitos em aula**"
      ],
      "metadata": {
        "id": "jbrLbVtq1NJ1"
      }
    },
    {
      "cell_type": "markdown",
      "source": [
        "1. Crie uma lista de notas vazias as notas 6, 5, 4, remova a nota do índice 2, remova a nota de valor 6, exiba o resultado final da lista"
      ],
      "metadata": {
        "id": "mZqcOFOHg9df"
      }
    },
    {
      "cell_type": "code",
      "source": [
        "listaDeNotas = []\n",
        "\n",
        "listaDeNotas.append(6)\n",
        "listaDeNotas.append(4)\n",
        "listaDeNotas.insert(1, 5)\n",
        "\n",
        "listaDeNotas.pop(2)\n",
        "listaDeNotas.remove(6)\n",
        "\n",
        "print(listaDeNotas)"
      ],
      "metadata": {
        "colab": {
          "base_uri": "https://localhost:8080/"
        },
        "id": "6zgWv-KfhNg0",
        "outputId": "0d2664fc-7575-45cf-d681-90d397e1a7a1"
      },
      "execution_count": 4,
      "outputs": [
        {
          "output_type": "stream",
          "name": "stdout",
          "text": [
            "[5]\n"
          ]
        }
      ]
    },
    {
      "cell_type": "markdown",
      "source": [
        "2. Crie uma lista de notas (3 ou mais). Mostre a média dessas notas."
      ],
      "metadata": {
        "id": "X7Z7rKjxs7aF"
      }
    },
    {
      "cell_type": "code",
      "source": [
        "listaDeNotas = [3.1, 9.2, 8.2, 7.2, 9.1]\n",
        "\n",
        "if len(listaDeNotas) > 1:\n",
        "  media = sum(listaDeNotas) / len(listaDeNotas)\n",
        "  print(f\"Média: {media:.2f}\")\n",
        "else:\n",
        "  print(\"Não há notas suficientes para o calculo da média!\")"
      ],
      "metadata": {
        "colab": {
          "base_uri": "https://localhost:8080/"
        },
        "id": "9HqEFZqvtEWc",
        "outputId": "2da8c317-7927-4268-9e3d-d61bf5091662"
      },
      "execution_count": 9,
      "outputs": [
        {
          "output_type": "stream",
          "name": "stdout",
          "text": [
            "Média: 7.36\n"
          ]
        }
      ]
    },
    {
      "cell_type": "markdown",
      "source": [
        "3. Crie um programa que leia 3 números separados por vírgula e mostre cada um deles separadamente"
      ],
      "metadata": {
        "id": "qEcsizePDcFP"
      }
    },
    {
      "cell_type": "code",
      "source": [
        "numeros = input(\"Informe os 3 número: \").strip()\n",
        "\n",
        "if numeros.count(',') == 2 and numeros.replace(',', '0').isnumeric():\n",
        "\n",
        "  numerosSeparados = numeros.split(',')\n",
        "  print(f\"Primeiro número: {numerosSeparados[0]}\\nSegundo número: {numerosSeparados[1]}\\nTerceiro número: {numerosSeparados[2]}\")\n",
        "\n",
        "else:\n",
        "  print(\"Parâmetros inválidos\")"
      ],
      "metadata": {
        "colab": {
          "base_uri": "https://localhost:8080/"
        },
        "id": "7tWmgBQgBhy-",
        "outputId": "165d5eac-7c2a-47dc-fa4f-7b79b94f9f01"
      },
      "execution_count": 24,
      "outputs": [
        {
          "output_type": "stream",
          "name": "stdout",
          "text": [
            "Informe os 3 número: 5124,12,5\n",
            "Primeiro número: 5124\n",
            "Segundo número: 12\n",
            "Terceiro número: 5\n"
          ]
        }
      ]
    },
    {
      "cell_type": "markdown",
      "source": [
        "4. Dado um nome completo mostre a abreviação simples:\n",
        "\"José Almir\" -> \"J. A.\""
      ],
      "metadata": {
        "id": "9df2I5b5Gcn-"
      }
    },
    {
      "cell_type": "code",
      "source": [
        "nome = input(\"Informe o nome completo: \").strip()\n",
        "nomeSeparado = nome.split()\n",
        "\n",
        "if len(nomeSeparado) >= 2 and nome.replace(\" \", \"a\").isalpha():\n",
        "  print(f\"{nomeSeparado[0][0].upper()}. {nomeSeparado[-1][0].upper()}\")\n",
        "else:\n",
        "  print(\"Informe o nome COMPLETO\")"
      ],
      "metadata": {
        "colab": {
          "base_uri": "https://localhost:8080/"
        },
        "id": "zqgbrDkJGk7W",
        "outputId": "69d935e8-f09b-4fd5-e385-cc6c59331986"
      },
      "execution_count": 35,
      "outputs": [
        {
          "output_type": "stream",
          "name": "stdout",
          "text": [
            "Informe o nome completo: José da Silva Almir\n",
            "J. A\n"
          ]
        }
      ]
    },
    {
      "cell_type": "markdown",
      "source": [
        "5. Crie uma lista e exiba os elementos dela lado a lado separados\n",
        "por vírgula e sem colchetes."
      ],
      "metadata": {
        "id": "aVjxKDXgJYPG"
      }
    },
    {
      "cell_type": "code",
      "source": [
        "lista = [\"Teste\", \"Da\", \"Silva\"]\n",
        "\n",
        "print(\", \".join(lista))"
      ],
      "metadata": {
        "colab": {
          "base_uri": "https://localhost:8080/"
        },
        "id": "RV1CfIWnJcAg",
        "outputId": "4f0238a6-5314-49b7-8c91-4bcbab3b36c9"
      },
      "execution_count": 41,
      "outputs": [
        {
          "output_type": "stream",
          "name": "stdout",
          "text": [
            "Teste, Da, Silva\n"
          ]
        }
      ]
    },
    {
      "cell_type": "markdown",
      "source": [
        "6. Crie um dicionário para representar uma conta bancária.\n",
        "\n",
        "\n",
        "*   Leia o titular da conta e o saldo atual.\n",
        "*   Em seguida, peça uma operação (1 - saque, 2 - deposito)\n",
        "*   Realize a operação solicitada alterando o saldo atual da conta e exibindo o\n",
        "dicionário no final.\n",
        "\n",
        "\n"
      ],
      "metadata": {
        "id": "NbWvKXtJbz3l"
      }
    },
    {
      "cell_type": "code",
      "source": [
        "conta = {}\n",
        "\n",
        "conta[\"titular\"] = input(\"Informe o titular da conta: \").strip()\n",
        "conta[\"saldo\"] = float(input(\"Informe o saldo atual: \"))\n",
        "\n",
        "op = int(input(\"Informe a operação desejada [1 - saque] [2 - depósito]\"))\n",
        "\n",
        "if op == 1:\n",
        "  saque = float(input(\"Informe o valor do saque: \"))\n",
        "\n",
        "  if saque > conta[\"saldo\"]:\n",
        "    print(\"Saldo insuficiente\")\n",
        "  else\n",
        "    conta[\"saldo\"] -= saque\n",
        "\n",
        "elif op == 2:\n",
        "  conta[\"saldo\"] +=  float(input(\"Informe o valor do depósito: \"))\n",
        "else:\n",
        "  print(\"Operação inválida\")\n",
        "print(conta)"
      ],
      "metadata": {
        "colab": {
          "base_uri": "https://localhost:8080/"
        },
        "id": "Pr77WuNTcHz4",
        "outputId": "c2022f94-5020-4f5f-cc6d-e8d3d59fe025"
      },
      "execution_count": 45,
      "outputs": [
        {
          "output_type": "stream",
          "name": "stdout",
          "text": [
            "Informe o titular da conta: Heitor\n",
            "Informe o saldo atual: 5000\n",
            "Informe a operação desejada [1 - saque] [2 - depósito]2\n",
            "Informe o valor do depósito: 500\n",
            "{'titular': 'Heitor', 'saldo': 5500.0}\n"
          ]
        }
      ]
    },
    {
      "cell_type": "markdown",
      "source": [
        "\n",
        "\n",
        "---\n",
        "\n",
        "**Exercícios Desafio**\n",
        "\n",
        "*Nível Básico* – **Listas**"
      ],
      "metadata": {
        "id": "Cy4nsMbppjHi"
      }
    },
    {
      "cell_type": "markdown",
      "source": [
        "1. Crie uma lista com os nomes de 3 frutas e:\n",
        "\n",
        "*   Imprima a lista completa\n",
        "*   Acesse e imprima apenas a segunda fruta\n",
        "*   Substitua uma das frutas por outra.\n",
        "\n"
      ],
      "metadata": {
        "id": "7gJp7Bg8plfv"
      }
    },
    {
      "cell_type": "code",
      "source": [
        "frutas = [\"Banana\", \"Abacate\", \"Maçã\"]\n",
        "\n",
        "print(frutas)\n",
        "print(frutas[1])\n",
        "frutas[2] = \"Pera\"\n",
        "print(frutas)"
      ],
      "metadata": {
        "colab": {
          "base_uri": "https://localhost:8080/"
        },
        "id": "KV3dgxbcpm_Q",
        "outputId": "4787fea4-a80f-4b18-96de-3734ed3f1a2b"
      },
      "execution_count": 46,
      "outputs": [
        {
          "output_type": "stream",
          "name": "stdout",
          "text": [
            "['Banana', 'Abacate', 'Maçã']\n",
            "Abacate\n",
            "['Banana', 'Abacate', 'Pera']\n"
          ]
        }
      ]
    },
    {
      "cell_type": "markdown",
      "source": [
        "2. Crie uma lista vazia chamada compras e adicione 3 itens usando append()."
      ],
      "metadata": {
        "id": "IyAJE3m5qJuz"
      }
    },
    {
      "cell_type": "code",
      "source": [
        "compras = []\n",
        "\n",
        "compras.append(\"Arroz\")\n",
        "compras.append(\"Feijão\")\n",
        "compras.append(\"Carne\")\n",
        "\n",
        "print(compras)"
      ],
      "metadata": {
        "colab": {
          "base_uri": "https://localhost:8080/"
        },
        "id": "85p9Aat1rnyx",
        "outputId": "1e770f32-f8f4-4bf2-ebf0-b9fcbf5173ba"
      },
      "execution_count": 47,
      "outputs": [
        {
          "output_type": "stream",
          "name": "stdout",
          "text": [
            "['Arroz', 'Feijão', 'Carne']\n"
          ]
        }
      ]
    },
    {
      "cell_type": "markdown",
      "source": [
        "3. Crie uma lista com 5 números e: • Mostre o número na posição 0; • Substitua o valor da posição 2; • Remova o último item com pop().'"
      ],
      "metadata": {
        "id": "tBwav6fzr4LT"
      }
    },
    {
      "cell_type": "code",
      "source": [
        "nums = [1, 2, 3, 4, 5]\n",
        "\n",
        "print(nums[0])\n",
        "nums[2] = 10\n",
        "nums.pop()\n",
        "\n",
        "print(nums)"
      ],
      "metadata": {
        "colab": {
          "base_uri": "https://localhost:8080/"
        },
        "id": "NxtynnvLr5oS",
        "outputId": "32c6ae8a-c06b-4da4-b372-5b8627078542"
      },
      "execution_count": 48,
      "outputs": [
        {
          "output_type": "stream",
          "name": "stdout",
          "text": [
            "1\n",
            "[1, 2, 10, 4]\n"
          ]
        }
      ]
    },
    {
      "cell_type": "markdown",
      "source": [
        "*Nível Básico* – **Tuplas**"
      ],
      "metadata": {
        "id": "31kQY45-1AGs"
      }
    },
    {
      "cell_type": "markdown",
      "source": [
        "1. Crie uma tupla com os 4 primeiros planetas do sistema solar."
      ],
      "metadata": {
        "id": "KdeldtLCuyP-"
      }
    },
    {
      "cell_type": "code",
      "source": [
        "planetas = (\"Mercúrio\", \"Vênus\", \"Terra\", \"Marte\")\n",
        "\n",
        "print(planetas)"
      ],
      "metadata": {
        "colab": {
          "base_uri": "https://localhost:8080/"
        },
        "id": "9qQ9VrQgwX2_",
        "outputId": "69f9ac01-3ef4-46dc-fcb1-d2014d10fd67"
      },
      "execution_count": 62,
      "outputs": [
        {
          "output_type": "stream",
          "name": "stdout",
          "text": [
            "('Mercúrio', 'Vênus', 'Terra', 'Marte')\n"
          ]
        }
      ]
    },
    {
      "cell_type": "markdown",
      "source": [
        "2. Acesse o segundo e o último planeta usando índices positivos e negativos."
      ],
      "metadata": {
        "id": "Nr-7ytIQxYAG"
      }
    },
    {
      "cell_type": "code",
      "source": [
        "print(planetas[1])\n",
        "print(planetas[-1])"
      ],
      "metadata": {
        "colab": {
          "base_uri": "https://localhost:8080/"
        },
        "id": "ppKtPkY2xWg1",
        "outputId": "a720ba7b-a8c9-4d85-92ac-528c7c05f629"
      },
      "execution_count": 63,
      "outputs": [
        {
          "output_type": "stream",
          "name": "stdout",
          "text": [
            "Vênus\n",
            "Marte\n"
          ]
        }
      ]
    },
    {
      "cell_type": "markdown",
      "source": [
        "3. tente alterar um item da tupla e observe o erro gerado. Anote o que aconteceu."
      ],
      "metadata": {
        "id": "hOY01ifOxjWk"
      }
    },
    {
      "cell_type": "code",
      "source": [
        "planetas[0] = \"erro\"\n",
        "# A tupla é imutável"
      ],
      "metadata": {
        "colab": {
          "base_uri": "https://localhost:8080/",
          "height": 146
        },
        "id": "9W4jd7nyxiDf",
        "outputId": "16c1db80-e34c-4899-c8ca-59098efbb3ae"
      },
      "execution_count": 66,
      "outputs": [
        {
          "output_type": "error",
          "ename": "TypeError",
          "evalue": "'tuple' object does not support item assignment",
          "traceback": [
            "\u001b[0;31m---------------------------------------------------------------------------\u001b[0m",
            "\u001b[0;31mTypeError\u001b[0m                                 Traceback (most recent call last)",
            "\u001b[0;32m<ipython-input-66-26f3c68d5cf2>\u001b[0m in \u001b[0;36m<cell line: 0>\u001b[0;34m()\u001b[0m\n\u001b[0;32m----> 1\u001b[0;31m \u001b[0mplanetas\u001b[0m\u001b[0;34m[\u001b[0m\u001b[0;36m0\u001b[0m\u001b[0;34m]\u001b[0m \u001b[0;34m=\u001b[0m \u001b[0;34m\"erro\"\u001b[0m\u001b[0;34m\u001b[0m\u001b[0;34m\u001b[0m\u001b[0m\n\u001b[0m",
            "\u001b[0;31mTypeError\u001b[0m: 'tuple' object does not support item assignment"
          ]
        }
      ]
    },
    {
      "cell_type": "markdown",
      "source": [
        "\n",
        "---\n",
        "\n",
        "\n",
        "*Nível Intermediário* – **Dicionários**"
      ],
      "metadata": {
        "id": "2ehDW8RM05TB"
      }
    },
    {
      "cell_type": "markdown",
      "source": [
        "1. Crie um dicionário com os dados de uma pessoa: nome, idade e cidade. Depois: • Acesse o valor da chave \"nome\"; • Atualize a idade; • Adicione uma nova chave chamada \"profissão\"."
      ],
      "metadata": {
        "id": "jRDptrn0sVXs"
      }
    },
    {
      "cell_type": "code",
      "source": [
        "pessoa = {\n",
        "    \"nome\" : \"Teste da Silva\",\n",
        "    \"idade\" : 18,\n",
        "    \"cidade\" : \"Martinópolis\"\n",
        "}\n",
        "\n",
        "print(pessoa[\"nome\"])\n",
        "pessoa[\"idade\"] = 19\n",
        "pessoa[\"profissão\"] = \"Analista de TI\"\n",
        "\n",
        "print(pessoa)"
      ],
      "metadata": {
        "colab": {
          "base_uri": "https://localhost:8080/"
        },
        "id": "qdLKr-R0sW08",
        "outputId": "c0e3f243-8b6b-4007-8807-f22292c3e80e"
      },
      "execution_count": 49,
      "outputs": [
        {
          "output_type": "stream",
          "name": "stdout",
          "text": [
            "Teste da Silva\n",
            "{'nome': 'Teste da Silva', 'idade': 19, 'cidade': 'Martinópolis', 'profissão': 'Analista de TI'}\n"
          ]
        }
      ]
    },
    {
      "cell_type": "markdown",
      "source": [
        "2. Crie dois dicionários representando dois livros (com título, autor e ano). Coloque os dois dentro de uma lista chamada biblioteca."
      ],
      "metadata": {
        "id": "ZEwUvz9As2dP"
      }
    },
    {
      "cell_type": "code",
      "source": [
        "livro1 = {\n",
        "    \"titulo\" : \"Livro teste 1\",\n",
        "    \"autor\" : \"Joao autor\",\n",
        "    \"ano\" : 1900\n",
        "}\n",
        "\n",
        "livro2 = {\n",
        "    \"titulo\" : \"Livro teste 2\",\n",
        "    \"autor\" : \"Antonio autor\",\n",
        "    \"ano\" : 2021\n",
        "}\n",
        "\n",
        "biblioteca = [livro1, livro2]\n",
        "\n",
        "print(biblioteca)"
      ],
      "metadata": {
        "colab": {
          "base_uri": "https://localhost:8080/"
        },
        "id": "D7hTYmRNs7Lt",
        "outputId": "2a10ab15-8445-40c0-8e26-2578b5c26195"
      },
      "execution_count": 50,
      "outputs": [
        {
          "output_type": "stream",
          "name": "stdout",
          "text": [
            "[{'titulo': 'Livro teste 1', 'autor': 'Joao autor', 'ano': 1900}, {'titulo': 'Livro teste 2', 'autor': 'Antonio autor', 'ano': 2021}]\n"
          ]
        }
      ]
    },
    {
      "cell_type": "markdown",
      "source": [
        "3. Crie um dicionário chamado produto com as chaves: \"nome\", \"preço\" e \"disponível\" (True ou False). Depois, altere o valor de \"disponível\" para False."
      ],
      "metadata": {
        "id": "JGilj_ChtQqV"
      }
    },
    {
      "cell_type": "code",
      "source": [
        "produtos = {\n",
        "    \"nome\" : \"Televisão\",\n",
        "    \"preço\" : 1500,\n",
        "    \"disponível\" : True\n",
        "}\n",
        "\n",
        "produtos[\"disponível\"] = False\n",
        "\n",
        "print(produtos)"
      ],
      "metadata": {
        "colab": {
          "base_uri": "https://localhost:8080/"
        },
        "id": "wvUB5jNNtVMS",
        "outputId": "90c28a55-0ccf-4809-8b77-c9c0a032c612"
      },
      "execution_count": 51,
      "outputs": [
        {
          "output_type": "stream",
          "name": "stdout",
          "text": [
            "{'nome': 'Televisão', 'preço': 1500, 'disponível': False}\n"
          ]
        }
      ]
    },
    {
      "cell_type": "markdown",
      "source": [
        "4. Crie um dicionário vazio chamado aluno. Depois, adicione nome, curso e nota final separadamente."
      ],
      "metadata": {
        "id": "2Owou4jJtiob"
      }
    },
    {
      "cell_type": "code",
      "source": [
        "aluno = {}\n",
        "\n",
        "aluno[\"nome\"] = \"Josué\"\n",
        "aluno[\"curso\"] = \"Sistemas de informação\"\n",
        "aluno[\"notaFinal\"] = 7.2\n",
        "\n",
        "print(aluno)"
      ],
      "metadata": {
        "colab": {
          "base_uri": "https://localhost:8080/"
        },
        "id": "r9B3xmo2tuyu",
        "outputId": "237a0446-f323-4e2e-d895-513a7336c5ca"
      },
      "execution_count": 52,
      "outputs": [
        {
          "output_type": "stream",
          "name": "stdout",
          "text": [
            "{'nome': 'Josué', 'curso': 'Sistemas de informação', 'notaFinal': 7.2}\n"
          ]
        }
      ]
    },
    {
      "cell_type": "markdown",
      "source": [
        "\n",
        "\n",
        "---\n",
        "\n",
        "\n",
        "\n",
        "**Desafio Criativo**\n",
        "Simule o cadastro de um produto: Crie um dicionário com as seguintes informações\n",
        "(digitadas com input()):\n",
        "• Nome do produto\n",
        "• Preço\n",
        "• Quantidade em estoque\n",
        "Ao final, imprima uma frase como:\n",
        "\"Produto: Caneta | Preço: R$ 2.50 | Quantidade: 30\""
      ],
      "metadata": {
        "id": "-Y2gE9B2uR_A"
      }
    },
    {
      "cell_type": "code",
      "source": [
        "produtos = {}\n",
        "\n",
        "produtos[\"nome\"] = input(\"Nome do Produto: \").strip()\n",
        "produtos[\"preço\"] = float(input(\"Preço do produto: \"))\n",
        "produtos[\"quantidade\"] = int(input(\"Quantidade em estoque: \"))\n",
        "\n",
        "# print(\"Produto:\",produto[\"nome\"],\"| Preço: R$\", produto[\"preço\"],\"| quantidade:\", produto[\"quantidade\"])\n",
        "\n",
        "produtosElementos = list(produtos.values())\n",
        "print(f\"Produto: {produtosElementos[0]} | Preço: R${produtosElementos[1]:.2f} | Quantidade: {produtosElementos[2]}\")"
      ],
      "metadata": {
        "colab": {
          "base_uri": "https://localhost:8080/"
        },
        "id": "rQbwI78NuVQr",
        "outputId": "b27c7bdf-82d7-4ddc-a17e-7249f3c5e5f3"
      },
      "execution_count": 91,
      "outputs": [
        {
          "output_type": "stream",
          "name": "stdout",
          "text": [
            "Nome do Produto: Caneta\n",
            "Preço do produto: 2.50\n",
            "Quantidade em estoque: 30\n",
            "Produto: Caneta | Preço: R$2.50 | Quantidade: 30\n"
          ]
        }
      ]
    }
  ]
}