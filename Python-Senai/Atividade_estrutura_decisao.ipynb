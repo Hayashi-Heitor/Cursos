{
  "nbformat": 4,
  "nbformat_minor": 0,
  "metadata": {
    "colab": {
      "provenance": []
    },
    "kernelspec": {
      "name": "python3",
      "display_name": "Python 3"
    },
    "language_info": {
      "name": "python"
    }
  },
  "cells": [
    {
      "cell_type": "code",
      "execution_count": null,
      "metadata": {
        "id": "B8EIWnD2r5o0"
      },
      "outputs": [],
      "source": [
        "x = int(input(\"Informe um número: \"))\n",
        "y = int(input(\"Informe outro número: \"))\n",
        "\n",
        "if(x > y):\n",
        "  print(f\"O maior número é: {x}\")\n",
        "elif(x < y):\n",
        "  print(f\"O maior número é: {y}\")\n",
        "else:\n",
        "  print(\"Os números informados são iguais!\")"
      ]
    },
    {
      "cell_type": "code",
      "source": [
        "x = int(input(\"Informe um número: \"))\n",
        "\n",
        "if(x % 2 == 0):\n",
        "  print(f\"O número: {x} é par!!!\")\n",
        "else:\n",
        "  print(f\"O número: {x} é impar!!!\")"
      ],
      "metadata": {
        "id": "9jsCGxGaso6z"
      },
      "execution_count": null,
      "outputs": []
    },
    {
      "cell_type": "code",
      "source": [
        "n1 = int(input(\"Informe o primeiro número: \"))\n",
        "n2 = int(input(\"Informe o segundo número: \"))\n",
        "n3 = int(input(\"Informe o terceiro número: \"))\n",
        "\n",
        "if(n1 > n2 and n1 > n3):\n",
        "  print(f\"O maior número é o: {n1}\")\n",
        "elif(n2 > n1 and n2 > n3):\n",
        "  print(f\"O maior número é o: {n2}\")\n",
        "elif(n3 > n1 and n3 > n2):\n",
        "  print(f\"O maior número é o: {n3}\")\n",
        "else:\n",
        "  print(\"Os números apresentados são iguais\")"
      ],
      "metadata": {
        "id": "qxpUUfx2twjq"
      },
      "execution_count": null,
      "outputs": []
    },
    {
      "cell_type": "code",
      "source": [
        "nota1 = float(input(\"Informe a primeira nota do aluno: \"))\n",
        "nota2 = float(input(\"Informe a segunda nota do aluno: \"))\n",
        "\n",
        "media = float((nota1 + nota2) / 2)\n",
        "\n",
        "print(f\"Média do aluno: {media:.1f}\")\n",
        "if(media > 6.0):\n",
        "  print(\"O aluno foi aprovado!!!\")\n",
        "else:\n",
        "  print(\"O aluno foi reprovado!!!\")"
      ],
      "metadata": {
        "id": "B3vSRqbLu8O8"
      },
      "execution_count": null,
      "outputs": []
    },
    {
      "cell_type": "code",
      "source": [
        "dia = int(input(\"Informe o dia da semana: \"))\n",
        "\n",
        "match(dia):\n",
        "  case 1: print(\"Domingo\")\n",
        "  case 2: print(\"Segunda-Feira\")\n",
        "  case 3: print(\"Terça-Feira\")\n",
        "  case 4: print(\"Quarta-Feira\")\n",
        "  case 5: print(\"Quinta-Feira\")\n",
        "  case 6: print(\"Sexta-Feira\")\n",
        "  case 7: print(\"Sábado\")\n",
        "  case _:\n",
        "    print(\"Valor Inválido\")"
      ],
      "metadata": {
        "id": "x-xdP7tqwIMZ"
      },
      "execution_count": null,
      "outputs": []
    },
    {
      "cell_type": "code",
      "source": [
        "x = int(input(\"Insira um valor inteiro: \"))\n",
        "\n",
        "if(x % 2 == 0 and x % 3 == 0):\n",
        "  print(f\"O número {x} é divisível por 2 e por 3!\")\n",
        "elif(x % 2 == 0):\n",
        "  print(f\"O número {x} é divisível por 2!\")\n",
        "elif(x % 3 == 0):\n",
        "  print(f\"O número {x} é divisível por 3!\")\n",
        "else:\n",
        "  print(f\"O número {x} não é divisível nem por 2 nem por 3!\")"
      ],
      "metadata": {
        "id": "Qt35mkItx636"
      },
      "execution_count": null,
      "outputs": []
    },
    {
      "cell_type": "code",
      "source": [
        "nota1 = float(input(\"Informe a primeira nota do aluno: \"))\n",
        "nota2 = float(input(\"Informe a segunda nota do aluno: \"))\n",
        "\n",
        "media = float((nota1 + nota2) / 2)\n",
        "\n",
        "print(f\"Media: {media:.1f}\")\n",
        "if(media >= 7):\n",
        "  print(\"Aprovado!\")\n",
        "elif(media < 7 and media >= 4):\n",
        "  exame = float(input(\"Informe a nota do exame: \"))\n",
        "  media = float((nota1 + nota2 + exame) / 2)\n",
        "  print(f\"Média final: {media:.1f}\")\n",
        "  if(media >= 7):\n",
        "    print(\"Aprovado!!!\")\n",
        "  else:\n",
        "    print(\"Reprovado!!!\")\n",
        "else:\n",
        "  print(\"Reprovado!!!\")"
      ],
      "metadata": {
        "id": "YO1Zp7hhzdMh"
      },
      "execution_count": null,
      "outputs": []
    },
    {
      "cell_type": "code",
      "source": [
        "sal = float(input(\"Informe o salário do funcionário: \"))\n",
        "\n",
        "print(f\"Salário inicial: {sal:.2f}R$\")\n",
        "if(sal > 1250):\n",
        "  sal += sal*0.10\n",
        "else:\n",
        "  sal += sal*0.15\n",
        "print(f\"Salário final: {sal:.2f}R$\")"
      ],
      "metadata": {
        "id": "AcHrkvrA04qT"
      },
      "execution_count": null,
      "outputs": []
    },
    {
      "cell_type": "code",
      "source": [
        "idade = int(input(\"Informe sua idade: \"))\n",
        "\n",
        "if(idade < 16):\n",
        "  print(\"Não pode votar!\")\n",
        "else:\n",
        "  if(idade >= 18 and idade <= 70):\n",
        "    print(\"Voto obrigatório!\")\n",
        "  else:\n",
        "    print(\"Voto facultativo\")"
      ],
      "metadata": {
        "id": "nXFYYaQQ1_UY"
      },
      "execution_count": null,
      "outputs": []
    },
    {
      "cell_type": "code",
      "source": [
        "preco1 = float(input(\"Informe o primeiro preço: \"))\n",
        "preco2 = float(input(\"Informe o segundo preço: \"))\n",
        "preco3 = float(input(\"Informe o terceiro preço: \"))\n",
        "\n",
        "if(preco1 < preco2 and preco1 < preco3):\n",
        "  print(f\"O melhor valor é: {preco1:.2f}R$\")\n",
        "elif(preco2 < preco1 and preco2 < preco3):\n",
        "  print(f\"O melhor valor é: {preco2:.2f}R$\")\n",
        "elif(preco3 < preco1 and preco3 < preco2):\n",
        "  print(f\"O melhor valor é: {preco3:.2f}R$\")\n",
        "else:\n",
        "  print(\"Os valores informados são iguais!\")"
      ],
      "metadata": {
        "id": "Zdi6Joft2rNw"
      },
      "execution_count": null,
      "outputs": []
    },
    {
      "cell_type": "code",
      "source": [
        "x = int(input(\"Informe um número: \"))\n",
        "y = int(input(\"Informe outro número: \"))\n",
        "op = input(\"Informe a operação (adição/subtração/multiplicação/divisão) : \")\n",
        "\n",
        "if op.upper() == \"ADIÇÃO\":\n",
        "  print(x+y)\n",
        "elif op.upper() == \"SUBTRAÇÂO\":\n",
        "  print(x-y)\n",
        "elif op.upper() == \"MULTIPLICAÇÃO\":\n",
        "  print(x*y)\n",
        "elif op.upper() == \"DIVISÃO\":\n",
        "  print(x/y)\n",
        "else:\n",
        "  print(\"Valor de operação inválido!\")"
      ],
      "metadata": {
        "id": "czVlKn5K4M2Q"
      },
      "execution_count": null,
      "outputs": []
    },
    {
      "cell_type": "code",
      "source": [
        "idade = int(input(\"Informe sua idade: \"))\n",
        "\n",
        "if idade >= 18:\n",
        "  print(\"Você é maior de idade!\")\n",
        "else:\n",
        "  print(\"Você é menor de idade!\")"
      ],
      "metadata": {
        "id": "Dbj5IAuI5htn"
      },
      "execution_count": null,
      "outputs": []
    },
    {
      "cell_type": "code",
      "source": [
        "user = input(\"Informe o nome de usuário: \")\n",
        "password = int(input(\"Informe a senha: \"))\n",
        "\n",
        "if(password == 1234 and user == \"admin\"):\n",
        "  print(\"Login bem-sucedido!\")\n",
        "else:\n",
        "  print(\"Nome de usuário ou senha incorretos!\")"
      ],
      "metadata": {
        "id": "5rILajfu5yV_"
      },
      "execution_count": null,
      "outputs": []
    },
    {
      "cell_type": "code",
      "source": [
        "year = int(input(\"Informe um ano: \"))\n",
        "\n",
        "if((year % 4 == 0 and year % 100 != 0) or (year % 4 == 0 and year % 400 == 0)):\n",
        "  print(f\"{year} é bissexto\")\n",
        "else:\n",
        "  print(f\"{year} não é bissexto\")"
      ],
      "metadata": {
        "id": "HCeohXzC6rqn"
      },
      "execution_count": null,
      "outputs": []
    },
    {
      "cell_type": "code",
      "source": [
        "grade = int(input(\"Informe a nota do aluno: \"))\n",
        "\n",
        "if grade >= 90 and grade <= 100:\n",
        "  print(\"A\")\n",
        "elif grade >= 80 and grade <= 89:\n",
        "  print(\"B\")\n",
        "elif grade >= 70 and grade <= 79:\n",
        "  print(\"C\")\n",
        "elif grade >= 60 and grade <= 69:\n",
        "  print(\"D\")\n",
        "elif grade < 60:\n",
        "  print(\"E\")\n",
        "\n",
        "else:\n",
        "  print(\"Nota inválida!\")"
      ],
      "metadata": {
        "id": "AWkCvgSl7hQg"
      },
      "execution_count": null,
      "outputs": []
    },
    {
      "cell_type": "code",
      "source": [
        "grade = float(input(\"Informe a nota do aluno: \"))\n",
        "\n",
        "if grade >= 9 and grade <= 10:\n",
        "  print(\"A\")\n",
        "elif grade >= 8 and grade <= 8.9:\n",
        "  print(\"B\")\n",
        "elif grade >= 7 and grade <= 7.9:\n",
        "  print(\"C\")\n",
        "elif grade >= 6 and grade <= 6.9:\n",
        "  print(\"D\")\n",
        "elif grade < 6:\n",
        "  print(\"F\")"
      ],
      "metadata": {
        "id": "4ZSNiRfX9LR-"
      },
      "execution_count": null,
      "outputs": []
    },
    {
      "cell_type": "code",
      "source": [
        "purchase = float(input(\"Insira o valor da compra: \"))\n",
        "\n",
        "if(purchase >= 100 and purchase <= 500):\n",
        "  purchase -= purchase * 0.05\n",
        "  print(\"Desconto de 5%!\")\n",
        "elif(purchase > 500):\n",
        "  purchase -= purchase * 0.10\n",
        "  print(\"Desconto de 10%!\")\n",
        "\n",
        "print(f\"Valor final da compra: {purchase:.2f}R$\")"
      ],
      "metadata": {
        "id": "TOC9NPSv-syd"
      },
      "execution_count": null,
      "outputs": []
    },
    {
      "cell_type": "code",
      "source": [
        "weight = float(input(\"Informe seu peso: \"))\n",
        "height = float(input(\"Informe sua altura: \"))\n",
        "\n",
        "BMI = float(weight / (height * height))\n",
        "\n",
        "print(f\"Seu IMC é: {BMI:.1f}\")\n",
        "if(BMI <= 16.9):\n",
        "  print(\"Muito abaixo do peso!\")\n",
        "elif(BMI >= 17 and BMI <= 18.4):\n",
        "  print(\"Abaixo do peso\")\n",
        "elif(BMI >= 18.5 and BMI <= 24.9):\n",
        "  print(\"Peso normal\")\n",
        "elif(BMI >= 25 and BMI <= 29.9):\n",
        "  print(\"Acima do peso\")\n",
        "elif(BMI >= 30 and BMI <= 34.9):\n",
        "  print(\"Obesidade grau 1\")\n",
        "elif(BMI <= 35 and BMI <= 40):\n",
        "  print(\"Obesidade grau 2\")\n",
        "else:\n",
        "  print(\"Obesidade grau 3\")"
      ],
      "metadata": {
        "id": "0oPnARTi_4CF"
      },
      "execution_count": null,
      "outputs": []
    }
  ]
}