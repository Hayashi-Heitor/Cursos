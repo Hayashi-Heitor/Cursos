{
  "nbformat": 4,
  "nbformat_minor": 0,
  "metadata": {
    "colab": {
      "provenance": []
    },
    "kernelspec": {
      "name": "python3",
      "display_name": "Python 3"
    },
    "language_info": {
      "name": "python"
    }
  },
  "cells": [
    {
      "cell_type": "code",
      "execution_count": null,
      "metadata": {
        "id": "1p4gNzo8x7eX"
      },
      "outputs": [],
      "source": [
        "dicionario = {\"nomes\" : [\"Marcelo\", \"Lucas\", \"André\"], \"idade\" : [18, 23, 12]}\n",
        "idades = dicionario.get(\"idade\")\n",
        "nomes = dicionario.get(\"nomes\")\n",
        "print (nomes, idades)"
      ]
    },
    {
      "cell_type": "code",
      "source": [
        "dicionario = {}\n",
        "dicionario[\"Numero12\"] = 12\n",
        "dicionario[\"Numero2\"] = 2\n",
        "dicionario[\"Numero5\"] = 5\n",
        "print(dicionario)"
      ],
      "metadata": {
        "id": "OAL2gsAF01S6"
      },
      "execution_count": null,
      "outputs": []
    },
    {
      "cell_type": "code",
      "source": [
        "frutas = {\"Maça\" : \"Vermelha\", \"Melancia\" : \"Verde\", \"Laranja\" : \"Laranja\"}\n",
        "fruta = input(\"Informe uma fruta: \")\n",
        "if fruta in frutas:\n",
        "  print(frutas[fruta])\n",
        "else:\n",
        "  print(\"Essa fruta ainda não foi registrada\")"
      ],
      "metadata": {
        "id": "j-40rgBV1rkg"
      },
      "execution_count": null,
      "outputs": []
    },
    {
      "cell_type": "code",
      "source": [
        "frutas = {\"Maça\" : \"Vermelha\", \"Melancia\" : \"Verde\", \"Laranja\" : \"Laranja\"}\n",
        "del frutas[\"Maça\"]\n",
        "print(frutas)"
      ],
      "metadata": {
        "id": "UUQoiuhU2SkB"
      },
      "execution_count": null,
      "outputs": []
    },
    {
      "cell_type": "code",
      "source": [
        "paises = {\"Brasil\": \"Brasília\", \"Alemanha\": \"Berlim\", \"Japão\": \"Tóquio\"}\n",
        "for pais, capital in paises.items():\n",
        "  print(pais,\":\", capital)"
      ],
      "metadata": {
        "id": "30q5nFye3D2g"
      },
      "execution_count": null,
      "outputs": []
    },
    {
      "cell_type": "code",
      "source": [
        "notas = {\"nota1\" : 5.3, \"nota2\" : 6.2, \"nota3\" : 2.3}\n",
        "soma = sum(notas.values())\n",
        "media = soma / len(notas)\n",
        "print(f\"A média é: {media:.2f}\")"
      ],
      "metadata": {
        "id": "Cxen7Kli3eHh"
      },
      "execution_count": null,
      "outputs": []
    },
    {
      "cell_type": "code",
      "source": [
        "traducoes = {\"Olá\" : \"Hello\", \"Bom dia\" : \"Good Morning\"}\n",
        "frase_traduzida = []\n",
        "palavra = input(\"Digite uma palavra: \")\n",
        "for palavra in frase:\n",
        "  if palavra in traducoes:\n",
        "    frase_traduzida.append(traducoes[palavra])\n",
        "  else:\n",
        "    frase_traduzida.append(palavra)\n",
        "print(\"Tradução: \", \"\".join(frase_traduzida))"
      ],
      "metadata": {
        "id": "-VYmjtmoALC0"
      },
      "execution_count": null,
      "outputs": []
    }
  ]
}
